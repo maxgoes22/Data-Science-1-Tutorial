{
 "cells": [
  {
   "cell_type": "markdown",
   "id": "6a340a6c-c2df-4cc0-b6fe-5975943a1118",
   "metadata": {},
   "source": [
    "# Pandas Plots\n",
    "\n",
    "## Line Plot\n",
    "`.plot()`\n",
    "\n",
    "## Bar Plot\n",
    "`.plot.bar()`  \n",
    "`.plot.(kind ='bar')`\n",
    "* presents categorical data with rectangular bars with heights or lengths proportional to the values that they represent\n",
    "* *stacked barplot*:\n",
    "   * `.plot.(kind ='bar', stacked =True)`\n",
    "   * show the distribution of a second categorical variable within each bar\n",
    "\n",
    "## Pie Plot\n",
    "`.plot.pie()`  \n",
    "`.plot.(kind ='pie')`\n",
    "*  circular statistical graphic which is divided into slices to illustrate numerical proportion.\n",
    "\n",
    "## Scatter Plot\n",
    "`.plot.scatter()`  \n",
    "`.plot.(kind ='scatter')`\n",
    "* plot in which the values of two variables are plotted along two axes, the pattern of the resulting points revealing any correlation present\n",
    "\n",
    "## Histogram\n",
    "`.hist()`\n",
    "* univariate plot (a plot that displays one variable) that groups a numeric variable into bins and displays the number of observations that fall within each bin\n",
    "* useful tool for getting a sense of the distribution of a numeric variable\n",
    "\n",
    "## Boxplot\n",
    "`.boxplot()`\n",
    "* method for graphically depicting groups of numerical data through their quartiles\n",
    "* box extends from the Q1 to Q3 quartile values of the data, with a line at the median (Q2)\n",
    "* whiskers extend from the edges of box to show the range of the data\n",
    "* position of the whiskers is set by default to 1.5*IQR from the edges of the box, where IQR is Interquartile range\n",
    "* Outlier points are those past the end of the whiskers\n",
    "* displays distribution of data based on a five number summary (“minimum”, first quartile (Q1), median, third quartile (Q3), and “maximum”).\n",
    "* shows outliers and what their values are\n",
    "* tells if the data is symmetrical, how tightly the data is grouped, and if and how the data is skewed\n",
    "* *side-by-side boxplot*: takes a numeric variable and splits it on based on some categorical variable, drawing a different boxplot for each level of the categorical variable"
   ]
  },
  {
   "cell_type": "markdown",
   "id": "30357a5a-e17d-4bb2-8e98-06c5cd3fd96b",
   "metadata": {},
   "source": [
    "# Matplotlib\n",
    "\n"
   ]
  }
 ],
 "metadata": {
  "kernelspec": {
   "display_name": "Python 3 (ipykernel)",
   "language": "python",
   "name": "python3"
  },
  "language_info": {
   "codemirror_mode": {
    "name": "ipython",
    "version": 3
   },
   "file_extension": ".py",
   "mimetype": "text/x-python",
   "name": "python",
   "nbconvert_exporter": "python",
   "pygments_lexer": "ipython3",
   "version": "3.12.0"
  }
 },
 "nbformat": 4,
 "nbformat_minor": 5
}
