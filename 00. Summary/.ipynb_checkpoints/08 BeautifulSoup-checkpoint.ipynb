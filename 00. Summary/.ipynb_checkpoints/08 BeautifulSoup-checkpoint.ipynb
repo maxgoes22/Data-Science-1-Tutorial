{
 "cells": [
  {
   "cell_type": "markdown",
   "id": "7db55911-7fa9-4e19-86c2-f40d06ce1afb",
   "metadata": {},
   "source": [
    "# Web Scraping"
   ]
  },
  {
   "cell_type": "markdown",
   "id": "9d3fcde5-b26f-42ea-be81-0b31ff7cc866",
   "metadata": {},
   "source": [
    "## Data Access Schemes\n",
    "* Bulk downloads\n",
    "* API access\n",
    "* Web Scraping\n",
    "\n",
    "\n",
    "\n",
    "### API (Application Programming Interface)\n",
    "* set of rules, protocols, and tools that allows different software applications to communicate with each other\n",
    "* defines the methods and data formats that developers can use to interact with a software component, service, or system\n",
    "<br>\n",
    "* Interoperability: between different software systems, allowing to exchange data and perform actions\n",
    "* Abstraction: abstract the underlying implementation details of a system, providing a simplified interface to work with\n",
    "* Reuse and Modularity: promote code reuse and modularity\n",
    "* Standardization: follow industry standards and conventions, ensures consistency and comparability"
   ]
  },
  {
   "cell_type": "markdown",
   "id": "cc80a5c4-42e1-42df-bdda-400434705313",
   "metadata": {},
   "source": [
    "## HTTP (Hyper Text Transfer Protocol)\n",
    "\n",
    "### Basics of Protocol\n",
    "* A request-response protocol for communications between clients and servers\n",
    "* used for communication between web browsers and web servers\n",
    "* Request\n",
    "    * `GET` HTTP request is mostly used for quering data from a server\n",
    "    * `POST` and `PUT` HTTP requests are mostly used for sending data to a server\n",
    "\n",
    "* other HTTP requests are available: `DELETE`, `OPTIONS` etc.\n",
    "\n",
    "\n",
    "## HTML (Hypertext Markup Language)\n",
    "* markup language used to create and structure web pages\n",
    "* consists of a series of elements (tags) that define the structure and content of a web page\n",
    "* HTML documents are interpreted by web browsers, which render the content and display it to users\n",
    "* HTML *Element* is an individual component of an HTML document or web page\n",
    "\n",
    "\n",
    "```HTML\n",
    "<!DOCTYPE html> \n",
    "<html>\n",
    "    <head>\n",
    "        <title>\n",
    "            My beautiful web page!\n",
    "        </title>\n",
    "    </head> \n",
    "    <body>\n",
    "        Here is my content.\n",
    "    </body>\n",
    "</html>\n",
    "```\n",
    "\n",
    "<img src=\"./08.1 images/html_elements.png\" alt=\"HTTP Steps\" style=\"width:70h0px;\"/>\n",
    "\n",
    "\n",
    "### Building blocks of an HTML element\n",
    "\n",
    "* Tags begin with < and end with >\n",
    "* Usually occur in pairs:\n",
    "    ```HTML\n",
    "    <p> Wow! </p>\n",
    "    ```\n",
    "* Elements can be nested: \n",
    "    ```HTML\n",
    "    <p>This is a <em>really</em> interesting paragraph.</p>\n",
    "    ```\n",
    "* Some tags never occur in pairs: usual to use trailing slash, but it is not necessary \n",
    "    ```HTML\n",
    "    <img src=\"photo.jpg\" />\n",
    "    ```\n",
    "* Tags may have one ore more attributes\n",
    "    ```HTML\n",
    "    <a href=\"contact.html\">Contact us</a>\n",
    "    ```\n",
    "\n",
    "### Noteworthy tags\n",
    "\n",
    "* `<h1>`, ... , `<h6>` - heading,\n",
    "* `<p>` - paragraph of text,\n",
    "* `<a>` - link, typically displayed as underlined, blue text\n",
    "    ```HTML\n",
    "    <a href=\"http://www.example.com/\">An example link</a>\n",
    "    ```\n",
    "* `<span>` - arbitrary span of text, typically within a larger containing element like `<p>`\n",
    "* `<div>` - arbitrary division within the document used for grouping and containing related elements\n",
    "* Lists\n",
    "  * `<ul>` - unordered lists (e.g., bulleted lists)\n",
    "  * `<ol>` - ordered lists (often numbered) \n",
    "  * `<li>` - list items within `<ul>` and `<ol>`\n",
    "      ```HTML\n",
    "      <ul>\n",
    "          <li> Item 1 </li>\n",
    "          <li> Item 2 </li>\n",
    "      </ul>\n",
    "      ```\n",
    "\n",
    "## Attributes\n",
    "\n",
    "* HTML elements can be assigned attributes by including property/value pairs in the opening tag\n",
    "    ```HTML\n",
    "    <tagname property=\"value\"></tagname>\n",
    "    ```\n",
    "* E.g., a link can be given an href attribute, whose value specifies the URL for that link\n",
    "    ```HTML\n",
    "    <a href=\"http://d3js.org/\">The D3 website</a>\n",
    "    ```    ```"
   ]
  },
  {
   "cell_type": "markdown",
   "id": "744651c9-2580-4171-80bb-7ee753445e4b",
   "metadata": {},
   "source": [
    "## Classes and Ids\n",
    "\n",
    "*Classes* and *ids* attributes allow to identify an element in an HTML document. This is useful for applying styles and manipulating an element\n",
    "\n",
    "* `id` attribute identifies an element in HTML document. \n",
    "    * Once a name is used as the value of an id attribute of an HTML element, it **can not be** used as the value of any other element's id attribute.\n",
    "    ```HTML\n",
    "    <div id=\"content\">This is content</div>\n",
    "    <div id=\"button\">This is button</div>\n",
    "    ```\n",
    "<br> \n",
    "\n",
    "* `class` attribute identifies an element in HTML document:\n",
    "    * This happens when the value of `class` attribute of an HTML element matches the name of class. \n",
    "    * Usually classes are used to apply styles.\n",
    "    * Elements of the same page can be assigned to multiple classes and multiple elements can have the same class\n",
    "\n",
    "    ```HTML\n",
    "    <p class=\"awesome\">Awe-inspiring paragraph</p>\n",
    "    <p class=\"uplifting awesome\">\n",
    "        Awe-inspiring uplifting paragraph\n",
    "    </p>\n",
    "    <p class=\"awesome\">Awe-inspiring paragraph</p>\n",
    "    ```"
   ]
  },
  {
   "cell_type": "markdown",
   "id": "16582220-7603-4450-9420-6e5daefee603",
   "metadata": {},
   "source": [
    "<img src=\"./08.1 images/DOM.png\" alt=\"DOM\" style=\"height:400px;\"/>"
   ]
  },
  {
   "cell_type": "markdown",
   "id": "78c99a94-2c34-483c-9f33-c1a1e349c4e9",
   "metadata": {},
   "source": [
    "<img src=\"./08.1 images/DOM_element.png\" alt=\"DOM element\"/>"
   ]
  },
  {
   "cell_type": "markdown",
   "id": "65b8e931-25af-4ecf-bc73-a35d0d23e242",
   "metadata": {},
   "source": [
    "# BeautifulSoup"
   ]
  },
  {
   "cell_type": "markdown",
   "id": "b7bee4d8-c7cb-454d-b420-4caf27fc2d69",
   "metadata": {},
   "source": [
    "* Beautiful Soup (BS4) is a parsing library that can use different parsers.\n",
    "\n",
    "* **Pros**\n",
    "    * Small learning curve, easy to learn.\n",
    "    * If you need to handle messy documents, choose Beautiful Soup.\n",
    "\n",
    "<br> \n",
    "\n",
    "* **Cons**\n",
    "    * If the default parser chosen for you is incorrect, they may incorrectly parse results without warnings, which can lead to disastrous results.\n",
    "    * Projects built using bs4 might not be flexible in terms of extensibility.\n",
    "    * You need to import multiprocessing  to make it run quicker\n",
    "\n",
    "\n",
    "## Loading and examining HTML page\n",
    "\n",
    "Import \n",
    "* `requests` for loading web pages\n",
    "* `math` for math operations\n",
    "* `bs4` for loading *BeautifulSoup* for working with HTML"
   ]
  },
  {
   "cell_type": "code",
   "execution_count": 1,
   "id": "807e2295-a23d-49a6-9764-8164c408f072",
   "metadata": {},
   "outputs": [],
   "source": [
    "import requests\n",
    "import bs4\n",
    "import math"
   ]
  },
  {
   "cell_type": "code",
   "execution_count": 2,
   "id": "40a00c04-23f0-4321-8f2c-ff02bd864e9b",
   "metadata": {},
   "outputs": [
    {
     "name": "stdout",
     "output_type": "stream",
     "text": [
      "<!DOCTYPE HTML PUBLIC \"-//W3C//DTD HTML 4.0 Transitional//EN\"\n",
      "\"http://www.w3.org/TR/REC-html40/transitional.dtd\">\n",
      "<html>\n",
      "<head>\n",
      "<meta http-equiv=\"Content-Type\" content=\"text/html; charset=utf-8\">\n",
      "<title>Beautiful Soup: We called him Tortoise because he taught us.</title>\n",
      "<link rev=\"made\" href=\"mailto:leonardr@segfault.org\">\n",
      "<link rel=\"stylesheet\" type=\"text/css\" href=\"/nb/themes/Default/nb.css\">\n",
      "<meta name=\"Description\" content=\"Beautiful Soup: a library designed for screen-scraping HTML and XML\n",
      "10563\n"
     ]
    }
   ],
   "source": [
    "url = 'http://www.crummy.com/software/BeautifulSoup'\n",
    "source = requests.get(url).text\n",
    "print(source[:500])\n",
    "print(len(source))\n",
    "#print(source.status_code)"
   ]
  },
  {
   "cell_type": "code",
   "execution_count": 9,
   "id": "f8d4fb4c-7be7-4d25-aab0-5ed915de4b33",
   "metadata": {},
   "outputs": [
    {
     "name": "stdout",
     "output_type": "stream",
     "text": [
      "<html>\n",
      " <head>\n",
      "  <title>\n",
      "   The Dormouse's story\n",
      "  </title>\n",
      " </head>\n",
      " <body>\n",
      "  <p class=\"title\">\n",
      "   <b>\n",
      "    The Dormouse's story\n",
      "   </b>\n",
      "  </p>\n",
      "  <p class=\"story\">\n",
      "   There were three little sisters; and their names were\n",
      "   <a class=\"sister\" href=\"http://example.com/elsie\" id=\"link1\">\n",
      "    Elsie\n",
      "   </a>\n",
      "   ,\n",
      "   <a class=\"sister\" href=\"http://example.com/lacie\" id=\"link2\">\n",
      "    Lacie\n",
      "   </a>\n",
      "   and\n",
      "   <a class=\"sister\" href=\"http://example.com/tillie\" id=\"link3\">\n",
      "    Tillie\n",
      "   </a>\n",
      "   ;\n",
      "and they lived at the bottom of a\n",
      "   <a href=\"./well\">\n",
      "    well\n",
      "   </a>\n",
      "   .\n",
      "  </p>\n",
      "  <p class=\"story\">\n",
      "   ...\n",
      "  </p>\n",
      "  The\n",
      "  <a>\n",
      "   end\n",
      "  </a>\n",
      " </body>\n",
      " <html>\n",
      " </html>\n",
      "</html>\n",
      "\n"
     ]
    }
   ],
   "source": [
    "html_doc = \"\"\"\n",
    "<html><head><title>The Dormouse's story</title></head>\n",
    "<body>\n",
    "<p class=\"title\"><b>The Dormouse's story</b></p>\n",
    "\n",
    "<p class=\"story\">There were three little sisters; and their names were\n",
    "<a href=\"http://example.com/elsie\" class=\"sister\" id=\"link1\">Elsie</a>,\n",
    "<a href=\"http://example.com/lacie\" class=\"sister\" id=\"link2\">Lacie</a> and\n",
    "<a href=\"http://example.com/tillie\" class=\"sister\" id=\"link3\">Tillie</a>;\n",
    "and they lived at the bottom of a \n",
    "<a href=\"./well\">well</a>.</p>\n",
    "\n",
    "<p class=\"story\">...</p>\n",
    "The <a>end</a>\n",
    "</body>\n",
    "<html/>\n",
    "\"\"\"\n",
    "\n",
    "type(html_doc)\n",
    "\n",
    "from bs4 import BeautifulSoup\n",
    "\n",
    "#  BeautifulSoup object, \n",
    "# which represents the document as a nested data structure:\n",
    "soup = BeautifulSoup(html_doc, 'html.parser')\n",
    "\n",
    "print(soup.prettify())"
   ]
  },
  {
   "cell_type": "code",
   "execution_count": 10,
   "id": "5b19241b-6cb3-40cf-9f43-9a4d88d3d683",
   "metadata": {},
   "outputs": [
    {
     "name": "stdout",
     "output_type": "stream",
     "text": [
      "http://example.com/elsie\n",
      "http://example.com/lacie\n",
      "http://example.com/tillie\n",
      "./well\n",
      "None\n"
     ]
    }
   ],
   "source": [
    "# extracting all the URLs found within a page’s tags:\n",
    "for link in soup.find_all('a'):\n",
    "    print(link.get('href'))"
   ]
  },
  {
   "cell_type": "code",
   "execution_count": 11,
   "id": "76f19756-45ba-4e5a-b9fc-8ae6dff96c43",
   "metadata": {},
   "outputs": [
    {
     "name": "stdout",
     "output_type": "stream",
     "text": [
      "\n",
      "The Dormouse's story\n",
      "\n",
      "The Dormouse's story\n",
      "There were three little sisters; and their names were\n",
      "Elsie,\n",
      "Lacie and\n",
      "Tillie;\n",
      "and they lived at the bottom of a \n",
      "well.\n",
      "...\n",
      "The end\n",
      "\n",
      "\n",
      "\n"
     ]
    }
   ],
   "source": [
    "# extracting all the text from a page:\n",
    "print(soup.get_text())\n"
   ]
  },
  {
   "cell_type": "code",
   "execution_count": null,
   "id": "2fb158a0-3356-4419-971d-8cfccab569ed",
   "metadata": {},
   "outputs": [],
   "source": []
  }
 ],
 "metadata": {
  "kernelspec": {
   "display_name": "Python 3 (ipykernel)",
   "language": "python",
   "name": "python3"
  },
  "language_info": {
   "codemirror_mode": {
    "name": "ipython",
    "version": 3
   },
   "file_extension": ".py",
   "mimetype": "text/x-python",
   "name": "python",
   "nbconvert_exporter": "python",
   "pygments_lexer": "ipython3",
   "version": "3.9.12"
  }
 },
 "nbformat": 4,
 "nbformat_minor": 5
}
