{
 "cells": [
  {
   "cell_type": "markdown",
   "id": "e6c3daa7-be97-4c18-8e82-9519c6b6e221",
   "metadata": {},
   "source": [
    "# Brackets\n",
    "\n",
    "**Round Brackets `()`**\n",
    "- function calls: `function_name(argument)`\n",
    "- tuple creation: `my_tuple = (1,2,3)`\n",
    "\n",
    "**Square Brackets `[]`**\n",
    "- list creation: `my_list = [1,2,3]`\n",
    "- accessing elements: `my_list[0]`\n",
    "- list comprehensions: `[x**2 for x in range(5)]`\n",
    "- accessing a character string: `hello[0]`\n",
    "\n",
    "**Curly Brackets `{}`**\n",
    "- dictionary creation: `my_dict = {'key1': 'value1', 'key2': 'value2'}`\n",
    "- set creation: `my_set = {1, 2, 3, 4}`\n",
    "- code blocks\n",
    "- string formatting (as placeholder indication):  \n",
    "  `name = \"Alice\"`  \n",
    "   `age = 30`  \n",
    "   `print(\"Name: {}, Age: {}\".format(name, age))`"
   ]
  },
  {
   "cell_type": "markdown",
   "id": "51db63fa-dada-48a3-8e88-dd338c261fe7",
   "metadata": {},
   "source": [
    "# Data Structures\n",
    "\n",
    "- Mutable: Can be modified after creation.  \n",
    "- Ordered: Elements maintain the order in which they were added. Important to know when mutating them.\n",
    "- Unique: Contain only unique elements i.e. duplicate elements are automatically removed.\n",
    "- Accessed by index: Elements can be accessed using square brackets and an index.\n",
    "\n",
    "|Structure    | Usage | Mutable | Ordered | Unique | Access | Syntax |\n",
    "|-------------|-------|---------|---------|--------|--------|--------|\n",
    "| **Tuples**  | for a collection of data, that should not change (e.g. coordinates, color codes); <br>  often used to return multiple values from a function | No | Yes | | Index | `( )` |\n",
    "| **Lists** | for a collection of items, that can change (e.g. task lists, user inputs); <br> often used in loops and comprehensions for data manipulation | Yes | Yes | No | Index |  `[ ]` |\n",
    "| **Sets** | to ensure unique elements; <br> to perform set operations (e.g. intersection, union, or difference) | Yes | No | Yes | *no indexing* | `{ }` or `set()` |\n",
    "| **Dictionaries** | Key-value pairs, to map keys to corresponding values <br> for fast lookups and retrieval <br> (store data in key-value pairs, each key is unique within the dictionary) |Yes | No | Yes | Key | `{ }`|\n",
    "| **Array** <br> (numpy) |  used for numerical computations and operations on large datasets <br> due to their efficiency and optimized implementations | Yes | Yes | No | Index | `numpy.array([])`|\n",
    "\n",
    "\n",
    "\n",
    "**Sequence Types:** Tuples, Strings, Lists  \n",
    "**Immutable Objects:** `int`, `float`, `complex`, `bool`, `string`, `tuple`  \n",
    "**Mutable Objects:** `list`, `dict`, `set`  \n"
   ]
  },
  {
   "cell_type": "markdown",
   "id": "62296d95-01ee-4280-87b2-c0ade4e665ab",
   "metadata": {},
   "source": [
    "**Difference between Numpy arrays and lists:**\n",
    "- NumPy arrays can only contain elements of the same data type (e.g., integers, floats)\n",
    "- Python lists can contain elements of different data types \n",
    "- NumPy arrays allow for more efficient storage and processing of numerical data\n",
    "- NumPy arrays are more efficient in terms of memory usage and computational performance compared to Python lists, especially for large datasets\n",
    "- NumPy arrays typically consume less memory than Python lists, especially for large datasets"
   ]
  },
  {
   "cell_type": "markdown",
   "id": "9d48afb7-3c51-447c-ae3f-997af50db920",
   "metadata": {},
   "source": [
    "# Object-oriented programming\n",
    "*means of structuring programs so that properties and behaviors are bundled into individual objects*  \n",
    "In Python, everything is an object.\n",
    "\n",
    "## Object\n",
    "* contains variables and methods\n",
    "* collection of data (variables) and methods (functions) that operate on the data\n",
    "* an instance of a class, which serves as a blueprint for creating objects\n",
    "* used to model and represent real-world entities and concepts in a program.\n",
    "* Object Oriented Design focuses on \n",
    "    * *Encapsulation*: packing of data and functions operating on that data into a single component and restricting the access to some of the object’s components.\n",
    "    * *Inheritance*: allows defining a class (child class) that inherits all the methods and properties from another class.\n",
    "    * *Polymorphism*: allows defining new methods in the child class with the same name as defined in their parent class (well... its much more complex than that, but enough for our use cases).\n",
    "\n",
    "**Key Points:**\n",
    "\n",
    "* **Instances of Classes**\n",
    "    * Objects are instances of classes\n",
    "    * A class defines the behavior and structure of objects, <br> including what data attributes they have and what methods can be called on them.\n",
    "* **Attributes**\n",
    "    * Objects have attributes, which are data stored within the object.\n",
    "    * These attributes can be accessed and modified using dot notation (object.attribute).\n",
    "    * Attributes can be variables, lists, dictionaries, functions, or any other data type.\n",
    "* **Methods**\n",
    "    * Objects can have methods, which are functions that operate on the object's data.\n",
    "    * Methods are defined within the class and can be called on the object using dot notation (object.method()).\n",
    "* **Identity**\n",
    "    * Each object in Python has a unique identity, which can be obtained using the id() function.\n",
    "    * This identity is guaranteed to be unique and constant for the lifetime of the object.\n",
    "* **Type**\n",
    "    * Every object in Python has a type, which specifies the class of the object.\n",
    "    * The type of an object can be obtained using the type() function.\n",
    "* **Dynamic Nature**\n",
    "    * Python is a dynamically-typed language, which means that the type of an object is determined at runtime and can change during the execution of the program.\n",
    " \n",
    "\n",
    "## Class\n",
    "\n",
    "* A *class* is a special data type which defines how to build a certain kind of object which may contain *variables* and *methods*.\n",
    "* *Objects* are instances of a *class* that are created following the definition given inside of the class."
   ]
  },
  {
   "cell_type": "markdown",
   "id": "ff4800e9-c4b4-4b1d-b080-35fce842e1f4",
   "metadata": {},
   "source": [
    "# Method vs. Function\n",
    "\n",
    "\n",
    "**Function:**\n",
    "* block of code defined using the `def` keyword.\n",
    "* can take zero or more arguments, perform some operations based on those arguments, and optionally return a value using the return statement\n",
    "* can be called from anywhere in the code where they are in scope\n",
    "* not associated with any specific object or class\n",
    "\n",
    "**Method:**\n",
    "* function that belongs to an object\n",
    "* accessed using dot notation `(.)`\n",
    "* called on an instance of a class\n",
    "* defined within a class and are associated with instances (objects) of that class or with the class itself (in the case of class methods and static methods)\n",
    "* can access and modify the data (attributes) of the object to which they belong\n",
    "* can take zero or more arguments, just like functions"
   ]
  },
  {
   "cell_type": "code",
   "execution_count": null,
   "id": "90a2eab5-c0ed-47da-b12d-22118976f436",
   "metadata": {},
   "outputs": [],
   "source": []
  }
 ],
 "metadata": {
  "kernelspec": {
   "display_name": "Python 3 (ipykernel)",
   "language": "python",
   "name": "python3"
  },
  "language_info": {
   "codemirror_mode": {
    "name": "ipython",
    "version": 3
   },
   "file_extension": ".py",
   "mimetype": "text/x-python",
   "name": "python",
   "nbconvert_exporter": "python",
   "pygments_lexer": "ipython3",
   "version": "3.12.0"
  }
 },
 "nbformat": 4,
 "nbformat_minor": 5
}
