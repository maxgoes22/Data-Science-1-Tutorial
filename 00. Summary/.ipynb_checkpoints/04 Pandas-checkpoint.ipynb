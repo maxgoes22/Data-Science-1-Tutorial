{
 "cells": [
  {
   "cell_type": "markdown",
   "id": "74438fed-0a8e-4be1-8a72-9887b1531aba",
   "metadata": {},
   "source": [
    "# Pandas"
   ]
  },
  {
   "cell_type": "markdown",
   "id": "8812b305-c8ce-4279-a273-b3de02df896c",
   "metadata": {},
   "source": [
    "* **Data manipulation**: to easily manipulate data, including selecting subsets of data, merging and joining datasets, transforming data, handling missing values\n",
    "* **Data cleaning**: provides tools for cleaning messy datasets by handling missing data, removing duplicates, and converting data types\n",
    "* **Data analysis**: statistical and mathematical functions for data analysis, including descriptive statistics, aggregation, grouping, and time series analysis\n",
    "* **Data visualization**: While Pandas itself does not provide visualization capabilities, it integrates seamlessly with visualization libraries like Matplotlib and Seaborn, allowing you to easily create plots and charts to visualize your data. (You can use matplotlib functions inside the pandas environment, without loading matplotlib)\n"
   ]
  },
  {
   "cell_type": "code",
   "execution_count": 1,
   "id": "aefe2470-a861-4fbe-9db5-d719f97768cf",
   "metadata": {},
   "outputs": [],
   "source": [
    "import pandas as pd\n",
    "import numpy as np"
   ]
  },
  {
   "cell_type": "markdown",
   "id": "96950adf-8c80-447b-8869-35d232eb4abc",
   "metadata": {},
   "source": [
    "## Series\n",
    "\n",
    "* A one-dimensional array-like object that can hold data of any type (integers, floats, strings, etc.). It is similar to a NumPy array but with additional functionalities.\n",
    "*  similar to an array, list, or column in a table\n",
    "*  It will assign a labeled index to each item in the Series. By default, each item will receive an index label from 0 to N, where N is the length of the Series minus one."
   ]
  },
  {
   "cell_type": "code",
   "execution_count": 4,
   "id": "c1eccd1f-bfef-4c58-9f03-a0c7b0c01cb1",
   "metadata": {},
   "outputs": [
    {
     "name": "stdout",
     "output_type": "stream",
     "text": [
      "0                     6\n",
      "1             shameless\n",
      "2                  3478\n",
      "3    Jeremy Allen White\n",
      "4                   839\n",
      "dtype: object\n",
      "G                     6\n",
      "O             shameless\n",
      "A                  3478\n",
      "L    Jeremy Allen White\n",
      "S                   839\n",
      "dtype: object\n"
     ]
    }
   ],
   "source": [
    "# create a series\n",
    "sir = pd.Series([6, 'shameless', 3478, 'Jeremy Allen White', 839])\n",
    "print(sir)\n",
    "\n",
    "# create series with specified index\n",
    "sir = pd.Series([6, 'shameless', 3478, 'Jeremy Allen White', 839], \n",
    "                index = ['G', 'O', 'A','L','S'])\n",
    "print(sir)"
   ]
  },
  {
   "cell_type": "code",
   "execution_count": 19,
   "id": "eb91e4b9-548e-471c-b6c8-b2aa40a9dddb",
   "metadata": {},
   "outputs": [
    {
     "name": "stdout",
     "output_type": "stream",
     "text": [
      "Chicago          1000.0\n",
      "New York         1300.0\n",
      "Portland          900.0\n",
      "San Francisco    1100.0\n",
      "Austin            450.0\n",
      "Boston              NaN\n",
      "dtype: float64\n",
      "1000.0\n",
      "Chicago    1000.0\n",
      "Austin      450.0\n",
      "dtype: float64\n",
      "Chicago          False\n",
      "New York         False\n",
      "Portland          True\n",
      "San Francisco    False\n",
      "Austin            True\n",
      "Boston           False\n",
      "dtype: bool\n",
      "Portland    900.0\n",
      "Austin      450.0\n",
      "dtype: float64\n",
      "Portland    900.0\n",
      "Austin      450.0\n",
      "dtype: float64\n",
      "55555555.0\n",
      "Chicago          1000.0\n",
      "New York            2.0\n",
      "Portland            2.0\n",
      "San Francisco       2.0\n",
      "Austin            450.0\n",
      "Boston              NaN\n",
      "dtype: float64\n",
      "False\n",
      "True\n",
      "Chicago          500.0\n",
      "New York           1.0\n",
      "Portland           1.0\n",
      "San Francisco      1.0\n",
      "Austin           225.0\n",
      "Boston             NaN\n",
      "dtype: float64\n",
      "Austin      NaN\n",
      "Chicago     NaN\n",
      "Portland    4.0\n",
      "dtype: float64\n"
     ]
    }
   ],
   "source": [
    "# dictionary to series\n",
    "dict = {'Chicago': 1000, 'New York': 1300, 'Portland': 900, 'San Francisco': 1100, 'Austin': 450, 'Boston': None}\n",
    "\n",
    "# Series uses dictionary keys as index\n",
    "city = pd.Series(dict)\n",
    "print(city)\n",
    "\n",
    "# use index to select specific element\n",
    "print(city['Chicago'])\n",
    "\n",
    "# use index to select specific elements -> double square brackets needed!\n",
    "print(city[['Chicago', 'Austin']])\n",
    "\n",
    "# boolean indexing\n",
    "less = city<1000\n",
    "print(less)\n",
    "\n",
    "print(city[less])\n",
    "print(city[city<1000])\n",
    "\n",
    "# edit series elements based on index\n",
    "city['Portland'] = 55555555\n",
    "print(city['Portland'])\n",
    "\n",
    "# edit series elements using boolean indexing\n",
    "city[city > 1000] = 2\n",
    "print(city)\n",
    "\n",
    "# boolean test if a specific element is in the Series\n",
    "print('Los Angeles' in city)\n",
    "print('Chicago' in city)\n",
    "\n",
    "# mathematical operations using scalars and functions\n",
    "print(city/2)\n",
    "np.square(city)\n",
    "\n",
    "# adding series with shared index\n",
    "print(city[['Chicago', 'Portland']] + city[['Austin', 'Portland']])\n",
    "\n",
    "\n"
   ]
  },
  {
   "cell_type": "markdown",
   "id": "19626081-3de0-4e34-9301-53fa976181d5",
   "metadata": {},
   "source": [
    "## DataFrame\n",
    "\n",
    "* two-dimensional labeled data structure with columns of potentially different types\n",
    "* similar to a spreadsheet or SQL table, and it is the primary object for data manipulation and analysis in Pandas\n",
    "* tabular data structure\n",
    "* group of Series objects that share an index i.e. the column names"
   ]
  },
  {
   "cell_type": "code",
   "execution_count": 21,
   "id": "22a58fb9-a608-4baf-afc6-78d899353473",
   "metadata": {},
   "outputs": [
    {
     "name": "stdout",
     "output_type": "stream",
     "text": [
      "   year     team  wins  losses\n",
      "0  2010    Bears    11       5\n",
      "1  2011    Bears     8       8\n",
      "2  2012    Bears    10       6\n",
      "3  2011  Packers    15       1\n",
      "4  2012  Packers    11       5\n",
      "5  2010    Lions     6      10\n",
      "6  2011    Lions    10       6\n",
      "7  2012    Lions     4      12\n"
     ]
    }
   ],
   "source": [
    "# dictionary to data frame\n",
    "\n",
    "dicttoframe = {'year': [2010, 2011, 2012, 2011, 2012, 2010, 2011, 2012], \n",
    "        'team': ['Bears', 'Bears', 'Bears', 'Packers', 'Packers', 'Lions', 'Lions', 'Lions'],\n",
    "        'wins': [11, 8, 10, 15, 11, 6, 10, 4],\n",
    "        'losses': [5, 8, 6, 1, 5, 10, 6, 12]}\n",
    "\n",
    "football = pd.DataFrame(dicttoframe, columns=['year', 'team', 'wins', 'losses'])\n",
    "print(football)\n"
   ]
  },
  {
   "cell_type": "code",
   "execution_count": 23,
   "id": "5085275c-67d6-4e49-b187-18c09939ce71",
   "metadata": {},
   "outputs": [
    {
     "name": "stdout",
     "output_type": "stream",
     "text": [
      "a,b,c,d\n",
      "0.33627233637218457,0.3250110687231613,0.0010196408377848298,0.40140189720154196\n",
      "0.980264968\n"
     ]
    }
   ],
   "source": [
    "# csv to dataframe\n",
    "csvtoframe = '06.2 df.csv'\n",
    "\n",
    "# open file in readmode\n",
    "readmode = open(csvtoframe, 'r')\n",
    "\n",
    "# read entire contents of the file into a string variable\n",
    "contentstring = readmode.read()\n",
    "\n",
    "# print characters of the file contents\n",
    "print(contentstring[:100])\n",
    "\n",
    "\n"
   ]
  },
  {
   "cell_type": "code",
   "execution_count": null,
   "id": "98ebb794-b920-461d-8d71-2505c30f9467",
   "metadata": {},
   "outputs": [],
   "source": []
  }
 ],
 "metadata": {
  "kernelspec": {
   "display_name": "Python 3 (ipykernel)",
   "language": "python",
   "name": "python3"
  },
  "language_info": {
   "codemirror_mode": {
    "name": "ipython",
    "version": 3
   },
   "file_extension": ".py",
   "mimetype": "text/x-python",
   "name": "python",
   "nbconvert_exporter": "python",
   "pygments_lexer": "ipython3",
   "version": "3.12.0"
  }
 },
 "nbformat": 4,
 "nbformat_minor": 5
}
