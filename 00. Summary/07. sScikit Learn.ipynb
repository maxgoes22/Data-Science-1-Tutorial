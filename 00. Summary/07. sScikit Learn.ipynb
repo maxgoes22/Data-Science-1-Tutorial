{
 "cells": [
  {
   "cell_type": "markdown",
   "id": "ba975dba-7f6c-4e88-89ee-aa70cdb92659",
   "metadata": {},
   "source": [
    "# SciKit Learn for Machine Learning\n",
    "\n",
    "* contains functions for predictive modeling\n",
    "* simple and efficient tools for data mining and data analysis\n",
    "* built on Numpy, SciPy and Matplotlib\n",
    "* open source\n",
    "\n",
    "### *What is ML?*\n",
    "* machine learning is a method of data analysis that automates analytical model building\n",
    "* using algorithms that iteratively learn from data, machine learning allows computers to find insights without being explicitly programmed where to look\n",
    "\n",
    "### *What is ML used for?*\n",
    "* fraud detection\n",
    "* web search results\n",
    "* real-time ads on web pages\n",
    "* prediction of equipment failure\n",
    "* new pricing models\n",
    "* network intrusion detection\n",
    "* recommendation engines\n",
    "* customer segmentation\n",
    "* text sentiment analysis\n",
    "* predicting customer churn\n",
    "* pattern and image recognition\n",
    "* email spam filtering\n",
    "* financial modeling"
   ]
  },
  {
   "cell_type": "markdown",
   "id": "9571712e-c99d-4201-82d7-36007a364b20",
   "metadata": {},
   "source": [
    "## Linear Regression\n",
    "\n",
    "```\n",
    "response = intercept + constant × explanatory\n",
    "```\n",
    "* prediction for continuous variables\n",
    "* predictive modeling technique **to predict numeric response variable** based on explanatory variable(s)\n",
    "* model is designed to fit a line that minimizes distances between all observed and corresponding predicted values\n",
    "    * most commonly used: Least Squares Minimization, minimze the sum of squared residuals\n",
    "    * residual is the difference between observation (y-value) and fitted line\n",
    "\n",
    "### Initiate Model\n",
    "`regression_model = linear_model.LinearRegression()`\n",
    "* instantiating an estimator object\n",
    "    * any object, that learns from data\n",
    "    * e.g. classification, regression, clustering  *(those are algorithms)*\n",
    "* creating an instance of particular algorithm that can be trained on data\n",
    "* initialisation parameters can be passed on in this step, otherwise default\n",
    "\n",
    "### Aim\n",
    "build a model capable of predicting a value of the dependent variable by feeding new data (that the model has not been trained on)\n",
    "* first: create model and train/fit on provided data (training data)\n",
    "* quality of the trained model is evaluated by comparing predicted values with actual values by running the model on the independent values from the original dataset\n",
    "* To avoid overfitting, the dataset is split in training and test sets\n",
    "    * overfitting happens, when the model if fitted too well, so it becomes less generalizable\n",
    "\n",
    "### Linear Regression Evaluation Metrics\n",
    "loss functions:\n",
    "* **Mean Absolute Error (MAE)**: average error\n",
    "* **Mean Squared Error (MSE)**: punishes larger errors, more sensitive to outliers and deviations from true values\n",
    "* **Root Mean Squared Error (RMSE)**: expressed in same units as target variable 'y', interpretable measure of the average magnitude of errors in the original units of the target variable\n"
   ]
  },
  {
   "cell_type": "markdown",
   "id": "f1164a3a-3e66-4dea-915b-eea75beffd5d",
   "metadata": {},
   "source": [
    "## General Machine Learning Process\n",
    "\n",
    "### Step 0: Preprocessing Data\n",
    "1. check for missing values\n",
    "    * data imputation: replace missing values with substitued values (e.g. mean by a category, general mean value, etc.)\n",
    "    * drop variable\n",
    "    * check with heatmap\n",
    "\n",
    "`DataFrame[DataFrame.isna().any(axis=1)]`\n",
    "\n",
    "* to filter rows from the DataFrame that contain at least one missing value in any column\n",
    "* `DataFrame.isna()`:\n",
    "    * generate DataFrame, where each element is `True`if it is missing in the original DataFrame, `False`otherwise\n",
    "    * creates a boolean mask with locations of missing values\n",
    "* `.any(axis=1)`:`\n",
    "    * returns `True` for rows wehre at least one element is `True`\n",
    "    * checks along axis 1 i.e. the rows\n",
    "* it is basically just boolean indexing to filter\n",
    "\n",
    "2. convert categorical features into dummies\n",
    "\n",
    "`pd.get_dummies()`\n",
    "\n",
    "* generates a seperate set of dummies/booleans for each category\n",
    "* argument `drop_first=`: drops first set of dummies\n",
    "    * dropped category can be interpreted as reference category\n",
    "\n",
    "\n",
    "### Step 1: Split Data into Training and Test Set i.e. Cross-Validation\n",
    "\n",
    "`X_train, X_test, y_train, y_test = train_test_split(covariates, dependent variable, train_size = 0.7, random_state = 101)`\n",
    "\n",
    "* `train_size=` or `test_size=`: share of observations for the training/test set (commonly used share is 0.7/0.3)\n",
    "* `random_state=`: random seed for reproducability\n",
    "* to avoid overfitting when evaluating the model\n",
    "* to evaluate predictive models by separating orginal sample into training set and test set\n",
    "    * training set: data the model will be trained on\n",
    "    * test set: data the trained model will predict, to evaluate model\n",
    "\n",
    "### Step 2: Train the Data\n",
    "*model* = `linear_model.LinearRegression()`  \n",
    "*model*`.fit(X =  , y=)`\n",
    "\n",
    "* `X= `: explanatory/independent variables\n",
    "* `y= `: outcome/dependent variable\n",
    "* Examine the Model: access attributes of the class\n",
    "    * `.intercept_`\n",
    "    * `.coef_`\n",
    "\n",
    "\n",
    "### Step 3: Predict Data\n",
    "\n",
    "*model*`.predict(X_train)`  \n",
    "*model*`.predict(X_test)`  \n",
    "\n",
    "* predict test and training data\n",
    "* use trained model to generate 'predictions' for already known values\n",
    "* include all coefficients used for training\n",
    "* vector of predictions will be for y, which was specified during training\n",
    "\n",
    "### Step 4: Evaluate the Model\n",
    "\n",
    "* MSE:\n",
    "    * `MSE_train = mean_squared_error(y_train_predictions, y_train)`  \n",
    "    * `MSE_test = mean_squared_error(y_test_predictions, y_test)`  \n",
    "* RMSE:\n",
    "    * `RMSE_train = mean_squared_error(y_train_predictions, y_train)**0.5`  \n",
    "    * `RMSE_test = mean_squared_error(y_test_predictions, y_test)**0.5`\n",
    "* compare errors between test and training\n",
    "    * if difference is too significant, threat of overfitting the model\n",
    "\n",
    "\n"
   ]
  },
  {
   "cell_type": "code",
   "execution_count": 1,
   "id": "647101c3-3e48-420c-83da-5863d34f51b1",
   "metadata": {},
   "outputs": [],
   "source": [
    "# imports entire linear submodule from sklearn\n",
    "# accessing stuff from there needs a prefix '.linearmodel.'\n",
    "from sklearn import linear_model\n",
    "\n",
    "# imports specific class from the linear submodule\n",
    "# method can be accessed without prefix\n",
    "from sklearn.linear_model import LinearRegression\n",
    "\n",
    "\n",
    "import scipy.stats as stats\n",
    "import numpy as np\n",
    "import pandas as pd\n",
    "import matplotlib.pyplot as plt\n",
    "import seaborn as sns"
   ]
  },
  {
   "cell_type": "code",
   "execution_count": 2,
   "id": "eb3eedc0-6e83-4606-91bb-927bc85d8046",
   "metadata": {},
   "outputs": [
    {
     "data": {
      "text/html": [
       "<div>\n",
       "<style scoped>\n",
       "    .dataframe tbody tr th:only-of-type {\n",
       "        vertical-align: middle;\n",
       "    }\n",
       "\n",
       "    .dataframe tbody tr th {\n",
       "        vertical-align: top;\n",
       "    }\n",
       "\n",
       "    .dataframe thead th {\n",
       "        text-align: right;\n",
       "    }\n",
       "</style>\n",
       "<table border=\"1\" class=\"dataframe\">\n",
       "  <thead>\n",
       "    <tr style=\"text-align: right;\">\n",
       "      <th></th>\n",
       "      <th>model</th>\n",
       "      <th>mpg</th>\n",
       "      <th>cyl</th>\n",
       "      <th>disp</th>\n",
       "      <th>hp</th>\n",
       "      <th>drat</th>\n",
       "      <th>wt</th>\n",
       "      <th>qsec</th>\n",
       "      <th>vs</th>\n",
       "      <th>am</th>\n",
       "      <th>gear</th>\n",
       "      <th>carb</th>\n",
       "    </tr>\n",
       "  </thead>\n",
       "  <tbody>\n",
       "    <tr>\n",
       "      <th>0</th>\n",
       "      <td>Mazda RX4</td>\n",
       "      <td>21.0</td>\n",
       "      <td>6</td>\n",
       "      <td>160.0</td>\n",
       "      <td>110</td>\n",
       "      <td>3.90</td>\n",
       "      <td>2.620</td>\n",
       "      <td>16.46</td>\n",
       "      <td>0</td>\n",
       "      <td>1</td>\n",
       "      <td>4</td>\n",
       "      <td>4</td>\n",
       "    </tr>\n",
       "    <tr>\n",
       "      <th>1</th>\n",
       "      <td>Mazda RX4 Wag</td>\n",
       "      <td>21.0</td>\n",
       "      <td>6</td>\n",
       "      <td>160.0</td>\n",
       "      <td>110</td>\n",
       "      <td>3.90</td>\n",
       "      <td>2.875</td>\n",
       "      <td>17.02</td>\n",
       "      <td>0</td>\n",
       "      <td>1</td>\n",
       "      <td>4</td>\n",
       "      <td>4</td>\n",
       "    </tr>\n",
       "    <tr>\n",
       "      <th>2</th>\n",
       "      <td>Datsun 710</td>\n",
       "      <td>22.8</td>\n",
       "      <td>4</td>\n",
       "      <td>108.0</td>\n",
       "      <td>93</td>\n",
       "      <td>3.85</td>\n",
       "      <td>2.320</td>\n",
       "      <td>18.61</td>\n",
       "      <td>1</td>\n",
       "      <td>1</td>\n",
       "      <td>4</td>\n",
       "      <td>1</td>\n",
       "    </tr>\n",
       "    <tr>\n",
       "      <th>3</th>\n",
       "      <td>Hornet 4 Drive</td>\n",
       "      <td>21.4</td>\n",
       "      <td>6</td>\n",
       "      <td>258.0</td>\n",
       "      <td>110</td>\n",
       "      <td>3.08</td>\n",
       "      <td>3.215</td>\n",
       "      <td>19.44</td>\n",
       "      <td>1</td>\n",
       "      <td>0</td>\n",
       "      <td>3</td>\n",
       "      <td>1</td>\n",
       "    </tr>\n",
       "    <tr>\n",
       "      <th>4</th>\n",
       "      <td>Hornet Sportabout</td>\n",
       "      <td>18.7</td>\n",
       "      <td>8</td>\n",
       "      <td>360.0</td>\n",
       "      <td>175</td>\n",
       "      <td>3.15</td>\n",
       "      <td>3.440</td>\n",
       "      <td>17.02</td>\n",
       "      <td>0</td>\n",
       "      <td>0</td>\n",
       "      <td>3</td>\n",
       "      <td>2</td>\n",
       "    </tr>\n",
       "  </tbody>\n",
       "</table>\n",
       "</div>"
      ],
      "text/plain": [
       "               model   mpg  cyl   disp   hp  drat     wt   qsec  vs  am  gear  \\\n",
       "0          Mazda RX4  21.0    6  160.0  110  3.90  2.620  16.46   0   1     4   \n",
       "1      Mazda RX4 Wag  21.0    6  160.0  110  3.90  2.875  17.02   0   1     4   \n",
       "2         Datsun 710  22.8    4  108.0   93  3.85  2.320  18.61   1   1     4   \n",
       "3     Hornet 4 Drive  21.4    6  258.0  110  3.08  3.215  19.44   1   0     3   \n",
       "4  Hornet Sportabout  18.7    8  360.0  175  3.15  3.440  17.02   0   0     3   \n",
       "\n",
       "   carb  \n",
       "0     4  \n",
       "1     4  \n",
       "2     1  \n",
       "3     1  \n",
       "4     2  "
      ]
     },
     "execution_count": 2,
     "metadata": {},
     "output_type": "execute_result"
    }
   ],
   "source": [
    "# Sample data set\n",
    "mtcars = pd.read_csv('https://raw.githubusercontent.com/evdoks/' \\\n",
    "                     'data_science/master/data/mtcars.csv')\n",
    "mtcars.head()"
   ]
  },
  {
   "cell_type": "markdown",
   "id": "b0ef5f79-d989-4795-beae-ba833b8be9ec",
   "metadata": {},
   "source": [
    "## Linear Regression Model"
   ]
  },
  {
   "cell_type": "code",
   "execution_count": 3,
   "id": "0867af2a-1795-4044-913e-737078eba073",
   "metadata": {},
   "outputs": [],
   "source": [
    "# Initialization of Training Model: linear regression\n",
    "regression_model = linear_model.LinearRegression()"
   ]
  },
  {
   "cell_type": "code",
   "execution_count": 4,
   "id": "5e0a6714-38c5-4da7-a8c2-f9a0b340b61e",
   "metadata": {},
   "outputs": [
    {
     "data": {
      "text/html": [
       "<style>#sk-container-id-1 {color: black;}#sk-container-id-1 pre{padding: 0;}#sk-container-id-1 div.sk-toggleable {background-color: white;}#sk-container-id-1 label.sk-toggleable__label {cursor: pointer;display: block;width: 100%;margin-bottom: 0;padding: 0.3em;box-sizing: border-box;text-align: center;}#sk-container-id-1 label.sk-toggleable__label-arrow:before {content: \"▸\";float: left;margin-right: 0.25em;color: #696969;}#sk-container-id-1 label.sk-toggleable__label-arrow:hover:before {color: black;}#sk-container-id-1 div.sk-estimator:hover label.sk-toggleable__label-arrow:before {color: black;}#sk-container-id-1 div.sk-toggleable__content {max-height: 0;max-width: 0;overflow: hidden;text-align: left;background-color: #f0f8ff;}#sk-container-id-1 div.sk-toggleable__content pre {margin: 0.2em;color: black;border-radius: 0.25em;background-color: #f0f8ff;}#sk-container-id-1 input.sk-toggleable__control:checked~div.sk-toggleable__content {max-height: 200px;max-width: 100%;overflow: auto;}#sk-container-id-1 input.sk-toggleable__control:checked~label.sk-toggleable__label-arrow:before {content: \"▾\";}#sk-container-id-1 div.sk-estimator input.sk-toggleable__control:checked~label.sk-toggleable__label {background-color: #d4ebff;}#sk-container-id-1 div.sk-label input.sk-toggleable__control:checked~label.sk-toggleable__label {background-color: #d4ebff;}#sk-container-id-1 input.sk-hidden--visually {border: 0;clip: rect(1px 1px 1px 1px);clip: rect(1px, 1px, 1px, 1px);height: 1px;margin: -1px;overflow: hidden;padding: 0;position: absolute;width: 1px;}#sk-container-id-1 div.sk-estimator {font-family: monospace;background-color: #f0f8ff;border: 1px dotted black;border-radius: 0.25em;box-sizing: border-box;margin-bottom: 0.5em;}#sk-container-id-1 div.sk-estimator:hover {background-color: #d4ebff;}#sk-container-id-1 div.sk-parallel-item::after {content: \"\";width: 100%;border-bottom: 1px solid gray;flex-grow: 1;}#sk-container-id-1 div.sk-label:hover label.sk-toggleable__label {background-color: #d4ebff;}#sk-container-id-1 div.sk-serial::before {content: \"\";position: absolute;border-left: 1px solid gray;box-sizing: border-box;top: 0;bottom: 0;left: 50%;z-index: 0;}#sk-container-id-1 div.sk-serial {display: flex;flex-direction: column;align-items: center;background-color: white;padding-right: 0.2em;padding-left: 0.2em;position: relative;}#sk-container-id-1 div.sk-item {position: relative;z-index: 1;}#sk-container-id-1 div.sk-parallel {display: flex;align-items: stretch;justify-content: center;background-color: white;position: relative;}#sk-container-id-1 div.sk-item::before, #sk-container-id-1 div.sk-parallel-item::before {content: \"\";position: absolute;border-left: 1px solid gray;box-sizing: border-box;top: 0;bottom: 0;left: 50%;z-index: -1;}#sk-container-id-1 div.sk-parallel-item {display: flex;flex-direction: column;z-index: 1;position: relative;background-color: white;}#sk-container-id-1 div.sk-parallel-item:first-child::after {align-self: flex-end;width: 50%;}#sk-container-id-1 div.sk-parallel-item:last-child::after {align-self: flex-start;width: 50%;}#sk-container-id-1 div.sk-parallel-item:only-child::after {width: 0;}#sk-container-id-1 div.sk-dashed-wrapped {border: 1px dashed gray;margin: 0 0.4em 0.5em 0.4em;box-sizing: border-box;padding-bottom: 0.4em;background-color: white;}#sk-container-id-1 div.sk-label label {font-family: monospace;font-weight: bold;display: inline-block;line-height: 1.2em;}#sk-container-id-1 div.sk-label-container {text-align: center;}#sk-container-id-1 div.sk-container {/* jupyter's `normalize.less` sets `[hidden] { display: none; }` but bootstrap.min.css set `[hidden] { display: none !important; }` so we also need the `!important` here to be able to override the default hidden behavior on the sphinx rendered scikit-learn.org. See: https://github.com/scikit-learn/scikit-learn/issues/21755 */display: inline-block !important;position: relative;}#sk-container-id-1 div.sk-text-repr-fallback {display: none;}</style><div id=\"sk-container-id-1\" class=\"sk-top-container\"><div class=\"sk-text-repr-fallback\"><pre>LinearRegression()</pre><b>In a Jupyter environment, please rerun this cell to show the HTML representation or trust the notebook. <br />On GitHub, the HTML representation is unable to render, please try loading this page with nbviewer.org.</b></div><div class=\"sk-container\" hidden><div class=\"sk-item\"><div class=\"sk-estimator sk-toggleable\"><input class=\"sk-toggleable__control sk-hidden--visually\" id=\"sk-estimator-id-1\" type=\"checkbox\" checked><label for=\"sk-estimator-id-1\" class=\"sk-toggleable__label sk-toggleable__label-arrow\">LinearRegression</label><div class=\"sk-toggleable__content\"><pre>LinearRegression()</pre></div></div></div></div></div>"
      ],
      "text/plain": [
       "LinearRegression()"
      ]
     },
     "execution_count": 4,
     "metadata": {},
     "output_type": "execute_result"
    }
   ],
   "source": [
    "# Train the Model\n",
    "linear_model.LinearRegression().fit(X = pd.DataFrame(mtcars[[\"wt\", \"drat\", \"cyl\", \"hp\"]]), \n",
    "                                    y = pd.DataFrame(mtcars[\"mpg\"]))"
   ]
  },
  {
   "cell_type": "code",
   "execution_count": 5,
   "id": "3e50bef2-f959-420b-9ec6-038eba1c2675",
   "metadata": {},
   "outputs": [
    {
     "data": {
      "text/html": [
       "<style>#sk-container-id-2 {color: black;}#sk-container-id-2 pre{padding: 0;}#sk-container-id-2 div.sk-toggleable {background-color: white;}#sk-container-id-2 label.sk-toggleable__label {cursor: pointer;display: block;width: 100%;margin-bottom: 0;padding: 0.3em;box-sizing: border-box;text-align: center;}#sk-container-id-2 label.sk-toggleable__label-arrow:before {content: \"▸\";float: left;margin-right: 0.25em;color: #696969;}#sk-container-id-2 label.sk-toggleable__label-arrow:hover:before {color: black;}#sk-container-id-2 div.sk-estimator:hover label.sk-toggleable__label-arrow:before {color: black;}#sk-container-id-2 div.sk-toggleable__content {max-height: 0;max-width: 0;overflow: hidden;text-align: left;background-color: #f0f8ff;}#sk-container-id-2 div.sk-toggleable__content pre {margin: 0.2em;color: black;border-radius: 0.25em;background-color: #f0f8ff;}#sk-container-id-2 input.sk-toggleable__control:checked~div.sk-toggleable__content {max-height: 200px;max-width: 100%;overflow: auto;}#sk-container-id-2 input.sk-toggleable__control:checked~label.sk-toggleable__label-arrow:before {content: \"▾\";}#sk-container-id-2 div.sk-estimator input.sk-toggleable__control:checked~label.sk-toggleable__label {background-color: #d4ebff;}#sk-container-id-2 div.sk-label input.sk-toggleable__control:checked~label.sk-toggleable__label {background-color: #d4ebff;}#sk-container-id-2 input.sk-hidden--visually {border: 0;clip: rect(1px 1px 1px 1px);clip: rect(1px, 1px, 1px, 1px);height: 1px;margin: -1px;overflow: hidden;padding: 0;position: absolute;width: 1px;}#sk-container-id-2 div.sk-estimator {font-family: monospace;background-color: #f0f8ff;border: 1px dotted black;border-radius: 0.25em;box-sizing: border-box;margin-bottom: 0.5em;}#sk-container-id-2 div.sk-estimator:hover {background-color: #d4ebff;}#sk-container-id-2 div.sk-parallel-item::after {content: \"\";width: 100%;border-bottom: 1px solid gray;flex-grow: 1;}#sk-container-id-2 div.sk-label:hover label.sk-toggleable__label {background-color: #d4ebff;}#sk-container-id-2 div.sk-serial::before {content: \"\";position: absolute;border-left: 1px solid gray;box-sizing: border-box;top: 0;bottom: 0;left: 50%;z-index: 0;}#sk-container-id-2 div.sk-serial {display: flex;flex-direction: column;align-items: center;background-color: white;padding-right: 0.2em;padding-left: 0.2em;position: relative;}#sk-container-id-2 div.sk-item {position: relative;z-index: 1;}#sk-container-id-2 div.sk-parallel {display: flex;align-items: stretch;justify-content: center;background-color: white;position: relative;}#sk-container-id-2 div.sk-item::before, #sk-container-id-2 div.sk-parallel-item::before {content: \"\";position: absolute;border-left: 1px solid gray;box-sizing: border-box;top: 0;bottom: 0;left: 50%;z-index: -1;}#sk-container-id-2 div.sk-parallel-item {display: flex;flex-direction: column;z-index: 1;position: relative;background-color: white;}#sk-container-id-2 div.sk-parallel-item:first-child::after {align-self: flex-end;width: 50%;}#sk-container-id-2 div.sk-parallel-item:last-child::after {align-self: flex-start;width: 50%;}#sk-container-id-2 div.sk-parallel-item:only-child::after {width: 0;}#sk-container-id-2 div.sk-dashed-wrapped {border: 1px dashed gray;margin: 0 0.4em 0.5em 0.4em;box-sizing: border-box;padding-bottom: 0.4em;background-color: white;}#sk-container-id-2 div.sk-label label {font-family: monospace;font-weight: bold;display: inline-block;line-height: 1.2em;}#sk-container-id-2 div.sk-label-container {text-align: center;}#sk-container-id-2 div.sk-container {/* jupyter's `normalize.less` sets `[hidden] { display: none; }` but bootstrap.min.css set `[hidden] { display: none !important; }` so we also need the `!important` here to be able to override the default hidden behavior on the sphinx rendered scikit-learn.org. See: https://github.com/scikit-learn/scikit-learn/issues/21755 */display: inline-block !important;position: relative;}#sk-container-id-2 div.sk-text-repr-fallback {display: none;}</style><div id=\"sk-container-id-2\" class=\"sk-top-container\"><div class=\"sk-text-repr-fallback\"><pre>LinearRegression()</pre><b>In a Jupyter environment, please rerun this cell to show the HTML representation or trust the notebook. <br />On GitHub, the HTML representation is unable to render, please try loading this page with nbviewer.org.</b></div><div class=\"sk-container\" hidden><div class=\"sk-item\"><div class=\"sk-estimator sk-toggleable\"><input class=\"sk-toggleable__control sk-hidden--visually\" id=\"sk-estimator-id-2\" type=\"checkbox\" checked><label for=\"sk-estimator-id-2\" class=\"sk-toggleable__label sk-toggleable__label-arrow\">LinearRegression</label><div class=\"sk-toggleable__content\"><pre>LinearRegression()</pre></div></div></div></div></div>"
      ],
      "text/plain": [
       "LinearRegression()"
      ]
     },
     "execution_count": 5,
     "metadata": {},
     "output_type": "execute_result"
    }
   ],
   "source": [
    "regression_model.fit(X = pd.DataFrame(mtcars[[\"wt\"]]), \n",
    "                     y = pd.DataFrame(mtcars[\"mpg\"]))"
   ]
  },
  {
   "cell_type": "code",
   "execution_count": 6,
   "id": "161638ef-f685-42f5-bbb9-0aa9edfbb2dd",
   "metadata": {},
   "outputs": [
    {
     "name": "stdout",
     "output_type": "stream",
     "text": [
      "Intercept: [37.28512617]\n",
      "Coefficients:  [[-5.34447157]]\n"
     ]
    }
   ],
   "source": [
    "# Examine the Model\n",
    "print('Intercept:', regression_model.intercept_)\n",
    "print('Coefficients: ', regression_model.coef_)"
   ]
  },
  {
   "cell_type": "code",
   "execution_count": 7,
   "id": "3f2d059f-99cb-4af3-b132-5cbe74467a45",
   "metadata": {},
   "outputs": [
    {
     "name": "stdout",
     "output_type": "stream",
     "text": [
      "[[23.28261065]\n",
      " [21.9197704 ]\n",
      " [24.88595212]\n",
      " [20.10265006]\n",
      " [18.90014396]\n",
      " [18.79325453]\n",
      " [18.20536265]\n",
      " [20.23626185]\n",
      " [20.45004071]\n",
      " [18.90014396]\n",
      " [18.90014396]\n",
      " [15.53312687]\n",
      " [17.3502472 ]\n",
      " [17.08302362]\n",
      " [ 9.22665041]\n",
      " [ 8.29671236]\n",
      " [ 8.71892561]\n",
      " [25.52728871]\n",
      " [28.65380458]\n",
      " [27.47802083]\n",
      " [24.11100374]\n",
      " [18.47258623]\n",
      " [18.92686632]\n",
      " [16.76235533]\n",
      " [16.73563297]\n",
      " [26.94357367]\n",
      " [25.847957  ]\n",
      " [29.19894068]\n",
      " [20.34315128]\n",
      " [22.48093991]\n",
      " [18.20536265]\n",
      " [22.4274952 ]]\n"
     ]
    }
   ],
   "source": [
    "# Make Predictions\n",
    "predictions = regression_model.predict(X = pd.DataFrame(mtcars[[\"wt\"]]))\n",
    "print(predictions)"
   ]
  },
  {
   "cell_type": "code",
   "execution_count": 8,
   "id": "c06fb0af-a73b-4b70-a0d4-29ba2585c8d8",
   "metadata": {},
   "outputs": [
    {
     "data": {
      "text/plain": [
       "[<matplotlib.lines.Line2D at 0x1767c30b0>]"
      ]
     },
     "execution_count": 8,
     "metadata": {},
     "output_type": "execute_result"
    },
    {
     "data": {
      "image/png": "[encoded data removed]",
      "text/plain": [
       "<Figure size 640x480 with 1 Axes>"
      ]
     },
     "metadata": {},
     "output_type": "display_data"
    }
   ],
   "source": [
    "# Scatter Plot\n",
    "mtcars.plot(kind=\"scatter\", x=\"wt\", y=\"mpg\")\n",
    "\n",
    "# Fitted regression line\n",
    "plt.plot(mtcars[\"wt\"], predictions)"
   ]
  },
  {
   "cell_type": "code",
   "execution_count": 9,
   "id": "5d817b85-3fe9-408a-9328-6b4194f2bd75",
   "metadata": {},
   "outputs": [
    {
     "data": {
      "text/plain": [
       "2.949162685955028"
      ]
     },
     "execution_count": 9,
     "metadata": {},
     "output_type": "execute_result"
    }
   ],
   "source": [
    "# Calculate RMSE\n",
    "def rmse(pred, y):\n",
    "    return (np.mean((y-pred)**2))**0.5\n",
    "\n",
    "rmse(predictions.flatten(), mtcars['mpg'])"
   ]
  },
  {
   "cell_type": "code",
   "execution_count": 10,
   "id": "0a2e5c30-04ea-46b1-8760-71a0c8e1958d",
   "metadata": {},
   "outputs": [
    {
     "data": {
      "text/plain": [
       "2.949162685955028"
      ]
     },
     "execution_count": 10,
     "metadata": {},
     "output_type": "execute_result"
    }
   ],
   "source": [
    "from sklearn import metrics\n",
    "\n",
    "metrics.mean_squared_error(predictions, mtcars['mpg'])**0.5"
   ]
  },
  {
   "cell_type": "markdown",
   "id": "ca341b30-f575-4e88-8032-a2d5068387fa",
   "metadata": {},
   "source": [
    "## Quadratic Regression Model"
   ]
  },
  {
   "cell_type": "code",
   "execution_count": 11,
   "id": "0a85c23c-3ec7-434c-9a4b-73abb79c39dc",
   "metadata": {},
   "outputs": [],
   "source": [
    "poly_model = linear_model.LinearRegression()"
   ]
  },
  {
   "cell_type": "code",
   "execution_count": 12,
   "id": "5fc2c6e4-1d74-4865-9706-bb66a63bfc4f",
   "metadata": {},
   "outputs": [
    {
     "data": {
      "text/html": [
       "<div>\n",
       "<style scoped>\n",
       "    .dataframe tbody tr th:only-of-type {\n",
       "        vertical-align: middle;\n",
       "    }\n",
       "\n",
       "    .dataframe tbody tr th {\n",
       "        vertical-align: top;\n",
       "    }\n",
       "\n",
       "    .dataframe thead th {\n",
       "        text-align: right;\n",
       "    }\n",
       "</style>\n",
       "<table border=\"1\" class=\"dataframe\">\n",
       "  <thead>\n",
       "    <tr style=\"text-align: right;\">\n",
       "      <th></th>\n",
       "      <th>wt</th>\n",
       "      <th>wt_sq</th>\n",
       "    </tr>\n",
       "  </thead>\n",
       "  <tbody>\n",
       "    <tr>\n",
       "      <th>0</th>\n",
       "      <td>2.620</td>\n",
       "      <td>6.864400</td>\n",
       "    </tr>\n",
       "    <tr>\n",
       "      <th>1</th>\n",
       "      <td>2.875</td>\n",
       "      <td>8.265625</td>\n",
       "    </tr>\n",
       "    <tr>\n",
       "      <th>2</th>\n",
       "      <td>2.320</td>\n",
       "      <td>5.382400</td>\n",
       "    </tr>\n",
       "    <tr>\n",
       "      <th>3</th>\n",
       "      <td>3.215</td>\n",
       "      <td>10.336225</td>\n",
       "    </tr>\n",
       "    <tr>\n",
       "      <th>4</th>\n",
       "      <td>3.440</td>\n",
       "      <td>11.833600</td>\n",
       "    </tr>\n",
       "  </tbody>\n",
       "</table>\n",
       "</div>"
      ],
      "text/plain": [
       "      wt      wt_sq\n",
       "0  2.620   6.864400\n",
       "1  2.875   8.265625\n",
       "2  2.320   5.382400\n",
       "3  3.215  10.336225\n",
       "4  3.440  11.833600"
      ]
     },
     "execution_count": 12,
     "metadata": {},
     "output_type": "execute_result"
    }
   ],
   "source": [
    "# create new pandas DataFrame with squared values\n",
    "predictors = pd.DataFrame({\"wt\": mtcars['wt'],\n",
    "                            \"wt_sq\": mtcars[\"wt\"]**2})\n",
    "predictors.head()"
   ]
  },
  {
   "cell_type": "code",
   "execution_count": 13,
   "id": "b736eeae-1e2f-49fa-8a4c-456f52be9dd4",
   "metadata": {},
   "outputs": [
    {
     "data": {
      "text/html": [
       "<style>#sk-container-id-3 {color: black;}#sk-container-id-3 pre{padding: 0;}#sk-container-id-3 div.sk-toggleable {background-color: white;}#sk-container-id-3 label.sk-toggleable__label {cursor: pointer;display: block;width: 100%;margin-bottom: 0;padding: 0.3em;box-sizing: border-box;text-align: center;}#sk-container-id-3 label.sk-toggleable__label-arrow:before {content: \"▸\";float: left;margin-right: 0.25em;color: #696969;}#sk-container-id-3 label.sk-toggleable__label-arrow:hover:before {color: black;}#sk-container-id-3 div.sk-estimator:hover label.sk-toggleable__label-arrow:before {color: black;}#sk-container-id-3 div.sk-toggleable__content {max-height: 0;max-width: 0;overflow: hidden;text-align: left;background-color: #f0f8ff;}#sk-container-id-3 div.sk-toggleable__content pre {margin: 0.2em;color: black;border-radius: 0.25em;background-color: #f0f8ff;}#sk-container-id-3 input.sk-toggleable__control:checked~div.sk-toggleable__content {max-height: 200px;max-width: 100%;overflow: auto;}#sk-container-id-3 input.sk-toggleable__control:checked~label.sk-toggleable__label-arrow:before {content: \"▾\";}#sk-container-id-3 div.sk-estimator input.sk-toggleable__control:checked~label.sk-toggleable__label {background-color: #d4ebff;}#sk-container-id-3 div.sk-label input.sk-toggleable__control:checked~label.sk-toggleable__label {background-color: #d4ebff;}#sk-container-id-3 input.sk-hidden--visually {border: 0;clip: rect(1px 1px 1px 1px);clip: rect(1px, 1px, 1px, 1px);height: 1px;margin: -1px;overflow: hidden;padding: 0;position: absolute;width: 1px;}#sk-container-id-3 div.sk-estimator {font-family: monospace;background-color: #f0f8ff;border: 1px dotted black;border-radius: 0.25em;box-sizing: border-box;margin-bottom: 0.5em;}#sk-container-id-3 div.sk-estimator:hover {background-color: #d4ebff;}#sk-container-id-3 div.sk-parallel-item::after {content: \"\";width: 100%;border-bottom: 1px solid gray;flex-grow: 1;}#sk-container-id-3 div.sk-label:hover label.sk-toggleable__label {background-color: #d4ebff;}#sk-container-id-3 div.sk-serial::before {content: \"\";position: absolute;border-left: 1px solid gray;box-sizing: border-box;top: 0;bottom: 0;left: 50%;z-index: 0;}#sk-container-id-3 div.sk-serial {display: flex;flex-direction: column;align-items: center;background-color: white;padding-right: 0.2em;padding-left: 0.2em;position: relative;}#sk-container-id-3 div.sk-item {position: relative;z-index: 1;}#sk-container-id-3 div.sk-parallel {display: flex;align-items: stretch;justify-content: center;background-color: white;position: relative;}#sk-container-id-3 div.sk-item::before, #sk-container-id-3 div.sk-parallel-item::before {content: \"\";position: absolute;border-left: 1px solid gray;box-sizing: border-box;top: 0;bottom: 0;left: 50%;z-index: -1;}#sk-container-id-3 div.sk-parallel-item {display: flex;flex-direction: column;z-index: 1;position: relative;background-color: white;}#sk-container-id-3 div.sk-parallel-item:first-child::after {align-self: flex-end;width: 50%;}#sk-container-id-3 div.sk-parallel-item:last-child::after {align-self: flex-start;width: 50%;}#sk-container-id-3 div.sk-parallel-item:only-child::after {width: 0;}#sk-container-id-3 div.sk-dashed-wrapped {border: 1px dashed gray;margin: 0 0.4em 0.5em 0.4em;box-sizing: border-box;padding-bottom: 0.4em;background-color: white;}#sk-container-id-3 div.sk-label label {font-family: monospace;font-weight: bold;display: inline-block;line-height: 1.2em;}#sk-container-id-3 div.sk-label-container {text-align: center;}#sk-container-id-3 div.sk-container {/* jupyter's `normalize.less` sets `[hidden] { display: none; }` but bootstrap.min.css set `[hidden] { display: none !important; }` so we also need the `!important` here to be able to override the default hidden behavior on the sphinx rendered scikit-learn.org. See: https://github.com/scikit-learn/scikit-learn/issues/21755 */display: inline-block !important;position: relative;}#sk-container-id-3 div.sk-text-repr-fallback {display: none;}</style><div id=\"sk-container-id-3\" class=\"sk-top-container\"><div class=\"sk-text-repr-fallback\"><pre>LinearRegression()</pre><b>In a Jupyter environment, please rerun this cell to show the HTML representation or trust the notebook. <br />On GitHub, the HTML representation is unable to render, please try loading this page with nbviewer.org.</b></div><div class=\"sk-container\" hidden><div class=\"sk-item\"><div class=\"sk-estimator sk-toggleable\"><input class=\"sk-toggleable__control sk-hidden--visually\" id=\"sk-estimator-id-3\" type=\"checkbox\" checked><label for=\"sk-estimator-id-3\" class=\"sk-toggleable__label sk-toggleable__label-arrow\">LinearRegression</label><div class=\"sk-toggleable__content\"><pre>LinearRegression()</pre></div></div></div></div></div>"
      ],
      "text/plain": [
       "LinearRegression()"
      ]
     },
     "execution_count": 13,
     "metadata": {},
     "output_type": "execute_result"
    }
   ],
   "source": [
    "# train the model on new data frame, but using y from old data frame\n",
    "poly_model.fit(X=predictors,\n",
    "               y=pd.DataFrame(mtcars[\"mpg\"]))"
   ]
  },
  {
   "cell_type": "code",
   "execution_count": 14,
   "id": "95088f10-8844-46cd-9579-c0cd21ca6897",
   "metadata": {},
   "outputs": [
    {
     "name": "stdout",
     "output_type": "stream",
     "text": [
      "Poly Model Intercept:  [49.93081095]\n",
      "Poly Model Coefficients:  [[-13.38033708   1.17108689]]\n"
     ]
    }
   ],
   "source": [
    "# examine the model\n",
    "print(\"Poly Model Intercept: \", poly_model.intercept_)\n",
    "print(\"Poly Model Coefficients: \", poly_model.coef_)"
   ]
  },
  {
   "cell_type": "code",
   "execution_count": 15,
   "id": "47e378b8-d222-4926-8ca1-589698528008",
   "metadata": {},
   "outputs": [
    {
     "name": "stdout",
     "output_type": "stream",
     "text": [
      "2.52330047246108\n"
     ]
    }
   ],
   "source": [
    "# rmse\n",
    "poly_pred = poly_model.predict(X = predictors)\n",
    "print(metrics.mean_squared_error(poly_pred, mtcars[\"mpg\"])**0.5)"
   ]
  },
  {
   "cell_type": "code",
   "execution_count": 16,
   "id": "d410bcd6-1e8f-48f4-97f3-f4ba7a45e73b",
   "metadata": {},
   "outputs": [
    {
     "data": {
      "text/plain": [
       "[<matplotlib.lines.Line2D at 0x176dae4b0>]"
      ]
     },
     "execution_count": 16,
     "metadata": {},
     "output_type": "execute_result"
    },
    {
     "data": {
      "image/png": "[encoded data removed]",
      "text/plain": [
       "<Figure size 640x480 with 1 Axes>"
      ]
     },
     "metadata": {},
     "output_type": "display_data"
    }
   ],
   "source": [
    "# plot fitted line in scatter plot\n",
    "poly_range = np.arange(1.5, 5.5, 0.1)\n",
    "poly_predictors = pd.DataFrame({\"wt\": poly_range,\n",
    "                                \"wt_sq\": poly_range**2})\n",
    "y_vals = poly_model.predict(X = poly_predictors)\n",
    "\n",
    "mtcars.plot(kind = \"scatter\", x=\"wt\", y=\"mpg\")\n",
    "plt.plot(poly_range, y_vals)"
   ]
  },
  {
   "cell_type": "code",
   "execution_count": 17,
   "id": "9a5db38a-6b30-433f-a789-8c79e66dbec2",
   "metadata": {},
   "outputs": [
    {
     "data": {
      "text/plain": [
       "<seaborn.axisgrid.FacetGrid at 0x176946600>"
      ]
     },
     "execution_count": 17,
     "metadata": {},
     "output_type": "execute_result"
    },
    {
     "data": {
      "image/png": "[encoded data removed]",
      "text/plain": [
       "<Figure size 500x500 with 1 Axes>"
      ]
     },
     "metadata": {},
     "output_type": "display_data"
    }
   ],
   "source": [
    "# with confidence 90% interval\n",
    "sns.lmplot(data = mtcars, x =\"wt\", y =\"mpg\", ci=90)"
   ]
  },
  {
   "cell_type": "markdown",
   "id": "23387c45-6a4b-425b-b666-49d37ed4b327",
   "metadata": {},
   "source": [
    "## Cross-Validation"
   ]
  },
  {
   "cell_type": "code",
   "execution_count": 18,
   "id": "f46a2c46-04f0-48ed-8e40-4a5d750b8de5",
   "metadata": {},
   "outputs": [],
   "source": [
    "from sklearn.model_selection import train_test_split\n",
    "\n",
    "X_train, X_test, y_train, y_test = train_test_split(\n",
    "    pd.DataFrame(mtcars[\"wt\"]),       # X values aka covariates\n",
    "    pd.DataFrame(mtcars[\"mpg\"]),      # y value aka dependent variable\n",
    "    train_size = 0.7,                 # share of obs for training set\n",
    "    random_state = 101                # random seed for reproducabilty\n",
    ")"
   ]
  },
  {
   "cell_type": "code",
   "execution_count": 19,
   "id": "53893e26-e8df-4151-a0c8-18ebe8911b2e",
   "metadata": {},
   "outputs": [
    {
     "name": "stdout",
     "output_type": "stream",
     "text": [
      "<class 'pandas.core.frame.DataFrame'>\n",
      "Index: 22 entries, 18 to 31\n",
      "Data columns (total 1 columns):\n",
      " #   Column  Non-Null Count  Dtype  \n",
      "---  ------  --------------  -----  \n",
      " 0   wt      22 non-null     float64\n",
      "dtypes: float64(1)\n",
      "memory usage: 352.0 bytes\n"
     ]
    }
   ],
   "source": [
    "X_train.info()"
   ]
  },
  {
   "cell_type": "code",
   "execution_count": 20,
   "id": "07eedab9-11d5-4212-afed-cb569c77c94f",
   "metadata": {},
   "outputs": [
    {
     "data": {
      "text/plain": [
       "mpg    10\n",
       "dtype: int64"
      ]
     },
     "execution_count": 20,
     "metadata": {},
     "output_type": "execute_result"
    }
   ],
   "source": [
    "y_test.count()"
   ]
  },
  {
   "cell_type": "code",
   "execution_count": 21,
   "id": "4cd50082-09ee-4ec9-a2a8-923c94263ef4",
   "metadata": {},
   "outputs": [
    {
     "name": "stdout",
     "output_type": "stream",
     "text": [
      "RMSE train:  2.446389454959867\n",
      "RMSE test:  3.9098115403341906\n"
     ]
    }
   ],
   "source": [
    "# train linear model on training set\n",
    "train_model = linear_model.LinearRegression()\n",
    "train_model.fit(X = pd.DataFrame(X_train),\n",
    "               y = pd.DataFrame(y_train))\n",
    "\n",
    "# predict training data\n",
    "y_train_pred = train_model.predict(X_train)\n",
    "print(\"RMSE train: \", metrics.mean_squared_error(y_train_pred, \n",
    "                                                 y_train)**0.5)\n",
    " \n",
    "# predict test data\n",
    "y_test_pred = train_model.predict(X_test)\n",
    "print(\"RMSE test: \", metrics.mean_squared_error(y_test_pred, \n",
    "                                                y_test)**0.5)"
   ]
  },
  {
   "cell_type": "markdown",
   "id": "36bb17e9-c6ec-444e-b65c-3551dd4fd0c1",
   "metadata": {},
   "source": [
    "## Logistic Regression\n",
    "* classification prediction\n",
    "\n",
    "### Evaluation Metrics\n",
    "\n",
    "#### Classification Report\n",
    "`classification_report(y_test, predictions)`\n",
    "* **Precision:** ratio of true positive predictions to the total number of positive predictions\n",
    "    * accuracy of positive predictions\n",
    "    * defined as TP / (TP + FP\n",
    "    * high precision indicates that the model has a low false positive rate\n",
    "* **Recall** i.e. sensitivity: ratio of true positive predictions to the total number of actual positive instances\n",
    "    * measures the ability of the model to correctly identify positive instances\n",
    "    * defined as TP / (TP + FN)\n",
    "    * high recall indicates that the model has a low false negative rate\n",
    "* **F1-score:** harmonic mean of precision and recall\n",
    "    * balance between precision and recall and is defined as 2 * (precision * recall) / (precision + recall)\n",
    "    * ranges from 0 to 1\n",
    "    * the higher the better performance\n",
    "* **Support:** number of actual occurrences of each class in the dataset\n",
    "    * represents the number of true instances of each class\n",
    "\n",
    "  \n",
    "#### Confusion Matrix\n",
    "`confusion_matrix(y_test, predictions, labels=logmodel.classes_)`  \n",
    "* tabulates number of correct and incorrect predictions of each class\n",
    "\n",
    "|         | predicted positive | predicted negative |\n",
    "|---|----|---|\n",
    "|Actual Positive |  **True Positive (TP)**: <br> correct predictions (1) |**False Negative (FN)**: <br> Type II error, incorrect predictions (0) |\n",
    "| Actual Negative | **False Positive (FP)**: <br> Type I error, incorrect predictions (1) | **True Negative (TN)**: <br> correct predictions (0) |\n",
    "\n",
    "#### ROC-Curve (Receiver Operation Characteristics Curve)\n",
    "\n",
    "* get probability estimates: `logmodel.predict_proba(X_test)[:,1]`\n",
    "    * for each instance in the dataset, the classification model predicts the probability that it belongs to the positive class (`[:,1]`)\n",
    "* `fpr, tpr, thr = roc_curve(y_test, y_predict_probabilites)`:\n",
    "    * `fpr`: False Positive Rate\n",
    "    * `tpr`: True Positive Rate\n",
    "    * `thr`: Threshold; array containing the thresholds used to compute the FPR and TPR values\n",
    "* `roc_auc = auc(fpr, tpr)`: Area Under the Curve\n",
    "    * representing overall performance of classification model\n",
    "    * the higher the values, the better (the discrimination between positive and negative)\n",
    " \n",
    "\n",
    "\n",
    "\n"
   ]
  },
  {
   "cell_type": "code",
   "execution_count": 22,
   "id": "bc83c047-f252-4bce-84ef-39305a7fa894",
   "metadata": {},
   "outputs": [],
   "source": [
    "import pandas as pd\n",
    "import numpy as np\n",
    "import matplotlib.pyplot as plt\n",
    "import seaborn as sns\n",
    "import matplotlib.pyplot as plt\n",
    "%matplotlib inline"
   ]
  },
  {
   "cell_type": "code",
   "execution_count": 23,
   "id": "84985da4-5eb3-4b23-b3c3-740794413e88",
   "metadata": {},
   "outputs": [],
   "source": [
    "# import sample data\n",
    "train = pd.read_csv('/Users/birteprado/Documents/02 Uni/02 Master/3rd Semester/05 Data Science/01 Lecture/11.1 data/titanic.csv')"
   ]
  },
  {
   "cell_type": "code",
   "execution_count": 24,
   "id": "9968ce46-4478-4ccb-9766-923057e2f4c7",
   "metadata": {},
   "outputs": [
    {
     "data": {
      "text/plain": [
       "<Axes: >"
      ]
     },
     "execution_count": 24,
     "metadata": {},
     "output_type": "execute_result"
    },
    {
     "data": {
      "image/png": "[encoded data removed]",
      "text/plain": [
       "<Figure size 640x480 with 1 Axes>"
      ]
     },
     "metadata": {},
     "output_type": "display_data"
    }
   ],
   "source": [
    "# check for missing data\n",
    "sns.heatmap(train.isnull(), \n",
    "           yticklabels=False,\n",
    "           cbar=False,\n",
    "           cmap='inferno')"
   ]
  },
  {
   "cell_type": "code",
   "execution_count": 25,
   "id": "44f94509-02e7-4ca0-854a-c24bfa498627",
   "metadata": {},
   "outputs": [
    {
     "name": "stderr",
     "output_type": "stream",
     "text": [
      "/var/folders/dp/xjkh2hmd75l5n7n96tm19qqm0000gn/T/ipykernel_2148/1944133092.py:6: FutureWarning: Series.__getitem__ treating keys as positions is deprecated. In a future version, integer keys will always be treated as labels (consistent with DataFrame behavior). To access a value by position, use `ser.iloc[pos]`\n",
      "  Age = cols[0]\n",
      "/var/folders/dp/xjkh2hmd75l5n7n96tm19qqm0000gn/T/ipykernel_2148/1944133092.py:7: FutureWarning: Series.__getitem__ treating keys as positions is deprecated. In a future version, integer keys will always be treated as labels (consistent with DataFrame behavior). To access a value by position, use `ser.iloc[pos]`\n",
      "  Pclass = cols[1]\n"
     ]
    },
    {
     "data": {
      "text/plain": [
       "<Axes: >"
      ]
     },
     "execution_count": 25,
     "metadata": {},
     "output_type": "execute_result"
    },
    {
     "data": {
      "image/png": "[encoded data removed]",
      "text/plain": [
       "<Figure size 640x480 with 1 Axes>"
      ]
     },
     "metadata": {},
     "output_type": "display_data"
    }
   ],
   "source": [
    "# drop Cabin\n",
    "train.drop('Cabin', axis=1, inplace=True)\n",
    "\n",
    "# impute Age data\n",
    "def impute_age(cols):\n",
    "    Age = cols[0]\n",
    "    Pclass = cols[1]\n",
    "    if pd.isnull(Age):\n",
    "        if Pclass == 1:\n",
    "            return 38\n",
    "        elif Pclass == 2:\n",
    "            return 29\n",
    "        else:\n",
    "            return 25\n",
    "    else:\n",
    "        return Age\n",
    "\n",
    "train['Age'] = train[['Age', 'Pclass']].apply(impute_age, axis=1)\n",
    "\n",
    "sns.heatmap(train.isnull(), yticklabels=False, cbar=False, cmap='inferno')"
   ]
  },
  {
   "cell_type": "code",
   "execution_count": 26,
   "id": "783ef953-e0da-4e2d-97e6-d391e69bbf63",
   "metadata": {},
   "outputs": [
    {
     "data": {
      "text/html": [
       "<div>\n",
       "<style scoped>\n",
       "    .dataframe tbody tr th:only-of-type {\n",
       "        vertical-align: middle;\n",
       "    }\n",
       "\n",
       "    .dataframe tbody tr th {\n",
       "        vertical-align: top;\n",
       "    }\n",
       "\n",
       "    .dataframe thead th {\n",
       "        text-align: right;\n",
       "    }\n",
       "</style>\n",
       "<table border=\"1\" class=\"dataframe\">\n",
       "  <thead>\n",
       "    <tr style=\"text-align: right;\">\n",
       "      <th></th>\n",
       "      <th>PassengerId</th>\n",
       "      <th>Survived</th>\n",
       "      <th>Pclass</th>\n",
       "      <th>Name</th>\n",
       "      <th>Sex</th>\n",
       "      <th>Age</th>\n",
       "      <th>SibSp</th>\n",
       "      <th>Parch</th>\n",
       "      <th>Ticket</th>\n",
       "      <th>Fare</th>\n",
       "      <th>Embarked</th>\n",
       "    </tr>\n",
       "  </thead>\n",
       "  <tbody>\n",
       "    <tr>\n",
       "      <th>61</th>\n",
       "      <td>62</td>\n",
       "      <td>1</td>\n",
       "      <td>1</td>\n",
       "      <td>Icard, Miss. Amelie</td>\n",
       "      <td>female</td>\n",
       "      <td>38.0</td>\n",
       "      <td>0</td>\n",
       "      <td>0</td>\n",
       "      <td>113572</td>\n",
       "      <td>80.0</td>\n",
       "      <td>NaN</td>\n",
       "    </tr>\n",
       "    <tr>\n",
       "      <th>829</th>\n",
       "      <td>830</td>\n",
       "      <td>1</td>\n",
       "      <td>1</td>\n",
       "      <td>Stone, Mrs. George Nelson (Martha Evelyn)</td>\n",
       "      <td>female</td>\n",
       "      <td>62.0</td>\n",
       "      <td>0</td>\n",
       "      <td>0</td>\n",
       "      <td>113572</td>\n",
       "      <td>80.0</td>\n",
       "      <td>NaN</td>\n",
       "    </tr>\n",
       "  </tbody>\n",
       "</table>\n",
       "</div>"
      ],
      "text/plain": [
       "     PassengerId  Survived  Pclass                                       Name  \\\n",
       "61            62         1       1                        Icard, Miss. Amelie   \n",
       "829          830         1       1  Stone, Mrs. George Nelson (Martha Evelyn)   \n",
       "\n",
       "        Sex   Age  SibSp  Parch  Ticket  Fare Embarked  \n",
       "61   female  38.0      0      0  113572  80.0      NaN  \n",
       "829  female  62.0      0      0  113572  80.0      NaN  "
      ]
     },
     "execution_count": 26,
     "metadata": {},
     "output_type": "execute_result"
    }
   ],
   "source": [
    "# check for rows with missing values\n",
    "train[train.isna().any(axis=1)]"
   ]
  },
  {
   "cell_type": "code",
   "execution_count": 27,
   "id": "dd5cd204-7d54-4aba-a145-7712800d6d05",
   "metadata": {},
   "outputs": [
    {
     "name": "stdout",
     "output_type": "stream",
     "text": [
      "     female   male\n",
      "0     False   True\n",
      "1      True  False\n",
      "2      True  False\n",
      "3      True  False\n",
      "4     False   True\n",
      "..      ...    ...\n",
      "886   False   True\n",
      "887    True  False\n",
      "888    True  False\n",
      "889   False   True\n",
      "890   False   True\n",
      "\n",
      "[891 rows x 2 columns]\n"
     ]
    }
   ],
   "source": [
    "# convert categorical features into dummies\n",
    "sex = pd.get_dummies(train['Sex'])\n",
    "print(sex)"
   ]
  },
  {
   "cell_type": "code",
   "execution_count": 28,
   "id": "d79d17b3-562e-4396-bda8-5e0b6e6a1242",
   "metadata": {},
   "outputs": [
    {
     "name": "stdout",
     "output_type": "stream",
     "text": [
      "      male\n",
      "0     True\n",
      "1    False\n",
      "2    False\n",
      "3    False\n",
      "4     True\n",
      "..     ...\n",
      "886   True\n",
      "887  False\n",
      "888  False\n",
      "889   True\n",
      "890   True\n",
      "\n",
      "[891 rows x 1 columns]\n"
     ]
    }
   ],
   "source": [
    "male = pd.get_dummies(train['Sex'], drop_first=True)\n",
    "print(male)"
   ]
  },
  {
   "cell_type": "code",
   "execution_count": 29,
   "id": "f9766146-580e-486b-b941-b4a28ca67f9f",
   "metadata": {},
   "outputs": [],
   "source": [
    "embark = pd.get_dummies(train['Embarked'], drop_first=True)\n",
    "\n",
    "# drop categorical variables from data set\n",
    "train.drop(['Sex','Embarked','Name','Ticket'], axis=1, inplace=True)\n",
    "\n",
    "# add newly created dummies to the data set instead\n",
    "train = pd.concat([train, male, embark], axis=1)"
   ]
  },
  {
   "cell_type": "code",
   "execution_count": 30,
   "id": "af40f447-246d-41ae-ab4f-05d72e3b55d2",
   "metadata": {},
   "outputs": [],
   "source": [
    "# split the data\n",
    "\n",
    "X_train, X_test, y_train, y_test = train_test_split(\n",
    "    train.drop('Survived', axis =1),     # using all columns as covariates except the survivor one\n",
    "    train['Survived'],\n",
    "    test_size = 0.3,\n",
    "    random_state = 101)\n"
   ]
  },
  {
   "cell_type": "code",
   "execution_count": 31,
   "id": "b0b754ad-0157-4a80-a940-23fe631252ea",
   "metadata": {},
   "outputs": [
    {
     "data": {
      "text/html": [
       "<style>#sk-container-id-4 {color: black;}#sk-container-id-4 pre{padding: 0;}#sk-container-id-4 div.sk-toggleable {background-color: white;}#sk-container-id-4 label.sk-toggleable__label {cursor: pointer;display: block;width: 100%;margin-bottom: 0;padding: 0.3em;box-sizing: border-box;text-align: center;}#sk-container-id-4 label.sk-toggleable__label-arrow:before {content: \"▸\";float: left;margin-right: 0.25em;color: #696969;}#sk-container-id-4 label.sk-toggleable__label-arrow:hover:before {color: black;}#sk-container-id-4 div.sk-estimator:hover label.sk-toggleable__label-arrow:before {color: black;}#sk-container-id-4 div.sk-toggleable__content {max-height: 0;max-width: 0;overflow: hidden;text-align: left;background-color: #f0f8ff;}#sk-container-id-4 div.sk-toggleable__content pre {margin: 0.2em;color: black;border-radius: 0.25em;background-color: #f0f8ff;}#sk-container-id-4 input.sk-toggleable__control:checked~div.sk-toggleable__content {max-height: 200px;max-width: 100%;overflow: auto;}#sk-container-id-4 input.sk-toggleable__control:checked~label.sk-toggleable__label-arrow:before {content: \"▾\";}#sk-container-id-4 div.sk-estimator input.sk-toggleable__control:checked~label.sk-toggleable__label {background-color: #d4ebff;}#sk-container-id-4 div.sk-label input.sk-toggleable__control:checked~label.sk-toggleable__label {background-color: #d4ebff;}#sk-container-id-4 input.sk-hidden--visually {border: 0;clip: rect(1px 1px 1px 1px);clip: rect(1px, 1px, 1px, 1px);height: 1px;margin: -1px;overflow: hidden;padding: 0;position: absolute;width: 1px;}#sk-container-id-4 div.sk-estimator {font-family: monospace;background-color: #f0f8ff;border: 1px dotted black;border-radius: 0.25em;box-sizing: border-box;margin-bottom: 0.5em;}#sk-container-id-4 div.sk-estimator:hover {background-color: #d4ebff;}#sk-container-id-4 div.sk-parallel-item::after {content: \"\";width: 100%;border-bottom: 1px solid gray;flex-grow: 1;}#sk-container-id-4 div.sk-label:hover label.sk-toggleable__label {background-color: #d4ebff;}#sk-container-id-4 div.sk-serial::before {content: \"\";position: absolute;border-left: 1px solid gray;box-sizing: border-box;top: 0;bottom: 0;left: 50%;z-index: 0;}#sk-container-id-4 div.sk-serial {display: flex;flex-direction: column;align-items: center;background-color: white;padding-right: 0.2em;padding-left: 0.2em;position: relative;}#sk-container-id-4 div.sk-item {position: relative;z-index: 1;}#sk-container-id-4 div.sk-parallel {display: flex;align-items: stretch;justify-content: center;background-color: white;position: relative;}#sk-container-id-4 div.sk-item::before, #sk-container-id-4 div.sk-parallel-item::before {content: \"\";position: absolute;border-left: 1px solid gray;box-sizing: border-box;top: 0;bottom: 0;left: 50%;z-index: -1;}#sk-container-id-4 div.sk-parallel-item {display: flex;flex-direction: column;z-index: 1;position: relative;background-color: white;}#sk-container-id-4 div.sk-parallel-item:first-child::after {align-self: flex-end;width: 50%;}#sk-container-id-4 div.sk-parallel-item:last-child::after {align-self: flex-start;width: 50%;}#sk-container-id-4 div.sk-parallel-item:only-child::after {width: 0;}#sk-container-id-4 div.sk-dashed-wrapped {border: 1px dashed gray;margin: 0 0.4em 0.5em 0.4em;box-sizing: border-box;padding-bottom: 0.4em;background-color: white;}#sk-container-id-4 div.sk-label label {font-family: monospace;font-weight: bold;display: inline-block;line-height: 1.2em;}#sk-container-id-4 div.sk-label-container {text-align: center;}#sk-container-id-4 div.sk-container {/* jupyter's `normalize.less` sets `[hidden] { display: none; }` but bootstrap.min.css set `[hidden] { display: none !important; }` so we also need the `!important` here to be able to override the default hidden behavior on the sphinx rendered scikit-learn.org. See: https://github.com/scikit-learn/scikit-learn/issues/21755 */display: inline-block !important;position: relative;}#sk-container-id-4 div.sk-text-repr-fallback {display: none;}</style><div id=\"sk-container-id-4\" class=\"sk-top-container\"><div class=\"sk-text-repr-fallback\"><pre>LogisticRegression(solver=&#x27;liblinear&#x27;)</pre><b>In a Jupyter environment, please rerun this cell to show the HTML representation or trust the notebook. <br />On GitHub, the HTML representation is unable to render, please try loading this page with nbviewer.org.</b></div><div class=\"sk-container\" hidden><div class=\"sk-item\"><div class=\"sk-estimator sk-toggleable\"><input class=\"sk-toggleable__control sk-hidden--visually\" id=\"sk-estimator-id-4\" type=\"checkbox\" checked><label for=\"sk-estimator-id-4\" class=\"sk-toggleable__label sk-toggleable__label-arrow\">LogisticRegression</label><div class=\"sk-toggleable__content\"><pre>LogisticRegression(solver=&#x27;liblinear&#x27;)</pre></div></div></div></div></div>"
      ],
      "text/plain": [
       "LogisticRegression(solver='liblinear')"
      ]
     },
     "execution_count": 31,
     "metadata": {},
     "output_type": "execute_result"
    }
   ],
   "source": [
    "# initialize model\n",
    "from sklearn.linear_model import LogisticRegression\n",
    "\n",
    "logmodel = LogisticRegression(solver = 'liblinear')\n",
    "\n",
    "# train the model\n",
    "logmodel.fit(X_train, y_train)"
   ]
  },
  {
   "cell_type": "code",
   "execution_count": 32,
   "id": "08d9d430-074e-46a7-a646-acb10f9cc15c",
   "metadata": {},
   "outputs": [],
   "source": [
    "# predict test set\n",
    "log_pred = logmodel.predict(X_test)"
   ]
  },
  {
   "cell_type": "code",
   "execution_count": 33,
   "id": "13c9942c-794a-48cd-b7dd-9b5ec67905c1",
   "metadata": {},
   "outputs": [
    {
     "name": "stdout",
     "output_type": "stream",
     "text": [
      "              precision    recall  f1-score   support\n",
      "\n",
      "           0       0.77      0.88      0.82       154\n",
      "           1       0.79      0.64      0.71       114\n",
      "\n",
      "    accuracy                           0.78       268\n",
      "   macro avg       0.78      0.76      0.76       268\n",
      "weighted avg       0.78      0.78      0.77       268\n",
      "\n"
     ]
    }
   ],
   "source": [
    "# evaluate\n",
    "from sklearn.metrics import classification_report, confusion_matrix, ConfusionMatrixDisplay\n",
    "\n",
    "# classification report\n",
    "print(classification_report(y_test, log_pred))\n"
   ]
  },
  {
   "cell_type": "code",
   "execution_count": 34,
   "id": "bdc6e6bb-4a6f-45a5-813d-f1bbb73ea684",
   "metadata": {},
   "outputs": [
    {
     "name": "stdout",
     "output_type": "stream",
     "text": [
      "[[135  19]\n",
      " [ 41  73]]\n"
     ]
    },
    {
     "data": {
      "image/png": "[encoded data removed]",
      "text/plain": [
       "<Figure size 640x480 with 2 Axes>"
      ]
     },
     "metadata": {},
     "output_type": "display_data"
    }
   ],
   "source": [
    "# confusion matrix, just gives out an array\n",
    "cm = confusion_matrix(y_test, \n",
    "                      log_pred, \n",
    "                      labels = logmodel.classes_)\n",
    "\n",
    "# confusion matrix plot\n",
    "disp = ConfusionMatrixDisplay(confusion_matrix = cm, \n",
    "                              display_labels= logmodel.classes_)\n",
    "disp.plot()\n",
    "print(cm)"
   ]
  },
  {
   "cell_type": "code",
   "execution_count": 35,
   "id": "fa756f1b-9bdc-47d6-a536-d074d0219b23",
   "metadata": {},
   "outputs": [],
   "source": [
    "# prediction probabilities\n",
    "\n",
    "y_predict_prob = logmodel.predict_proba(X_test)[:,1]"
   ]
  },
  {
   "cell_type": "code",
   "execution_count": 36,
   "id": "04d46347-2bc3-40a1-9fa9-b4549a7aaddd",
   "metadata": {},
   "outputs": [],
   "source": [
    "from sklearn.metrics import roc_curve, auc\n",
    "\n",
    "# get false positive rate, true positive rate and thresholds\n",
    "fpr, tpr, thr = roc_curve(y_test, y_predict_prob)\n",
    "\n",
    "# area under ROC curve\n",
    "roc_auc = auc(fpr, tpr)"
   ]
  },
  {
   "cell_type": "code",
   "execution_count": 37,
   "id": "d1c9e8cb-d796-403a-b42d-293d48e43be8",
   "metadata": {},
   "outputs": [
    {
     "data": {
      "image/png": "[encoded data removed]",
      "text/plain": [
       "<Figure size 640x480 with 1 Axes>"
      ]
     },
     "metadata": {},
     "output_type": "display_data"
    }
   ],
   "source": [
    "# plot results with MATPLOTLIB\n",
    "plt.figure()\n",
    "plt.plot(fpr, tpr, color='gold',\n",
    "         lw=2, label='ROC curve (area = %0.2f)' % roc_auc)\n",
    "plt.plot([0, 1], [0, 1], color='teal', lw=2, linestyle='--')\n",
    "plt.xlabel('False Positive Rate')\n",
    "plt.ylabel('True Positive Rate')\n",
    "plt.title('ROC Curve')\n",
    "plt.legend(loc=\"lower right\")\n",
    "plt.show()"
   ]
  },
  {
   "cell_type": "code",
   "execution_count": null,
   "id": "eadbd9f2-2787-4ee4-a08f-94059af73d45",
   "metadata": {},
   "outputs": [],
   "source": []
  }
 ],
 "metadata": {
  "kernelspec": {
   "display_name": "Python 3 (ipykernel)",
   "language": "python",
   "name": "python3"
  },
  "language_info": {
   "codemirror_mode": {
    "name": "ipython",
    "version": 3
   },
   "file_extension": ".py",
   "mimetype": "text/x-python",
   "name": "python",
   "nbconvert_exporter": "python",
   "pygments_lexer": "ipython3",
   "version": "3.12.0"
  }
 },
 "nbformat": 4,
 "nbformat_minor": 5
}
