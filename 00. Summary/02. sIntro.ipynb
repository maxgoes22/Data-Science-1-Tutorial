{
 "cells": [
  {
   "cell_type": "markdown",
   "id": "3e49754f-1816-4283-b463-e8f812f3cc53",
   "metadata": {},
   "source": [
    "# Intro I"
   ]
  },
  {
   "cell_type": "markdown",
   "id": "4e49d394-4c98-401b-8a1d-97b88c48b7b3",
   "metadata": {},
   "source": [
    "Assigning mulitple variables with one code:"
   ]
  },
  {
   "cell_type": "code",
   "execution_count": 1,
   "id": "fb6ce68b-d501-4f19-a261-699f2e79e832",
   "metadata": {},
   "outputs": [
    {
     "name": "stdout",
     "output_type": "stream",
     "text": [
      "1990\n",
      "89\n"
     ]
    }
   ],
   "source": [
    "the, house = 1990, 89\n",
    "\n",
    "print(the)\n",
    "print(house)\n"
   ]
  },
  {
   "cell_type": "markdown",
   "id": "6f8d0fd3-a69c-4ac7-9455-adfdd7388277",
   "metadata": {},
   "source": [
    "Careful with re-assignment:"
   ]
  },
  {
   "cell_type": "code",
   "execution_count": 6,
   "id": "7fd03bc2-d76d-498d-ac06-3254441f3627",
   "metadata": {},
   "outputs": [
    {
     "name": "stdout",
     "output_type": "stream",
     "text": [
      "10\n"
     ]
    }
   ],
   "source": [
    "s = 10\n",
    "f = s     # so f = 10\n",
    "s = 30    # giving s a new value, doesn't change the previous assignment\n",
    "\n",
    "print(f)"
   ]
  },
  {
   "cell_type": "markdown",
   "id": "7b99065c-c754-4fbe-a738-aa9711998986",
   "metadata": {},
   "source": [
    "On the other hand:"
   ]
  },
  {
   "cell_type": "code",
   "execution_count": 8,
   "id": "6ad94507-08a7-4763-8397-bf0c8e75c8e5",
   "metadata": {},
   "outputs": [
    {
     "name": "stdout",
     "output_type": "stream",
     "text": [
      "[34, 89, 67, 90, 78]\n"
     ]
    }
   ],
   "source": [
    "values = [34, 89, 67, 90]\n",
    "numbers = values\n",
    "values.append(78)\n",
    "\n",
    "print(values)"
   ]
  },
  {
   "cell_type": "markdown",
   "id": "af1cdbd8-4169-4fbc-a172-7042c72e6dc3",
   "metadata": {},
   "source": [
    "## Sequences: Tuples, Lists, Strings"
   ]
  },
  {
   "cell_type": "markdown",
   "id": "f837246e-4c7e-497d-abd0-10783d7b8be2",
   "metadata": {},
   "source": [
    "### Copying vs Referencing a list:"
   ]
  },
  {
   "cell_type": "code",
   "execution_count": 22,
   "id": "d6769ab6-2ed6-4cca-82c3-c3fa607949f8",
   "metadata": {},
   "outputs": [
    {
     "name": "stdout",
     "output_type": "stream",
     "text": [
      "[23, 98, 900, ('what', 'ever'), 'heya', 8998]\n",
      "[23, 98]\n",
      "[23, 98, 'hush', ('what', 'ever'), 'heya', 8998]\n",
      "[23, 98, 'hush', ('what', 'ever'), 'heya', 8998]\n"
     ]
    }
   ],
   "source": [
    "# new list\n",
    "list = [23, 98, 900, (\"what\",\"ever\"), \"heya\", 8998]\n",
    "\n",
    "# copy the whole list\n",
    "copy = list[:]  \n",
    "print(copy)\n",
    "\n",
    "# copy part of the list\n",
    "copy_part = list[:2]\n",
    "print(copy_part)\n",
    "\n",
    "# create a reference\n",
    "ref = list\n",
    "\n",
    "# modify list and see what happens with ref\n",
    "list[2] = \"hush\"\n",
    "print(ref)\n",
    "print(list)\n"
   ]
  },
  {
   "cell_type": "markdown",
   "id": "1a137a89-3992-4869-968d-40f96d5c64dd",
   "metadata": {},
   "source": [
    "### Check what's inside:"
   ]
  },
  {
   "cell_type": "code",
   "execution_count": 23,
   "id": "7590f741-c6b0-4533-93be-e573cdb723eb",
   "metadata": {},
   "outputs": [
    {
     "name": "stdout",
     "output_type": "stream",
     "text": [
      "True\n",
      "False\n",
      "True\n",
      "False\n"
     ]
    }
   ],
   "source": [
    "# test wether a value is inside a list:\n",
    "print(\"hush\" in list)\n",
    "print(\"hish\" in list)\n",
    "\n",
    "# test wether a value is inside a string:\n",
    "string = \"I am tired and I want to stop working.\"\n",
    "print(\"re\" in string)\n",
    "print(\"ak\" in list)"
   ]
  },
  {
   "cell_type": "markdown",
   "id": "9a5ba643-c10e-457a-a301-7ff04978414d",
   "metadata": {},
   "source": [
    "### Mutation:"
   ]
  },
  {
   "cell_type": "code",
   "execution_count": 28,
   "id": "72a79e6c-09e7-47f9-a7d0-d41d98e89b66",
   "metadata": {},
   "outputs": [
    {
     "name": "stdout",
     "output_type": "stream",
     "text": [
      "(4578, 920, 'whats', 'cookin')\n",
      "['hey', 'Jude', 849, 90, 90]\n",
      "yes, let's go!\n"
     ]
    }
   ],
   "source": [
    "# + operator adds one sequence to another, simple concatenation\n",
    "a = (4578, 920) + (\"whats\", \"cookin\")\n",
    "b = ['hey', 'Jude'] + [849, 90, 90]\n",
    "c = \"yes, \" + \"let's \" + \"go!\"\n",
    "\n",
    "print(a)\n",
    "print(b)\n",
    "print(c)"
   ]
  },
  {
   "cell_type": "code",
   "execution_count": 32,
   "id": "010fc1c5-8ac5-4e7b-a17a-8c2184bba6da",
   "metadata": {},
   "outputs": [
    {
     "name": "stdout",
     "output_type": "stream",
     "text": [
      "(4578, 920, 4578, 920)\n",
      "[849, 90, 90, 849, 90, 90, 849, 90, 90, 849, 90, 90, 849, 90, 90]\n",
      "yes, let's go! go! go! no way\n"
     ]
    }
   ],
   "source": [
    "# * operator REPEATS the sequence\n",
    "a = (4578, 920) * 2\n",
    "b = [849, 90, 90] * 5\n",
    "c = \"yes, \" + \"let's \" + \"go! \" * 3 + \"no way\"\n",
    "\n",
    "print(a)\n",
    "print(b)\n",
    "print(c)"
   ]
  },
  {
   "cell_type": "code",
   "execution_count": 33,
   "id": "0629a4e1-22c3-427d-bf9d-6be42b010ddd",
   "metadata": {},
   "outputs": [
    {
     "ename": "TypeError",
     "evalue": "'tuple' object does not support item assignment",
     "output_type": "error",
     "traceback": [
      "\u001b[0;31m---------------------------------------------------------------------------\u001b[0m",
      "\u001b[0;31mTypeError\u001b[0m                                 Traceback (most recent call last)",
      "Cell \u001b[0;32mIn[33], line 4\u001b[0m\n\u001b[1;32m      1\u001b[0m \u001b[38;5;66;03m# tuples: CANNOT be mutated\u001b[39;00m\n\u001b[1;32m      3\u001b[0m \u001b[38;5;28mtuple\u001b[39m \u001b[38;5;241m=\u001b[39m (\u001b[38;5;241m23\u001b[39m, \u001b[38;5;241m90\u001b[39m, \u001b[38;5;124m'\u001b[39m\u001b[38;5;124mheya\u001b[39m\u001b[38;5;124m'\u001b[39m, \u001b[38;5;124m'\u001b[39m\u001b[38;5;124m89840\u001b[39m\u001b[38;5;124m'\u001b[39m, \u001b[38;5;241m739849\u001b[39m)\n\u001b[0;32m----> 4\u001b[0m \u001b[38;5;28;43mtuple\u001b[39;49m\u001b[43m[\u001b[49m\u001b[38;5;241;43m3\u001b[39;49m\u001b[43m]\u001b[49m \u001b[38;5;241m=\u001b[39m \u001b[38;5;241m2\u001b[39m\n",
      "\u001b[0;31mTypeError\u001b[0m: 'tuple' object does not support item assignment"
     ]
    }
   ],
   "source": [
    "# tuples: CANNOT be mutated\n",
    "tuple = (23, 90, 'heya', '89840', 739849)\n",
    "tuple[3] = 2"
   ]
  },
  {
   "cell_type": "code",
   "execution_count": 38,
   "id": "cd56f754-a01a-4bcd-8e6d-e339b8758f4e",
   "metadata": {},
   "outputs": [
    {
     "name": "stdout",
     "output_type": "stream",
     "text": [
      "(23, 90, 'heya', '89840', [78, 'no way'], 739849)\n"
     ]
    }
   ],
   "source": [
    "# BUT: a list inside a tuple CAN be mutated:\n",
    "tuple_list = (23, 90, 'heya', '89840', [78, \"what\"], 739849)\n",
    "tuple_list[4][1] = \"no way\"\n",
    "print(tuple_list)"
   ]
  },
  {
   "cell_type": "markdown",
   "id": "48d26142-ab2d-4e1f-87bb-379b5be4e444",
   "metadata": {},
   "source": [
    "### List operations:"
   ]
  },
  {
   "cell_type": "code",
   "execution_count": 60,
   "id": "0345a389-54db-420f-be75-9007affca70e",
   "metadata": {},
   "outputs": [],
   "source": [
    "list_op = [342.789, 80, 4839, 390]"
   ]
  },
  {
   "cell_type": "code",
   "execution_count": 61,
   "id": "14345447-cd5a-47e2-bb93-caf65a212f7c",
   "metadata": {},
   "outputs": [
    {
     "name": "stdout",
     "output_type": "stream",
     "text": [
      "[342.789, 80, 4839, 390, [89, 2, 4]]\n"
     ]
    }
   ],
   "source": [
    "# append another list\n",
    "list_op.append([89, 2, 4])\n",
    "print(list_op)"
   ]
  },
  {
   "cell_type": "code",
   "execution_count": 62,
   "id": "2ca5200b-c624-4263-9425-331ea9b85892",
   "metadata": {},
   "outputs": [
    {
     "ename": "TypeError",
     "evalue": "list.append() takes exactly one argument (3 given)",
     "output_type": "error",
     "traceback": [
      "\u001b[0;31m---------------------------------------------------------------------------\u001b[0m",
      "\u001b[0;31mTypeError\u001b[0m                                 Traceback (most recent call last)",
      "Cell \u001b[0;32mIn[62], line 2\u001b[0m\n\u001b[1;32m      1\u001b[0m \u001b[38;5;66;03m# not possible to append more than one argument\u001b[39;00m\n\u001b[0;32m----> 2\u001b[0m \u001b[43mlist_op\u001b[49m\u001b[38;5;241;43m.\u001b[39;49m\u001b[43mappend\u001b[49m\u001b[43m(\u001b[49m\u001b[38;5;241;43m89\u001b[39;49m\u001b[43m,\u001b[49m\u001b[43m \u001b[49m\u001b[38;5;241;43m2\u001b[39;49m\u001b[43m,\u001b[49m\u001b[43m \u001b[49m\u001b[38;5;241;43m4\u001b[39;49m\u001b[43m)\u001b[49m\n\u001b[1;32m      3\u001b[0m \u001b[38;5;28mprint\u001b[39m(list_op)\n",
      "\u001b[0;31mTypeError\u001b[0m: list.append() takes exactly one argument (3 given)"
     ]
    }
   ],
   "source": [
    "# not possible to append more than one argument\n",
    "list_op.append(89, 2, 4)\n",
    "print(list_op)"
   ]
  },
  {
   "cell_type": "code",
   "execution_count": 63,
   "id": "c3f9eb6b-a8b7-4282-bcc1-aaa42bcf6111",
   "metadata": {},
   "outputs": [
    {
     "name": "stdout",
     "output_type": "stream",
     "text": [
      "[342.789, 80, 4839, 390, [89, 2, 4], 1, 1, 1]\n"
     ]
    }
   ],
   "source": [
    "# to \"append\" more than one element, use \"extend\"\n",
    "list_op.extend([1,1,1])\n",
    "print(list_op)"
   ]
  },
  {
   "cell_type": "code",
   "execution_count": 64,
   "id": "8f14526c-d30c-4f60-8bee-1266197d4751",
   "metadata": {},
   "outputs": [
    {
     "name": "stdout",
     "output_type": "stream",
     "text": [
      "[342.789, 80, 'inserted', 4839, 390, [89, 2, 4], 1, 1, 1]\n"
     ]
    }
   ],
   "source": [
    "# insert value into specific spot (index)\n",
    "list_op.insert(2, 'inserted')\n",
    "print(list_op)"
   ]
  },
  {
   "cell_type": "code",
   "execution_count": 65,
   "id": "445c7050-ba51-4a22-bc72-bb912c8b798e",
   "metadata": {},
   "outputs": [
    {
     "data": {
      "text/plain": [
       "1"
      ]
     },
     "execution_count": 65,
     "metadata": {},
     "output_type": "execute_result"
    }
   ],
   "source": [
    "# index of first occurence\n",
    "list_op.index(80)"
   ]
  },
  {
   "cell_type": "code",
   "execution_count": 66,
   "id": "2049f91c-59b2-4483-8854-900f7a67eac4",
   "metadata": {},
   "outputs": [
    {
     "data": {
      "text/plain": [
       "3"
      ]
     },
     "execution_count": 66,
     "metadata": {},
     "output_type": "execute_result"
    }
   ],
   "source": [
    "# number of occurences\n",
    "list_op.count(1)"
   ]
  },
  {
   "cell_type": "code",
   "execution_count": 67,
   "id": "3f21c61f-6943-46f9-920e-7eb27d802ac6",
   "metadata": {},
   "outputs": [
    {
     "name": "stdout",
     "output_type": "stream",
     "text": [
      "[342.789, 'inserted', 4839, 390, [89, 2, 4], 1, 1, 1]\n"
     ]
    }
   ],
   "source": [
    "# remove first occurence\n",
    "list_op.remove(80)\n",
    "print(list_op)"
   ]
  },
  {
   "cell_type": "code",
   "execution_count": 70,
   "id": "39e83e32-4eaa-49f4-930a-2b1fd5e32711",
   "metadata": {},
   "outputs": [
    {
     "data": {
      "text/plain": [
       "[1, 1, 1, [89, 2, 4], 390, 4839, 'inserted', 342.789]"
      ]
     },
     "execution_count": 70,
     "metadata": {},
     "output_type": "execute_result"
    }
   ],
   "source": [
    "# reverse the list\n",
    "list_op.reverse()\n",
    "list_op"
   ]
  },
  {
   "cell_type": "code",
   "execution_count": 1,
   "id": "fdbe0115-2c6d-41d1-95a1-df954f380204",
   "metadata": {},
   "outputs": [
    {
     "data": {
      "text/plain": [
       "[3, 789, 2093, 9304, 6078875]"
      ]
     },
     "execution_count": 1,
     "metadata": {},
     "output_type": "execute_result"
    }
   ],
   "source": [
    "# sort the list (has to consist of numerical values)\n",
    "list_num = [3, 6078875, 789, 2093, 9304]\n",
    "\n",
    "list_num.sort()\n",
    "list_num"
   ]
  },
  {
   "cell_type": "code",
   "execution_count": 2,
   "id": "d7a475c2-7c74-4e69-b56b-540050c1158f",
   "metadata": {},
   "outputs": [
    {
     "name": "stdout",
     "output_type": "stream",
     "text": [
      "[6078875, 9304, 2093, 789, 3]\n"
     ]
    }
   ],
   "source": [
    "# sorting the list reversed\n",
    "list_num.sort(reverse=True)\n",
    "print(list_num)"
   ]
  },
  {
   "cell_type": "markdown",
   "id": "f2931af8-b505-4472-8385-5cc7678f3792",
   "metadata": {},
   "source": [
    "### Tuples & Lists"
   ]
  },
  {
   "cell_type": "code",
   "execution_count": 3,
   "id": "7f17e2f5-35a9-4b28-9460-96cad879eed4",
   "metadata": {},
   "outputs": [
    {
     "data": {
      "text/plain": [
       "[(1, 1), (1, 2), (0, 3)]"
      ]
     },
     "execution_count": 3,
     "metadata": {},
     "output_type": "execute_result"
    }
   ],
   "source": [
    "# sorting tuples inside a list\n",
    "list_tup = [(1, 2), (0, 3), (1, 1)] \n",
    "  \n",
    "# sorts the array in ascending order according to second element \n",
    "list_tup.sort(key = lambda x: x[1])  \n",
    "list_tup"
   ]
  },
  {
   "cell_type": "code",
   "execution_count": 5,
   "id": "631c0521-d697-482d-ad28-c280b60b8257",
   "metadata": {},
   "outputs": [
    {
     "name": "stdout",
     "output_type": "stream",
     "text": [
      "(6078875, 9304, 2093, 789, 3)\n",
      "[1, 4, 5, 2]\n"
     ]
    }
   ],
   "source": [
    "# convert a list into a tuple\n",
    "listt = [1,2,3,4]\n",
    "tupl = tuple(list_num)\n",
    "print(tupl)\n",
    "\n",
    "# convert tuple into a list\n",
    "tup = (1,4,5,2)\n",
    "lis = list(tup)\n",
    "print(lis)"
   ]
  },
  {
   "cell_type": "markdown",
   "id": "5c154b3a-a378-4c85-9950-9d2341045a97",
   "metadata": {},
   "source": [
    "## Dictionaries"
   ]
  },
  {
   "cell_type": "code",
   "execution_count": 8,
   "id": "07ea1396-6351-46d6-b2cb-2295864f1fdd",
   "metadata": {},
   "outputs": [
    {
     "name": "stdout",
     "output_type": "stream",
     "text": [
      "{'fruit': 'apple', 'berry': 'blueberry', 'pasta': 'linguini', 'number': 349}\n"
     ]
    }
   ],
   "source": [
    "dict = {\n",
    "    'fruit': \"apple\",\n",
    "    'berry': 'blueberry',\n",
    "    'pasta': 'linguini',\n",
    "    'number': 349\n",
    "}\n",
    "\n",
    "print(dict)"
   ]
  },
  {
   "cell_type": "code",
   "execution_count": 9,
   "id": "a6d7e79f-17af-45dc-90e0-242cf9039551",
   "metadata": {},
   "outputs": [
    {
     "data": {
      "text/plain": [
       "'blueberry'"
      ]
     },
     "execution_count": 9,
     "metadata": {},
     "output_type": "execute_result"
    }
   ],
   "source": [
    "# access an element by key\n",
    "dict['berry']"
   ]
  },
  {
   "cell_type": "code",
   "execution_count": 10,
   "id": "b2d4663c-570a-4784-84e9-2f0b8269ef94",
   "metadata": {},
   "outputs": [
    {
     "ename": "KeyError",
     "evalue": "'apple'",
     "output_type": "error",
     "traceback": [
      "\u001b[0;31m---------------------------------------------------------------------------\u001b[0m",
      "\u001b[0;31mKeyError\u001b[0m                                  Traceback (most recent call last)",
      "Cell \u001b[0;32mIn[10], line 2\u001b[0m\n\u001b[1;32m      1\u001b[0m \u001b[38;5;66;03m# cannot use value to access key\u001b[39;00m\n\u001b[0;32m----> 2\u001b[0m \u001b[38;5;28;43mdict\u001b[39;49m\u001b[43m[\u001b[49m\u001b[38;5;124;43m'\u001b[39;49m\u001b[38;5;124;43mapple\u001b[39;49m\u001b[38;5;124;43m'\u001b[39;49m\u001b[43m]\u001b[49m\n",
      "\u001b[0;31mKeyError\u001b[0m: 'apple'"
     ]
    }
   ],
   "source": [
    "# cannot use value to access key\n",
    "dict['apple']"
   ]
  },
  {
   "cell_type": "code",
   "execution_count": 11,
   "id": "91967077-0032-4682-a1a6-d6395cdd8bff",
   "metadata": {},
   "outputs": [
    {
     "name": "stdout",
     "output_type": "stream",
     "text": [
      "{'fruit': 'apple', 'berry': 'raspberry', 'pasta': 'linguini', 'number': 900}\n"
     ]
    }
   ],
   "source": [
    "# change values of a dictionary\n",
    "dict['berry'] = 'raspberry'\n",
    "dict['number'] = 900\n",
    "\n",
    "print(dict)"
   ]
  },
  {
   "cell_type": "code",
   "execution_count": 12,
   "id": "0489b302-56ee-41e6-ac83-407dc23de465",
   "metadata": {},
   "outputs": [
    {
     "data": {
      "text/plain": [
       "{'berry': 'raspberry', 'pasta': 'linguini', 'number': 900}"
      ]
     },
     "execution_count": 12,
     "metadata": {},
     "output_type": "execute_result"
    }
   ],
   "source": [
    "# remove elements of a dictionary\n",
    "del dict['fruit']\n",
    "dict"
   ]
  },
  {
   "cell_type": "code",
   "execution_count": 13,
   "id": "08dcb8c3-3066-4f60-9252-b6f1fa1ba4bb",
   "metadata": {},
   "outputs": [
    {
     "data": {
      "text/plain": [
       "['berry', 'pasta', 'number']"
      ]
     },
     "execution_count": 13,
     "metadata": {},
     "output_type": "execute_result"
    }
   ],
   "source": [
    "# list keys of a dictionary\n",
    "list(dict.keys())"
   ]
  },
  {
   "cell_type": "code",
   "execution_count": 14,
   "id": "dcd8aedb-77dc-450a-859f-6417e5c1a46c",
   "metadata": {},
   "outputs": [
    {
     "data": {
      "text/plain": [
       "['raspberry', 'linguini', 900]"
      ]
     },
     "execution_count": 14,
     "metadata": {},
     "output_type": "execute_result"
    }
   ],
   "source": [
    "# list values of a dictionary\n",
    "list(dict.values())"
   ]
  },
  {
   "cell_type": "code",
   "execution_count": 15,
   "id": "ff47e9ad-6d09-402d-99ef-6c585d2c2355",
   "metadata": {},
   "outputs": [
    {
     "data": {
      "text/plain": [
       "[('berry', 'raspberry'), ('pasta', 'linguini'), ('number', 900)]"
      ]
     },
     "execution_count": 15,
     "metadata": {},
     "output_type": "execute_result"
    }
   ],
   "source": [
    "# list items of a dictionary\n",
    "list(dict.items())"
   ]
  },
  {
   "cell_type": "markdown",
   "id": "b9953327-f1d4-49c1-812f-b0e2f91e2217",
   "metadata": {},
   "source": [
    "# Intro II"
   ]
  },
  {
   "cell_type": "markdown",
   "id": "db360ff6-85f5-4902-beac-fe3b9c4233b1",
   "metadata": {},
   "source": [
    "## Functions"
   ]
  },
  {
   "cell_type": "markdown",
   "id": "f1b6cd7d-9dc3-45f2-a53d-7b9f8b84f53d",
   "metadata": {},
   "source": [
    "Scope\n",
    "- parameters and variables inside a function only work locally (i.e. inside the function)  \n",
    "        *Cannot be called outside the function!*\n",
    "\n",
    "  \n",
    "Lifetime\n",
    "- lifetime of a variable inside a function is only the duration of the function running, afterwards it's deleted\n",
    "\n",
    "  \n",
    "(Im)Mutable Objects\n",
    "-  Passing an immutable object (string) to a function and changing its value within a function does not change the original object.\n",
    "-  Passing a mutable object (e.g., list) to a function and changing its element within a function changes the original list:\n",
    "\n",
    "  \n",
    "Other Facts\n",
    "* no function overloading: different functions, with different arguments can have the same name\n",
    "* functions are *first class* objects, <br> (can be used as any other data type)\n",
    "* functions are *objects*\n",
    "* function names are *variables*"
   ]
  },
  {
   "cell_type": "code",
   "execution_count": 2,
   "id": "451e1951-409c-40b5-a629-088876611689",
   "metadata": {},
   "outputs": [
    {
     "name": "stdout",
     "output_type": "stream",
     "text": [
      "89 203 10 100\n",
      "89 203 56 3849\n"
     ]
    }
   ],
   "source": [
    "# Functions can define defaults for parameters that need not be passed\n",
    "def func(a, b, c=10, d=100):\n",
    "  print(a, b, c, d)\n",
    "\n",
    "# prints the default values for c and d\n",
    "func(89, 203)\n",
    "\n",
    "# BUT default can be overridden if assigned\n",
    "func(89, 203, 56, 3849)"
   ]
  },
  {
   "cell_type": "code",
   "execution_count": 10,
   "id": "581a3cef-c811-4034-9b4e-f37e343f5a58",
   "metadata": {},
   "outputs": [
    {
     "data": {
      "text/plain": [
       "'something'"
      ]
     },
     "execution_count": 10,
     "metadata": {},
     "output_type": "execute_result"
    }
   ],
   "source": [
    "# all functions have a return value\n",
    "# (return statement can also only be used INSIDE a function)\n",
    "def return_sth():\n",
    "    return \"something\"\n",
    "\n",
    "return_sth()"
   ]
  },
  {
   "cell_type": "code",
   "execution_count": 11,
   "id": "e237dc7e-7965-4c5d-8516-870ce48a85c6",
   "metadata": {},
   "outputs": [
    {
     "name": "stdout",
     "output_type": "stream",
     "text": [
      "None\n"
     ]
    }
   ],
   "source": [
    "# if they don't have return statement, \"None\" will be returned\n",
    "def no_return(h,l):\n",
    "    addition = h + l + 8989\n",
    "\n",
    "# without the print() command (or value assignment) \n",
    "# literally nothing is returned\n",
    "print(no_return(5, 8))"
   ]
  },
  {
   "cell_type": "code",
   "execution_count": 13,
   "id": "90742631-a925-467a-8980-ae51f2c41619",
   "metadata": {},
   "outputs": [],
   "source": [
    "x = 798\n",
    "x"
   ]
  },
  {
   "cell_type": "code",
   "execution_count": 14,
   "id": "5043b4cf-7373-45da-a6b5-273468a4e53e",
   "metadata": {},
   "outputs": [
    {
     "data": {
      "text/plain": [
       "<function __main__.x()>"
      ]
     },
     "execution_count": 14,
     "metadata": {},
     "output_type": "execute_result"
    }
   ],
   "source": [
    "def x ():\n",
    "    print('yaaay')\n",
    "\n",
    "# even though x was defined beforehand as 789, the define function\n",
    "# overrides this and claims the variable x now for the function only\n",
    "# calling just x (without brackets) does not work\n",
    "x"
   ]
  },
  {
   "cell_type": "code",
   "execution_count": 16,
   "id": "490215bb-9558-4a7b-a233-19373c8bf68b",
   "metadata": {},
   "outputs": [
    {
     "name": "stdout",
     "output_type": "stream",
     "text": [
      "yaaay\n"
     ]
    }
   ],
   "source": [
    "# x with brackets returns the function call\n",
    "x()"
   ]
  },
  {
   "cell_type": "code",
   "execution_count": 20,
   "id": "bd937191-30aa-4d7e-be27-a52332ebf804",
   "metadata": {},
   "outputs": [
    {
     "name": "stdout",
     "output_type": "stream",
     "text": [
      "yaaay\n",
      "yaaay\n"
     ]
    }
   ],
   "source": [
    "# A function can be assigned to a new variable:\n",
    "new_variable = x\n",
    "\n",
    "# but to call it, the brackets still have to be included\n",
    "new_variable()\n",
    "\n",
    "# the former variable for the function still works\n",
    "# so now there are two functions, with different names, doing the same thing\n",
    "x()"
   ]
  },
  {
   "cell_type": "code",
   "execution_count": 24,
   "id": "8bcf317a-98e5-4808-bd7c-53a0fa361e94",
   "metadata": {},
   "outputs": [
    {
     "data": {
      "text/plain": [
       "'haha'"
      ]
     },
     "execution_count": 24,
     "metadata": {},
     "output_type": "execute_result"
    }
   ],
   "source": [
    "# if x will be reclaimed again as another variable, it's gonna be overridden:\n",
    "#(and x() will produce an error)\n",
    "x = \"haha\"\n",
    "x"
   ]
  },
  {
   "cell_type": "markdown",
   "id": "1cf883fe-cbd3-48e8-a889-690233bae251",
   "metadata": {},
   "source": [
    "### Nested Functions *(Functions as arguments)*"
   ]
  },
  {
   "cell_type": "code",
   "execution_count": 28,
   "id": "98bb97cf-913f-4b3a-831e-49ffef8766e2",
   "metadata": {},
   "outputs": [
    {
     "name": "stdout",
     "output_type": "stream",
     "text": [
      "512\n"
     ]
    },
    {
     "data": {
      "text/plain": [
       "'This function is a nested function'"
      ]
     },
     "execution_count": 28,
     "metadata": {},
     "output_type": "execute_result"
    }
   ],
   "source": [
    "# 'main' function\n",
    "def nest(function, parameter):\n",
    "    \"\"\"This function is a nested function\"\"\"\n",
    "    res = function(parameter)\n",
    "    return res\n",
    "\n",
    "# function to be called inside the other one\n",
    "def egg(parm):\n",
    "    return parm**3\n",
    "\n",
    "# call the 'main' function with the nested function as an argument\n",
    "print(nest(function=egg, parameter =8))\n",
    "\n",
    "# call the documentation string\n",
    "nest.__doc__"
   ]
  },
  {
   "cell_type": "markdown",
   "id": "ea2d3ff4-09a1-4a5a-b3c0-3c9d05d6789d",
   "metadata": {},
   "source": [
    "### Lambda Functions"
   ]
  },
  {
   "cell_type": "markdown",
   "id": "1cf00450-1c58-4058-ae78-ee8b25948ac3",
   "metadata": {},
   "source": [
    "**Anonymous function**\n",
    "* defined without a name\n",
    "* using `lambda` keyword\n",
    "* *first class* object: can be passed as an argument to another function, or be an element of a list\n",
    "* when needing a **simple** function only temporarily\n",
    "* can have multiple arguments, but only **one expression**: <br> `lambda arguments: expression`\n",
    "    *  a regular function has for example a \"result\"-expression and a \"return\"- expression\n",
    "    *  lambda function can only have the 'calculation' as an expression, nothing additionally"
   ]
  },
  {
   "cell_type": "code",
   "execution_count": 29,
   "id": "ea224ecb-534b-42af-9510-f83df464362c",
   "metadata": {},
   "outputs": [
    {
     "data": {
      "text/plain": [
       "4096"
      ]
     },
     "execution_count": 29,
     "metadata": {},
     "output_type": "execute_result"
    }
   ],
   "source": [
    "# define a variable for the lambda function\n",
    "anonymous = lambda h, k: h**k\n",
    "anonymous(4,6)"
   ]
  },
  {
   "cell_type": "code",
   "execution_count": 30,
   "id": "b7cb6514-6f72-450a-a9a8-91e6a8db6cea",
   "metadata": {},
   "outputs": [
    {
     "data": {
      "text/plain": [
       "12"
      ]
     },
     "execution_count": 30,
     "metadata": {},
     "output_type": "execute_result"
    }
   ],
   "source": [
    "# immediate execution also possible with brackets\n",
    "(lambda joke: joke + joke) (6)"
   ]
  },
  {
   "cell_type": "markdown",
   "id": "ed11f37c-5377-46cd-96b0-843082199e47",
   "metadata": {},
   "source": [
    "### Higher-Order Functions\n",
    "*a function operating on other functions, by taking it as an argument or returning a function*\n",
    "\n",
    "#### `map`function  \n",
    "`map(function, iterable)`\n",
    "* returns an *iterator* that applies `function`to each item of the `iterable\n",
    "* returns a `map()`object, so result should be converted into a list, tuple, etc.\n",
    "* built-in function"
   ]
  },
  {
   "cell_type": "code",
   "execution_count": 10,
   "id": "0b3f4352-a7e2-4ae1-971b-fe81fb80e8b6",
   "metadata": {},
   "outputs": [
    {
     "name": "stdout",
     "output_type": "stream",
     "text": [
      "<map object at 0x1190cfb20>\n"
     ]
    }
   ],
   "source": [
    "# define function that should be mapped\n",
    "# aka mapping function\n",
    "def calc(h):\n",
    "    return h**8\n",
    "\n",
    "# define iterable\n",
    "num = [8,0,6,7, 843,900, 9261]\n",
    "\n",
    "# call the map() function for the iterable\n",
    "result = map(calc, num)\n",
    "print(result)"
   ]
  },
  {
   "cell_type": "code",
   "execution_count": 11,
   "id": "611a0512-c5c5-44e6-a30d-a5a9eeab333e",
   "metadata": {},
   "outputs": [
    {
     "name": "stdout",
     "output_type": "stream",
     "text": [
      "[16777216, 0, 1679616, 5764801, 255047221697062845442401, 430467210000000000000000, 54108198377272584130510593262881]\n"
     ]
    }
   ],
   "source": [
    "# if not immediately converted, only 'map object' is returned\n",
    "result = list(map(calc, num))\n",
    "print(result)"
   ]
  },
  {
   "cell_type": "code",
   "execution_count": 12,
   "id": "1267b686-5863-4378-beaa-40235b018975",
   "metadata": {},
   "outputs": [
    {
     "name": "stdout",
     "output_type": "stream",
     "text": [
      "[16777216, 0, 1679616, 5764801, 255047221697062845442401, 430467210000000000000000, 54108198377272584130510593262881]\n"
     ]
    }
   ],
   "source": [
    "# also possible with lambda functions\n",
    "lam = list(map(lambda h: h**8, num))\n",
    "print(lam)"
   ]
  },
  {
   "cell_type": "markdown",
   "id": "9cb42e88-f625-41e2-b71b-96281ef9a7e1",
   "metadata": {},
   "source": [
    "#### `filter` function\n",
    "\n",
    "`filter(function, iterable)`\n",
    "\n",
    "* used to filter elements from an iterable based on a given function\n",
    "* returns an iterator with the items of the iterable for which the given function is True\n",
    "* built-in function"
   ]
  },
  {
   "cell_type": "code",
   "execution_count": 13,
   "id": "0228d1af-f216-48ac-ad96-7e0c833591ba",
   "metadata": {},
   "outputs": [
    {
     "data": {
      "text/plain": [
       "[8, 0, 6, 900]"
      ]
     },
     "execution_count": 13,
     "metadata": {},
     "output_type": "execute_result"
    }
   ],
   "source": [
    "def even(u):\n",
    "    return u%2 == 0  # modulus: if u divided by 2 returns zero (i.e. is even)\n",
    "\n",
    "list(filter(even, num))"
   ]
  },
  {
   "cell_type": "code",
   "execution_count": 16,
   "id": "519ff422-0013-42f7-8730-1b5634b979f2",
   "metadata": {},
   "outputs": [
    {
     "name": "stdout",
     "output_type": "stream",
     "text": [
      "[8, 0, 6, 900]\n"
     ]
    }
   ],
   "source": [
    "# the filter function returns the numbers for which the statement is true\n",
    "lamf = list(filter(lambda o: o%2 == 0, num))\n",
    "print(lamf)"
   ]
  },
  {
   "cell_type": "code",
   "execution_count": 17,
   "id": "01718e6a-56fe-429f-b406-e16e72dd423a",
   "metadata": {},
   "outputs": [
    {
     "name": "stdout",
     "output_type": "stream",
     "text": [
      "[True, True, True, False, False, True, False]\n"
     ]
    }
   ],
   "source": [
    "# the map funtion retrun True/False for each item\n",
    "lamm = list(map(lambda o: o%2 == 0, num))\n",
    "print(lamm)"
   ]
  },
  {
   "cell_type": "markdown",
   "id": "1628a74a-5fee-43cd-9722-7857cabe4eb4",
   "metadata": {},
   "source": [
    "#### `reduce`function\n",
    "\n",
    "`functools.reduce(function, iterable[, initializer])`\n",
    "\n",
    "* **not** a built-in function!\n",
    "    * import from `functools` necessary\n",
    "* applies function of two arguments cumulatively to the items of iterable, from left to right, so as to reduce the iterable to a **single value**.\n",
    "    * For example, `reduce(lambda x, y: x+y, [1, 2, 3, 4, 5])` calculates `((((1+2)+3)+4)+5)`.\n",
    "    * The left argument, x, is the accumulated value and the right argument, y, is the update value from the iterable.\n",
    "    * If the optional initializer is present, it is placed before the items of the iterable in the calculation, and serves as a default when the iterable is empty. If initializer is not given and iterable contains only one item, the first item is returned.\n",
    "\n"
   ]
  },
  {
   "cell_type": "code",
   "execution_count": 18,
   "id": "9373149b-b5d0-4432-9e0e-333c10ad3157",
   "metadata": {},
   "outputs": [],
   "source": [
    "from functools import reduce"
   ]
  },
  {
   "cell_type": "code",
   "execution_count": 19,
   "id": "5eddd1cf-e2ba-4398-82a0-fd6be420ebd3",
   "metadata": {},
   "outputs": [
    {
     "name": "stdout",
     "output_type": "stream",
     "text": [
      "4194281\n"
     ]
    }
   ],
   "source": [
    "def add(k, q):\n",
    "    return k + q + k\n",
    "\n",
    "iterable = range(22)\n",
    "print(reduce(add, iterable))"
   ]
  },
  {
   "cell_type": "code",
   "execution_count": 20,
   "id": "c3421451-5979-4d55-aaaf-9712335b5a92",
   "metadata": {},
   "outputs": [
    {
     "name": "stdout",
     "output_type": "stream",
     "text": [
      "4194281\n"
     ]
    }
   ],
   "source": [
    "print(reduce(lambda k,q: k+q+k, iterable))"
   ]
  },
  {
   "cell_type": "markdown",
   "id": "055246d9-30e7-414f-8981-70f82c3993e6",
   "metadata": {},
   "source": [
    "# Intro III\n",
    "\n",
    "### `if`/`else` condition\n",
    "* block following `if` condition is executed when the expression of the condition is true,\n",
    "* `elif` keyword means \"if the previous conditions were not true, then try this condition\",\n",
    "* `else` keyword catches anything which isn't caught by the preceding conditions.\n",
    "\n",
    "  \n",
    "### `for` loop\n",
    "A `for` loop is used for iterating over a sequence (that is either a list, a tuple, a dictionary, a set, or a string).\n",
    "\n",
    "  \n",
    "### `while` loop\n",
    "With the `while` loop we can execute a set of statements as long as a condition is true.\n",
    "\n",
    "### `break` and `continue`\n",
    "`break` statement stops the loop before it has looped through all the items.  \n",
    "`continue` statement stops the current iteration, and continue with the next."
   ]
  },
  {
   "cell_type": "markdown",
   "id": "2139614c-e607-4f91-aaa1-e8e64b3d81be",
   "metadata": {},
   "source": [
    "## Object-Oriented Programming\n",
    "\n",
    "### Example of a class\n",
    "\n",
    "Step 1: Define the Class"
   ]
  },
  {
   "cell_type": "code",
   "execution_count": 35,
   "id": "540f5bc8-b3fd-4829-91b3-e51c7a04938d",
   "metadata": {},
   "outputs": [],
   "source": [
    "class People:\n",
    "    \"\"\"A class representing people.\"\"\"\n",
    "    # define the first method __init__\n",
    "    # it initializes the object, setting up the initial attributes\n",
    "    # ALL attributes are needed to initialize the object \n",
    "    # first parameter is ALWAYS 'self', Caution: not an input paramter!\n",
    "    def __init__(self, nm, age, rel): \n",
    "        self.name = nm\n",
    "        self.age = age\n",
    "        self.relation = rel\n",
    "\n",
    "    # define the second method\n",
    "    def get_rel(self):\n",
    "        return self.relation\n",
    "\n",
    "    # define another method\n",
    "    def greet(self):\n",
    "        print(f\"Hello, my name is {self.name} and I am {self.age} years old, I am a {self.relation}.\")\n",
    "        "
   ]
  },
  {
   "cell_type": "markdown",
   "id": "9ed831cd-28cc-483d-9c51-e8cc906156c4",
   "metadata": {},
   "source": [
    "Step 2: Instantiating the object"
   ]
  },
  {
   "cell_type": "code",
   "execution_count": 65,
   "id": "292d021a-038e-4777-a890-fb06b90cb79b",
   "metadata": {},
   "outputs": [
    {
     "data": {
      "text/plain": [
       "'neighbor'"
      ]
     },
     "execution_count": 65,
     "metadata": {},
     "output_type": "execute_result"
    }
   ],
   "source": [
    "# 'classify' an object, by delivering the necessary attributes\n",
    "person_object1 = People('Berry', 29, 'neighbor')\n",
    "person_object2 = People('Coco', 55, 'mother')\n",
    "\n",
    "# call the relation object for person 1\n",
    "# no parentheses needed because only calling an attribute (not a method)\n",
    "person_object1.relation"
   ]
  },
  {
   "cell_type": "code",
   "execution_count": 66,
   "id": "be930a97-a4cc-4438-89db-f678ba4d590f",
   "metadata": {},
   "outputs": [
    {
     "data": {
      "text/plain": [
       "'Coco'"
      ]
     },
     "execution_count": 66,
     "metadata": {},
     "output_type": "execute_result"
    }
   ],
   "source": [
    "person_object2.name"
   ]
  },
  {
   "cell_type": "code",
   "execution_count": 67,
   "id": "495210cc-51eb-4ce1-9919-101e36530cce",
   "metadata": {},
   "outputs": [
    {
     "data": {
      "text/plain": [
       "'mother'"
      ]
     },
     "execution_count": 67,
     "metadata": {},
     "output_type": "execute_result"
    }
   ],
   "source": [
    "# calling a method: parentheses needed\n",
    "person_object2.get_rel()"
   ]
  },
  {
   "cell_type": "code",
   "execution_count": 68,
   "id": "6b0cec15-83c8-495c-8aa0-43a1c1b3587d",
   "metadata": {},
   "outputs": [
    {
     "name": "stdout",
     "output_type": "stream",
     "text": [
      "Hello, my name is Berry and I am 29 years old, I am a neighbor.\n"
     ]
    }
   ],
   "source": [
    "person_object1.greet()"
   ]
  },
  {
   "cell_type": "code",
   "execution_count": 69,
   "id": "fa568dff-6a02-4a07-a7d3-5f5c504e6e92",
   "metadata": {},
   "outputs": [
    {
     "name": "stdout",
     "output_type": "stream",
     "text": [
      "50\n",
      "False\n",
      "True\n"
     ]
    }
   ],
   "source": [
    "# Example with a method with additional attributes:\n",
    "\n",
    "class Rectangle:\n",
    "    def __init__(self, w, h):\n",
    "        self.width = w\n",
    "        self.height = h\n",
    "\n",
    "    def calc_area(self):\n",
    "        return self.width * self.height\n",
    "\n",
    "    # method with additional attributes\n",
    "    def is_square(self, threshold):\n",
    "        return abs(self.width-self.height) < threshold\n",
    "\n",
    "# create objects\n",
    "rec1 = Rectangle(5,10)\n",
    "rec2 = Rectangle(8, 8)\n",
    "\n",
    "# call methods\n",
    "# no extra parameters needed, everything necessary already contained in rec1\n",
    "rec1_area = rec1.calc_area()\n",
    "print(rec1_area)\n",
    "\n",
    "# info needed for threshold\n",
    "rec1_sq = rec1.is_square(1)\n",
    "print(rec1_sq)\n",
    "\n",
    "rec2_sq = rec2.is_square(1)\n",
    "print(rec2_sq)"
   ]
  },
  {
   "cell_type": "markdown",
   "id": "36065095-e0fc-483a-a1c4-64b276020da9",
   "metadata": {},
   "source": [
    "### Inheritance\n",
    "\n",
    "* not necessary to define `__init__`method for a subclass\n",
    "  * if omitted, `__init__` of parent class is automatically used\n",
    "* if `__init__` newly defined, call `__init__`of parent class explicitly within the subclass, using `super()`\n",
    "  * ensure that any necessary initialization from the parent class is performed before any addtional initialization specific to the subclass\n",
    " \n",
    "\n",
    "**Important**\n",
    "When subclass is defined, new objects have to be created *WITHIN* the sublcass to be able to call methods from the subclass. It is possible to call methods from the parents class, if the object was defined in the subclass, but *not* vice versa!"
   ]
  },
  {
   "cell_type": "code",
   "execution_count": 70,
   "id": "4275acf1-5804-4340-9aab-a9ffed32611e",
   "metadata": {},
   "outputs": [
    {
     "name": "stdout",
     "output_type": "stream",
     "text": [
      "86\n",
      "120\n",
      "False\n"
     ]
    }
   ],
   "source": [
    "# with omission\n",
    "class Trapeze(Rectangle):\n",
    "    \"\"\"A class extending Rectamgle, with omitting __init__.\"\"\"\n",
    "    # define a new method without calling the __init__\n",
    "    def circum(self):\n",
    "        return self.width*2 + self.height*2\n",
    "\n",
    "\n",
    "rec3 = Trapeze(40,3)\n",
    "\n",
    "rec3_c = rec3.circum()\n",
    "print(rec3_c)\n",
    "\n",
    "rec3_a = rec3.calc_area()\n",
    "print(rec3_a)\n",
    "\n",
    "rec3_t = rec3.is_square(1)\n",
    "print(rec3_t)\n",
    "\n",
    "# Caution: This will not work, as it is only defined in the parent class.\n",
    "# rec1_c = rec1.circum()\n",
    "# print(rec1_c)\n"
   ]
  },
  {
   "cell_type": "code",
   "execution_count": 71,
   "id": "4c16d5d7-6621-4348-98d9-be76be5dd6cb",
   "metadata": {},
   "outputs": [
    {
     "name": "stdout",
     "output_type": "stream",
     "text": [
      "Hello, my name is Maria and I am 60 years old, I am a friend.\n",
      "I work as a caretaker\n"
     ]
    }
   ],
   "source": [
    "# without omission\n",
    "class Profession(People):\n",
    "    \"\"\"A class extending People, i.e. a child or subclass. Without omitting the __init__ function of the parent class\"\"\"\n",
    "    def __init__(self, nm, age, rel, prof):\n",
    "        super().__init__(nm, age, rel)\n",
    "        self.profession = prof\n",
    "\n",
    "    def display_prof(self):\n",
    "        print(f\"I work as a {self.profession}\")\n",
    "\n",
    "# create instance of profession class\n",
    "prof1 = Profession(\"Maria\", 60, \"friend\", \"caretaker\")\n",
    "\n",
    "# access attributes and methods from parent class\n",
    "prof1.greet()\n",
    "\n",
    "# access attributes and methods from subclass\n",
    "prof1.display_prof()\n"
   ]
  },
  {
   "cell_type": "markdown",
   "id": "fef9eae5-7e58-4f3b-a7e1-28652c34638c",
   "metadata": {},
   "source": [
    "### IPython: Magic Commands\n",
    "\n",
    "* IPython has a set of predefined *magic functions* that you can call with a command line style syntax. Here are some of them:\n",
    "    * %time - time execution of a Python statement or expression\n",
    "    * %timeit - time execution of a Python statement or expression with multiple repetitions\n",
    "    * %debug - activate debugger in post-mortem mode: If an exception (error) has just occurred, lets you inspect its stack frames interactively; work only on the last traceback that occurred (more on this later)"
   ]
  }
 ],
 "metadata": {
  "kernelspec": {
   "display_name": "Python 3 (ipykernel)",
   "language": "python",
   "name": "python3"
  },
  "language_info": {
   "codemirror_mode": {
    "name": "ipython",
    "version": 3
   },
   "file_extension": ".py",
   "mimetype": "text/x-python",
   "name": "python",
   "nbconvert_exporter": "python",
   "pygments_lexer": "ipython3",
   "version": "3.12.0"
  }
 },
 "nbformat": 4,
 "nbformat_minor": 5
}
