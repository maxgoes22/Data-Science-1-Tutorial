{
 "cells": [
  {
   "cell_type": "markdown",
   "id": "74438fed-0a8e-4be1-8a72-9887b1531aba",
   "metadata": {},
   "source": [
    "# Pandas"
   ]
  },
  {
   "cell_type": "markdown",
   "id": "8812b305-c8ce-4279-a273-b3de02df896c",
   "metadata": {},
   "source": [
    "* **Data manipulation**: to easily manipulate data, including selecting subsets of data, merging and joining datasets, transforming data, handling missing values\n",
    "* **Data cleaning**: provides tools for cleaning messy datasets by handling missing data, removing duplicates, and converting data types\n",
    "* **Data analysis**: statistical and mathematical functions for data analysis, including descriptive statistics, aggregation, grouping, and time series analysis\n",
    "* **Data visualization**: While Pandas itself does not provide visualization capabilities, it integrates seamlessly with visualization libraries like Matplotlib and Seaborn, allowing you to easily create plots and charts to visualize your data. (You can use matplotlib functions inside the pandas environment, without loading matplotlib)\n"
   ]
  },
  {
   "cell_type": "code",
   "execution_count": 2,
   "id": "aefe2470-a861-4fbe-9db5-d719f97768cf",
   "metadata": {},
   "outputs": [],
   "source": [
    "import pandas as pd\n",
    "import numpy as np"
   ]
  },
  {
   "cell_type": "markdown",
   "id": "96950adf-8c80-447b-8869-35d232eb4abc",
   "metadata": {},
   "source": [
    "## Series\n",
    "\n",
    "* A one-dimensional array-like object that can hold data of any type (integers, floats, strings, etc.). It is similar to a NumPy array but with additional functionalities.\n",
    "*  similar to an array, list, or column in a table\n",
    "*  It will assign a labeled index to each item in the Series. By default, each item will receive an index label from 0 to N, where N is the length of the Series minus one."
   ]
  },
  {
   "cell_type": "code",
   "execution_count": 3,
   "id": "c1eccd1f-bfef-4c58-9f03-a0c7b0c01cb1",
   "metadata": {},
   "outputs": [
    {
     "name": "stdout",
     "output_type": "stream",
     "text": [
      "0                     6\n",
      "1             shameless\n",
      "2                  3478\n",
      "3    Jeremy Allen White\n",
      "4                   839\n",
      "dtype: object\n",
      "G                     6\n",
      "O             shameless\n",
      "A                  3478\n",
      "L    Jeremy Allen White\n",
      "S                   839\n",
      "dtype: object\n"
     ]
    }
   ],
   "source": [
    "# create a series\n",
    "sir = pd.Series([6, 'shameless', 3478, 'Jeremy Allen White', 839])\n",
    "print(sir)\n",
    "\n",
    "# create series with specified index\n",
    "sir = pd.Series([6, 'shameless', 3478, 'Jeremy Allen White', 839], \n",
    "                index = ['G', 'O', 'A','L','S'])\n",
    "print(sir)"
   ]
  },
  {
   "cell_type": "code",
   "execution_count": 4,
   "id": "eb91e4b9-548e-471c-b6c8-b2aa40a9dddb",
   "metadata": {},
   "outputs": [
    {
     "name": "stdout",
     "output_type": "stream",
     "text": [
      "Chicago          1000.0\n",
      "New York         1300.0\n",
      "Portland          900.0\n",
      "San Francisco    1100.0\n",
      "Austin            450.0\n",
      "Boston              NaN\n",
      "dtype: float64\n",
      "1000.0\n",
      "Chicago    1000.0\n",
      "Austin      450.0\n",
      "dtype: float64\n",
      "Chicago          False\n",
      "New York         False\n",
      "Portland          True\n",
      "San Francisco    False\n",
      "Austin            True\n",
      "Boston           False\n",
      "dtype: bool\n",
      "Portland    900.0\n",
      "Austin      450.0\n",
      "dtype: float64\n",
      "Portland    900.0\n",
      "Austin      450.0\n",
      "dtype: float64\n",
      "55555555.0\n",
      "Chicago          1000.0\n",
      "New York            2.0\n",
      "Portland            2.0\n",
      "San Francisco       2.0\n",
      "Austin            450.0\n",
      "Boston              NaN\n",
      "dtype: float64\n",
      "False\n",
      "True\n",
      "Chicago          500.0\n",
      "New York           1.0\n",
      "Portland           1.0\n",
      "San Francisco      1.0\n",
      "Austin           225.0\n",
      "Boston             NaN\n",
      "dtype: float64\n",
      "Chicago          1000000.0\n",
      "New York               4.0\n",
      "Portland               4.0\n",
      "San Francisco          4.0\n",
      "Austin            202500.0\n",
      "Boston                 NaN\n",
      "dtype: float64\n",
      "Austin      NaN\n",
      "Chicago     NaN\n",
      "Portland    4.0\n",
      "dtype: float64\n"
     ]
    }
   ],
   "source": [
    "# dictionary to series\n",
    "dict = {'Chicago': 1000, 'New York': 1300, 'Portland': 900, 'San Francisco': 1100, 'Austin': 450, 'Boston': None}\n",
    "\n",
    "# Series uses dictionary keys as index\n",
    "city = pd.Series(dict)\n",
    "print(city)\n",
    "\n",
    "# use index to select specific element\n",
    "print(city['Chicago'])\n",
    "\n",
    "# use index to select specific elements -> double square brackets needed!\n",
    "print(city[['Chicago', 'Austin']])\n",
    "\n",
    "# boolean indexing\n",
    "less = city<1000\n",
    "print(less)\n",
    "\n",
    "print(city[less])\n",
    "print(city[city<1000])\n",
    "\n",
    "# edit series elements based on index\n",
    "city['Portland'] = 55555555\n",
    "print(city['Portland'])\n",
    "\n",
    "# edit series elements using boolean indexing\n",
    "city[city > 1000] = 2\n",
    "print(city)\n",
    "\n",
    "# boolean test if a specific element is in the Series\n",
    "print('Los Angeles' in city)\n",
    "print('Chicago' in city)\n",
    "\n",
    "# mathematical operations using scalars and functions\n",
    "print(city/2)\n",
    "print(np.square(city))\n",
    "\n",
    "# adding series with shared index\n",
    "print(city[['Chicago', 'Portland']] + city[['Austin', 'Portland']])\n",
    "\n",
    "\n"
   ]
  },
  {
   "cell_type": "markdown",
   "id": "19626081-3de0-4e34-9301-53fa976181d5",
   "metadata": {},
   "source": [
    "## DataFrame\n",
    "\n",
    "* two-dimensional labeled data structure with columns of potentially different types\n",
    "* similar to a spreadsheet or SQL table, and it is the primary object for data manipulation and analysis in Pandas\n",
    "* tabular data structure\n",
    "* group of Series objects that share an index i.e. the column names"
   ]
  },
  {
   "cell_type": "code",
   "execution_count": 5,
   "id": "22a58fb9-a608-4baf-afc6-78d899353473",
   "metadata": {},
   "outputs": [
    {
     "name": "stdout",
     "output_type": "stream",
     "text": [
      "   year     team  wins  losses\n",
      "0  2010    Bears    11       5\n",
      "1  2011    Bears     8       8\n",
      "2  2012    Bears    10       6\n",
      "3  2011  Packers    15       1\n",
      "4  2012  Packers    11       5\n",
      "5  2010    Lions     6      10\n",
      "6  2011    Lions    10       6\n",
      "7  2012    Lions     4      12\n"
     ]
    }
   ],
   "source": [
    "# dictionary to data frame\n",
    "\n",
    "dicttoframe = {'year': [2010, 2011, 2012, 2011, 2012, 2010, 2011, 2012], \n",
    "        'team': ['Bears', 'Bears', 'Bears', 'Packers', 'Packers', 'Lions', 'Lions', 'Lions'],\n",
    "        'wins': [11, 8, 10, 15, 11, 6, 10, 4],\n",
    "        'losses': [5, 8, 6, 1, 5, 10, 6, 12]}\n",
    "\n",
    "football = pd.DataFrame(dicttoframe, columns=['year', 'team', 'wins', 'losses'])\n",
    "print(football)\n"
   ]
  },
  {
   "cell_type": "code",
   "execution_count": 8,
   "id": "5085275c-67d6-4e49-b187-18c09939ce71",
   "metadata": {},
   "outputs": [
    {
     "name": "stdout",
     "output_type": "stream",
     "text": [
      "Fugitive,Nationality,Wanted by,Wanted for,Details of reason wanted for,Country believed to be in / C\n"
     ]
    },
    {
     "data": {
      "text/html": [
       "<div>\n",
       "<style scoped>\n",
       "    .dataframe tbody tr th:only-of-type {\n",
       "        vertical-align: middle;\n",
       "    }\n",
       "\n",
       "    .dataframe tbody tr th {\n",
       "        vertical-align: top;\n",
       "    }\n",
       "\n",
       "    .dataframe thead th {\n",
       "        text-align: right;\n",
       "    }\n",
       "</style>\n",
       "<table border=\"1\" class=\"dataframe\">\n",
       "  <thead>\n",
       "    <tr style=\"text-align: right;\">\n",
       "      <th></th>\n",
       "      <th>Fugitive</th>\n",
       "      <th>Nationality</th>\n",
       "      <th>Wanted by</th>\n",
       "      <th>Wanted for</th>\n",
       "      <th>Details of reason wanted for</th>\n",
       "      <th>Country believed to be in / Country of capture</th>\n",
       "      <th>Date of Birth</th>\n",
       "      <th>Current Age (approx.)</th>\n",
       "      <th>Sex</th>\n",
       "      <th>Status</th>\n",
       "      <th>Details</th>\n",
       "      <th>Year of Interpol operation</th>\n",
       "      <th>Source</th>\n",
       "      <th>Interpol Red Notice Profile</th>\n",
       "      <th>Image</th>\n",
       "    </tr>\n",
       "  </thead>\n",
       "  <tbody>\n",
       "    <tr>\n",
       "      <th>0</th>\n",
       "      <td>Viktoryia TSUNIK</td>\n",
       "      <td>Belarus</td>\n",
       "      <td>Belarus</td>\n",
       "      <td>Theft, Fraud</td>\n",
       "      <td>Theft by abuse of power</td>\n",
       "      <td>Angola, Europe, Russia, Ukraine</td>\n",
       "      <td>1961.0</td>\n",
       "      <td>53.0</td>\n",
       "      <td>Female</td>\n",
       "      <td>Free</td>\n",
       "      <td>Founder of the \"Tsunik\" company in Vitebsk, Be...</td>\n",
       "      <td>2012</td>\n",
       "      <td>www.interpol.int/Media/Files/Crime-areas/Fugit...</td>\n",
       "      <td>http://www.interpol.int/notice/search/wanted/2...</td>\n",
       "      <td>http://www.interpol.int/var/interpol/cache/ws/...</td>\n",
       "    </tr>\n",
       "    <tr>\n",
       "      <th>1</th>\n",
       "      <td>Adriano GIACOBONE</td>\n",
       "      <td>Italy</td>\n",
       "      <td>Italy</td>\n",
       "      <td>Kidnapping, Possession of firearms and/or expl...</td>\n",
       "      <td>Kidnapping, illegal detention and carrying of ...</td>\n",
       "      <td>Argentina, France, Morocco, Paraguay, Spain</td>\n",
       "      <td>1957.0</td>\n",
       "      <td>57.0</td>\n",
       "      <td>Male</td>\n",
       "      <td>Free</td>\n",
       "      <td>Among a series of court judgments, GIACOBONE h...</td>\n",
       "      <td>2014</td>\n",
       "      <td>www.interpol.int/Media/Files/Crime-areas/Fugit...</td>\n",
       "      <td>http://www.interpol.int/notice/search/wanted/1...</td>\n",
       "      <td>http://www.interpol.int/var/interpol/cache/ws/...</td>\n",
       "    </tr>\n",
       "    <tr>\n",
       "      <th>2</th>\n",
       "      <td>Sudiman SUNOTO</td>\n",
       "      <td>Indonesia</td>\n",
       "      <td>Indonesia</td>\n",
       "      <td>Illegal Logging, Environmental Crimes</td>\n",
       "      <td>Illegal logging</td>\n",
       "      <td>Asia</td>\n",
       "      <td>1962.0</td>\n",
       "      <td>52.0</td>\n",
       "      <td>Male</td>\n",
       "      <td>Free</td>\n",
       "      <td>On 11 November 2006, the Indonesian Criminal I...</td>\n",
       "      <td>2014</td>\n",
       "      <td>www.interpol.int/Media/Files/Crime-areas/Fugit...</td>\n",
       "      <td>http://www.interpol.int/notice/search/wanted/2...</td>\n",
       "      <td>http://www.interpol.int/var/interpol/cache/ws/...</td>\n",
       "    </tr>\n",
       "    <tr>\n",
       "      <th>3</th>\n",
       "      <td>David Macdonald CARROL</td>\n",
       "      <td>Canada</td>\n",
       "      <td>Canada</td>\n",
       "      <td>Murder, Attempted Murder, Drug Crimes</td>\n",
       "      <td>Murder, Conspiracy to murder, drug trafficking...</td>\n",
       "      <td>Australia, Brazil, Europe, Mexico, New Zealand...</td>\n",
       "      <td>1952.0</td>\n",
       "      <td>62.0</td>\n",
       "      <td>Male</td>\n",
       "      <td>Free</td>\n",
       "      <td>CARROL is a member of the Quebec Nomads Chapte...</td>\n",
       "      <td>2012, 2010</td>\n",
       "      <td>www.interpol.int/Media/Files/Crime-areas/Fugit...</td>\n",
       "      <td>http://www.interpol.int/notice/search/wanted/1...</td>\n",
       "      <td>http://www.interpol.int/var/interpol/cache/ws/...</td>\n",
       "    </tr>\n",
       "    <tr>\n",
       "      <th>4</th>\n",
       "      <td>Jason HOLLAND</td>\n",
       "      <td>United Kingdom, South Africa</td>\n",
       "      <td>South Africa</td>\n",
       "      <td>Fraud</td>\n",
       "      <td>Fraud</td>\n",
       "      <td>Australia, United Kingdom, The Netherlands</td>\n",
       "      <td>1967.0</td>\n",
       "      <td>47.0</td>\n",
       "      <td>Male</td>\n",
       "      <td>Free</td>\n",
       "      <td>In 2007 HOLLAND was employed as a Financial D...</td>\n",
       "      <td>2010</td>\n",
       "      <td>www.interpol.int/Media/Files/Crime-areas/Fugit...</td>\n",
       "      <td>http://www.interpol.int/notice/search/wanted/2...</td>\n",
       "      <td>http://www.interpol.int/var/interpol/cache/ws/...</td>\n",
       "    </tr>\n",
       "  </tbody>\n",
       "</table>\n",
       "</div>"
      ],
      "text/plain": [
       "                 Fugitive                   Nationality     Wanted by  \\\n",
       "0        Viktoryia TSUNIK                       Belarus       Belarus   \n",
       "1       Adriano GIACOBONE                         Italy         Italy   \n",
       "2          Sudiman SUNOTO                     Indonesia     Indonesia   \n",
       "3  David Macdonald CARROL                        Canada        Canada   \n",
       "4           Jason HOLLAND  United Kingdom, South Africa  South Africa   \n",
       "\n",
       "                                          Wanted for  \\\n",
       "0                                       Theft, Fraud   \n",
       "1  Kidnapping, Possession of firearms and/or expl...   \n",
       "2              Illegal Logging, Environmental Crimes   \n",
       "3              Murder, Attempted Murder, Drug Crimes   \n",
       "4                                              Fraud   \n",
       "\n",
       "                        Details of reason wanted for  \\\n",
       "0                            Theft by abuse of power   \n",
       "1  Kidnapping, illegal detention and carrying of ...   \n",
       "2                                    Illegal logging   \n",
       "3  Murder, Conspiracy to murder, drug trafficking...   \n",
       "4                                              Fraud   \n",
       "\n",
       "      Country believed to be in / Country of capture  Date of Birth  \\\n",
       "0                    Angola, Europe, Russia, Ukraine         1961.0   \n",
       "1        Argentina, France, Morocco, Paraguay, Spain         1957.0   \n",
       "2                                               Asia         1962.0   \n",
       "3  Australia, Brazil, Europe, Mexico, New Zealand...         1952.0   \n",
       "4         Australia, United Kingdom, The Netherlands         1967.0   \n",
       "\n",
       "   Current Age (approx.)     Sex Status  \\\n",
       "0                   53.0  Female   Free   \n",
       "1                   57.0    Male   Free   \n",
       "2                   52.0    Male   Free   \n",
       "3                   62.0    Male   Free   \n",
       "4                   47.0    Male   Free   \n",
       "\n",
       "                                             Details  \\\n",
       "0  Founder of the \"Tsunik\" company in Vitebsk, Be...   \n",
       "1  Among a series of court judgments, GIACOBONE h...   \n",
       "2  On 11 November 2006, the Indonesian Criminal I...   \n",
       "3  CARROL is a member of the Quebec Nomads Chapte...   \n",
       "4   In 2007 HOLLAND was employed as a Financial D...   \n",
       "\n",
       "  Year of Interpol operation  \\\n",
       "0                       2012   \n",
       "1                       2014   \n",
       "2                       2014   \n",
       "3                 2012, 2010   \n",
       "4                       2010   \n",
       "\n",
       "                                              Source  \\\n",
       "0  www.interpol.int/Media/Files/Crime-areas/Fugit...   \n",
       "1  www.interpol.int/Media/Files/Crime-areas/Fugit...   \n",
       "2  www.interpol.int/Media/Files/Crime-areas/Fugit...   \n",
       "3  www.interpol.int/Media/Files/Crime-areas/Fugit...   \n",
       "4  www.interpol.int/Media/Files/Crime-areas/Fugit...   \n",
       "\n",
       "                         Interpol Red Notice Profile  \\\n",
       "0  http://www.interpol.int/notice/search/wanted/2...   \n",
       "1  http://www.interpol.int/notice/search/wanted/1...   \n",
       "2  http://www.interpol.int/notice/search/wanted/2...   \n",
       "3  http://www.interpol.int/notice/search/wanted/1...   \n",
       "4  http://www.interpol.int/notice/search/wanted/2...   \n",
       "\n",
       "                                               Image  \n",
       "0  http://www.interpol.int/var/interpol/cache/ws/...  \n",
       "1  http://www.interpol.int/var/interpol/cache/ws/...  \n",
       "2  http://www.interpol.int/var/interpol/cache/ws/...  \n",
       "3  http://www.interpol.int/var/interpol/cache/ws/...  \n",
       "4  http://www.interpol.int/var/interpol/cache/ws/...  "
      ]
     },
     "execution_count": 8,
     "metadata": {},
     "output_type": "execute_result"
    }
   ],
   "source": [
    "# csv to dataframe\n",
    "file_name = '04.1 fugitives.csv'\n",
    "\n",
    "# open file in readmode\n",
    "readmode = open(file_name, 'r')\n",
    "\n",
    "# read entire contents of the file into a string variable\n",
    "contentstring = readmode.read()\n",
    "\n",
    "# print characters of the file contents\n",
    "print(contentstring[:100])\n",
    "\n",
    "# read it into python properly\n",
    "df_csv = pd.read_csv(file_name)\n",
    "\n",
    "df_csv.head()\n"
   ]
  },
  {
   "cell_type": "code",
   "execution_count": 9,
   "id": "98ebb794-b920-461d-8d71-2505c30f9467",
   "metadata": {},
   "outputs": [
    {
     "data": {
      "text/html": [
       "<div>\n",
       "<style scoped>\n",
       "    .dataframe tbody tr th:only-of-type {\n",
       "        vertical-align: middle;\n",
       "    }\n",
       "\n",
       "    .dataframe tbody tr th {\n",
       "        vertical-align: top;\n",
       "    }\n",
       "\n",
       "    .dataframe thead th {\n",
       "        text-align: right;\n",
       "    }\n",
       "</style>\n",
       "<table border=\"1\" class=\"dataframe\">\n",
       "  <thead>\n",
       "    <tr style=\"text-align: right;\">\n",
       "      <th></th>\n",
       "      <th>Nationality</th>\n",
       "      <th>Current Age (approx.)</th>\n",
       "      <th>Status</th>\n",
       "    </tr>\n",
       "  </thead>\n",
       "  <tbody>\n",
       "    <tr>\n",
       "      <th>0</th>\n",
       "      <td>Belarus</td>\n",
       "      <td>53.0</td>\n",
       "      <td>Free</td>\n",
       "    </tr>\n",
       "    <tr>\n",
       "      <th>1</th>\n",
       "      <td>Italy</td>\n",
       "      <td>57.0</td>\n",
       "      <td>Free</td>\n",
       "    </tr>\n",
       "    <tr>\n",
       "      <th>2</th>\n",
       "      <td>Indonesia</td>\n",
       "      <td>52.0</td>\n",
       "      <td>Free</td>\n",
       "    </tr>\n",
       "    <tr>\n",
       "      <th>3</th>\n",
       "      <td>Canada</td>\n",
       "      <td>62.0</td>\n",
       "      <td>Free</td>\n",
       "    </tr>\n",
       "    <tr>\n",
       "      <th>4</th>\n",
       "      <td>United Kingdom, South Africa</td>\n",
       "      <td>47.0</td>\n",
       "      <td>Free</td>\n",
       "    </tr>\n",
       "  </tbody>\n",
       "</table>\n",
       "</div>"
      ],
      "text/plain": [
       "                    Nationality  Current Age (approx.) Status\n",
       "0                       Belarus                   53.0   Free\n",
       "1                         Italy                   57.0   Free\n",
       "2                     Indonesia                   52.0   Free\n",
       "3                        Canada                   62.0   Free\n",
       "4  United Kingdom, South Africa                   47.0   Free"
      ]
     },
     "execution_count": 9,
     "metadata": {},
     "output_type": "execute_result"
    }
   ],
   "source": [
    "# create data frame from subset of columns\n",
    "\n",
    "# select columns to subset\n",
    "subs = ['Nationality', 'Current Age (approx.)', 'Status']\n",
    "\n",
    "# subset the chosen columns into a new data frame\n",
    "subdf = pd.read_csv(file_name, usecols = subs)\n",
    "subdf.head()\n"
   ]
  },
  {
   "cell_type": "code",
   "execution_count": 10,
   "id": "16fb4ba5-f69f-424c-b8ca-6cea81f33658",
   "metadata": {},
   "outputs": [
    {
     "data": {
      "text/html": [
       "<div>\n",
       "<style scoped>\n",
       "    .dataframe tbody tr th:only-of-type {\n",
       "        vertical-align: middle;\n",
       "    }\n",
       "\n",
       "    .dataframe tbody tr th {\n",
       "        vertical-align: top;\n",
       "    }\n",
       "\n",
       "    .dataframe thead th {\n",
       "        text-align: right;\n",
       "    }\n",
       "</style>\n",
       "<table border=\"1\" class=\"dataframe\">\n",
       "  <thead>\n",
       "    <tr style=\"text-align: right;\">\n",
       "      <th></th>\n",
       "      <th>Fugitive</th>\n",
       "      <th>Nationality</th>\n",
       "      <th>Wanted by</th>\n",
       "      <th>Wanted for</th>\n",
       "      <th>Details of reason wanted for</th>\n",
       "      <th>Country believed to be in / Country of capture</th>\n",
       "      <th>Date of Birth</th>\n",
       "      <th>Current Age (approx.)</th>\n",
       "      <th>Sex</th>\n",
       "      <th>Status</th>\n",
       "      <th>Details</th>\n",
       "      <th>Year of Interpol operation</th>\n",
       "      <th>Source</th>\n",
       "      <th>Interpol Red Notice Profile</th>\n",
       "      <th>Image</th>\n",
       "    </tr>\n",
       "  </thead>\n",
       "  <tbody>\n",
       "    <tr>\n",
       "      <th>0</th>\n",
       "      <td>Viktoryia TSUNIK</td>\n",
       "      <td>Belarus</td>\n",
       "      <td>Belarus</td>\n",
       "      <td>Theft, Fraud</td>\n",
       "      <td>Theft by abuse of power</td>\n",
       "      <td>Angola, Europe, Russia, Ukraine</td>\n",
       "      <td>1961.0</td>\n",
       "      <td>53.0</td>\n",
       "      <td>Female</td>\n",
       "      <td>Free</td>\n",
       "      <td>Founder of the \"Tsunik\" company in Vitebsk, Be...</td>\n",
       "      <td>2012</td>\n",
       "      <td>www.interpol.int/Media/Files/Crime-areas/Fugit...</td>\n",
       "      <td>http://www.interpol.int/notice/search/wanted/2...</td>\n",
       "      <td>http://www.interpol.int/var/interpol/cache/ws/...</td>\n",
       "    </tr>\n",
       "    <tr>\n",
       "      <th>1</th>\n",
       "      <td>Adriano GIACOBONE</td>\n",
       "      <td>Italy</td>\n",
       "      <td>Italy</td>\n",
       "      <td>Kidnapping, Possession of firearms and/or expl...</td>\n",
       "      <td>Kidnapping, illegal detention and carrying of ...</td>\n",
       "      <td>Argentina, France, Morocco, Paraguay, Spain</td>\n",
       "      <td>1957.0</td>\n",
       "      <td>57.0</td>\n",
       "      <td>Male</td>\n",
       "      <td>Free</td>\n",
       "      <td>Among a series of court judgments, GIACOBONE h...</td>\n",
       "      <td>2014</td>\n",
       "      <td>www.interpol.int/Media/Files/Crime-areas/Fugit...</td>\n",
       "      <td>http://www.interpol.int/notice/search/wanted/1...</td>\n",
       "      <td>http://www.interpol.int/var/interpol/cache/ws/...</td>\n",
       "    </tr>\n",
       "    <tr>\n",
       "      <th>2</th>\n",
       "      <td>Sudiman SUNOTO</td>\n",
       "      <td>Indonesia</td>\n",
       "      <td>Indonesia</td>\n",
       "      <td>Illegal Logging, Environmental Crimes</td>\n",
       "      <td>Illegal logging</td>\n",
       "      <td>Asia</td>\n",
       "      <td>1962.0</td>\n",
       "      <td>52.0</td>\n",
       "      <td>Male</td>\n",
       "      <td>Free</td>\n",
       "      <td>On 11 November 2006, the Indonesian Criminal I...</td>\n",
       "      <td>2014</td>\n",
       "      <td>www.interpol.int/Media/Files/Crime-areas/Fugit...</td>\n",
       "      <td>http://www.interpol.int/notice/search/wanted/2...</td>\n",
       "      <td>http://www.interpol.int/var/interpol/cache/ws/...</td>\n",
       "    </tr>\n",
       "  </tbody>\n",
       "</table>\n",
       "</div>"
      ],
      "text/plain": [
       "            Fugitive Nationality  Wanted by  \\\n",
       "0   Viktoryia TSUNIK     Belarus    Belarus   \n",
       "1  Adriano GIACOBONE       Italy      Italy   \n",
       "2     Sudiman SUNOTO   Indonesia  Indonesia   \n",
       "\n",
       "                                          Wanted for  \\\n",
       "0                                       Theft, Fraud   \n",
       "1  Kidnapping, Possession of firearms and/or expl...   \n",
       "2              Illegal Logging, Environmental Crimes   \n",
       "\n",
       "                        Details of reason wanted for  \\\n",
       "0                            Theft by abuse of power   \n",
       "1  Kidnapping, illegal detention and carrying of ...   \n",
       "2                                    Illegal logging   \n",
       "\n",
       "  Country believed to be in / Country of capture  Date of Birth  \\\n",
       "0                Angola, Europe, Russia, Ukraine         1961.0   \n",
       "1    Argentina, France, Morocco, Paraguay, Spain         1957.0   \n",
       "2                                           Asia         1962.0   \n",
       "\n",
       "   Current Age (approx.)     Sex Status  \\\n",
       "0                   53.0  Female   Free   \n",
       "1                   57.0    Male   Free   \n",
       "2                   52.0    Male   Free   \n",
       "\n",
       "                                             Details  \\\n",
       "0  Founder of the \"Tsunik\" company in Vitebsk, Be...   \n",
       "1  Among a series of court judgments, GIACOBONE h...   \n",
       "2  On 11 November 2006, the Indonesian Criminal I...   \n",
       "\n",
       "  Year of Interpol operation  \\\n",
       "0                       2012   \n",
       "1                       2014   \n",
       "2                       2014   \n",
       "\n",
       "                                              Source  \\\n",
       "0  www.interpol.int/Media/Files/Crime-areas/Fugit...   \n",
       "1  www.interpol.int/Media/Files/Crime-areas/Fugit...   \n",
       "2  www.interpol.int/Media/Files/Crime-areas/Fugit...   \n",
       "\n",
       "                         Interpol Red Notice Profile  \\\n",
       "0  http://www.interpol.int/notice/search/wanted/2...   \n",
       "1  http://www.interpol.int/notice/search/wanted/1...   \n",
       "2  http://www.interpol.int/notice/search/wanted/2...   \n",
       "\n",
       "                                               Image  \n",
       "0  http://www.interpol.int/var/interpol/cache/ws/...  \n",
       "1  http://www.interpol.int/var/interpol/cache/ws/...  \n",
       "2  http://www.interpol.int/var/interpol/cache/ws/...  "
      ]
     },
     "execution_count": 10,
     "metadata": {},
     "output_type": "execute_result"
    }
   ],
   "source": [
    "# URL to data frame\n",
    "url = 'https://raw.githubusercontent.com/evdoks/data_science/' \\\n",
    "      'master/data/fugitives.csv'\n",
    "\n",
    "# fetch the text from the URL and read it into a DataFrame\n",
    "from_url = pd.read_table(url, sep=',')\n",
    "from_url.head(3)"
   ]
  },
  {
   "cell_type": "markdown",
   "id": "0c5a43cf-8deb-48ea-ae76-05b3d4d168aa",
   "metadata": {},
   "source": [
    "## Working with DataFrame"
   ]
  },
  {
   "cell_type": "code",
   "execution_count": 11,
   "id": "ef6ef2f2-9ef2-4342-b5b6-4225c9b1db1a",
   "metadata": {},
   "outputs": [
    {
     "data": {
      "text/html": [
       "<div>\n",
       "<style scoped>\n",
       "    .dataframe tbody tr th:only-of-type {\n",
       "        vertical-align: middle;\n",
       "    }\n",
       "\n",
       "    .dataframe tbody tr th {\n",
       "        vertical-align: top;\n",
       "    }\n",
       "\n",
       "    .dataframe thead th {\n",
       "        text-align: right;\n",
       "    }\n",
       "</style>\n",
       "<table border=\"1\" class=\"dataframe\">\n",
       "  <thead>\n",
       "    <tr style=\"text-align: right;\">\n",
       "      <th></th>\n",
       "      <th>user_id</th>\n",
       "      <th>movie_id</th>\n",
       "      <th>rating</th>\n",
       "      <th>unix_timestamp</th>\n",
       "    </tr>\n",
       "  </thead>\n",
       "  <tbody>\n",
       "    <tr>\n",
       "      <th>0</th>\n",
       "      <td>196</td>\n",
       "      <td>242</td>\n",
       "      <td>3</td>\n",
       "      <td>881250949</td>\n",
       "    </tr>\n",
       "    <tr>\n",
       "      <th>1</th>\n",
       "      <td>186</td>\n",
       "      <td>302</td>\n",
       "      <td>3</td>\n",
       "      <td>891717742</td>\n",
       "    </tr>\n",
       "    <tr>\n",
       "      <th>2</th>\n",
       "      <td>22</td>\n",
       "      <td>377</td>\n",
       "      <td>1</td>\n",
       "      <td>878887116</td>\n",
       "    </tr>\n",
       "    <tr>\n",
       "      <th>3</th>\n",
       "      <td>244</td>\n",
       "      <td>51</td>\n",
       "      <td>2</td>\n",
       "      <td>880606923</td>\n",
       "    </tr>\n",
       "    <tr>\n",
       "      <th>4</th>\n",
       "      <td>166</td>\n",
       "      <td>346</td>\n",
       "      <td>1</td>\n",
       "      <td>886397596</td>\n",
       "    </tr>\n",
       "  </tbody>\n",
       "</table>\n",
       "</div>"
      ],
      "text/plain": [
       "   user_id  movie_id  rating  unix_timestamp\n",
       "0      196       242       3       881250949\n",
       "1      186       302       3       891717742\n",
       "2       22       377       1       878887116\n",
       "3      244        51       2       880606923\n",
       "4      166       346       1       886397596"
      ]
     },
     "execution_count": 11,
     "metadata": {},
     "output_type": "execute_result"
    }
   ],
   "source": [
    "# Access different columns to form distinct dataframes from the same data\n",
    "#################\n",
    "m_cols = ['movie_id', 'title', 'release_date', 'video_release_date', \n",
    "          'imdb_url']\n",
    "movies = pd.read_csv('https://raw.githubusercontent.com/evdoks/data_science/'\n",
    "                     'master/data/ml-100k/u.item', sep='|', names=m_cols, \n",
    "                     usecols=range(5), encoding='latin-1')\n",
    "movies.head()\n",
    "#################\n",
    "u_cols = ['user_id', 'age', 'sex', 'occupation', 'zip_code']\n",
    "users = pd.read_csv('https://raw.githubusercontent.com/evdoks/data_science/'\n",
    "                    'master/data/ml-100k/u.user', sep='|', names=u_cols,\n",
    "                    encoding='latin-1')\n",
    "users.head()\n",
    "#################\n",
    "r_cols = ['user_id', 'movie_id', 'rating', 'unix_timestamp']\n",
    "ratings = pd.read_csv('https://raw.githubusercontent.com/evdoks/data_science/'\n",
    "                      'master/data/ml-100k/u.data', sep='\\t', names=r_cols,\n",
    "                      encoding='latin-1')\n",
    "ratings.head()\n",
    "#################"
   ]
  },
  {
   "cell_type": "markdown",
   "id": "51dd1ace-1aeb-456b-873d-6aba99669db6",
   "metadata": {},
   "source": [
    "## Inspection"
   ]
  },
  {
   "cell_type": "code",
   "execution_count": 12,
   "id": "9e94446b-a22c-46b5-a749-db5a38b87ad9",
   "metadata": {},
   "outputs": [
    {
     "name": "stdout",
     "output_type": "stream",
     "text": [
      "<class 'pandas.core.frame.DataFrame'>\n",
      "RangeIndex: 1682 entries, 0 to 1681\n",
      "Data columns (total 5 columns):\n",
      " #   Column              Non-Null Count  Dtype  \n",
      "---  ------              --------------  -----  \n",
      " 0   movie_id            1682 non-null   int64  \n",
      " 1   title               1682 non-null   object \n",
      " 2   release_date        1681 non-null   object \n",
      " 3   video_release_date  0 non-null      float64\n",
      " 4   imdb_url            1679 non-null   object \n",
      "dtypes: float64(1), int64(1), object(3)\n",
      "memory usage: 65.8+ KB\n"
     ]
    }
   ],
   "source": [
    "# basic information with .info() method\n",
    "movies.info()"
   ]
  },
  {
   "cell_type": "code",
   "execution_count": 13,
   "id": "2454a53f-2723-472c-b57d-41710f92f239",
   "metadata": {},
   "outputs": [
    {
     "data": {
      "text/plain": [
       "movie_id                int64\n",
       "title                  object\n",
       "release_date           object\n",
       "video_release_date    float64\n",
       "imdb_url               object\n",
       "dtype: object"
      ]
     },
     "execution_count": 13,
     "metadata": {},
     "output_type": "execute_result"
    }
   ],
   "source": [
    "# Info on attributes and their data types is stored in .dtype attribute\n",
    "# strings = object (Caution: types in pandas have different names than in regular python)\n",
    "movies.dtypes"
   ]
  },
  {
   "cell_type": "code",
   "execution_count": 14,
   "id": "d1030c15-8aa0-42c9-b271-0a1e57d5e359",
   "metadata": {},
   "outputs": [
    {
     "data": {
      "text/html": [
       "<div>\n",
       "<style scoped>\n",
       "    .dataframe tbody tr th:only-of-type {\n",
       "        vertical-align: middle;\n",
       "    }\n",
       "\n",
       "    .dataframe tbody tr th {\n",
       "        vertical-align: top;\n",
       "    }\n",
       "\n",
       "    .dataframe thead th {\n",
       "        text-align: right;\n",
       "    }\n",
       "</style>\n",
       "<table border=\"1\" class=\"dataframe\">\n",
       "  <thead>\n",
       "    <tr style=\"text-align: right;\">\n",
       "      <th></th>\n",
       "      <th>user_id</th>\n",
       "      <th>age</th>\n",
       "    </tr>\n",
       "  </thead>\n",
       "  <tbody>\n",
       "    <tr>\n",
       "      <th>count</th>\n",
       "      <td>943.000000</td>\n",
       "      <td>943.000000</td>\n",
       "    </tr>\n",
       "    <tr>\n",
       "      <th>mean</th>\n",
       "      <td>472.000000</td>\n",
       "      <td>34.051962</td>\n",
       "    </tr>\n",
       "    <tr>\n",
       "      <th>std</th>\n",
       "      <td>272.364951</td>\n",
       "      <td>12.192740</td>\n",
       "    </tr>\n",
       "    <tr>\n",
       "      <th>min</th>\n",
       "      <td>1.000000</td>\n",
       "      <td>7.000000</td>\n",
       "    </tr>\n",
       "    <tr>\n",
       "      <th>25%</th>\n",
       "      <td>236.500000</td>\n",
       "      <td>25.000000</td>\n",
       "    </tr>\n",
       "    <tr>\n",
       "      <th>50%</th>\n",
       "      <td>472.000000</td>\n",
       "      <td>31.000000</td>\n",
       "    </tr>\n",
       "    <tr>\n",
       "      <th>75%</th>\n",
       "      <td>707.500000</td>\n",
       "      <td>43.000000</td>\n",
       "    </tr>\n",
       "    <tr>\n",
       "      <th>max</th>\n",
       "      <td>943.000000</td>\n",
       "      <td>73.000000</td>\n",
       "    </tr>\n",
       "  </tbody>\n",
       "</table>\n",
       "</div>"
      ],
      "text/plain": [
       "          user_id         age\n",
       "count  943.000000  943.000000\n",
       "mean   472.000000   34.051962\n",
       "std    272.364951   12.192740\n",
       "min      1.000000    7.000000\n",
       "25%    236.500000   25.000000\n",
       "50%    472.000000   31.000000\n",
       "75%    707.500000   43.000000\n",
       "max    943.000000   73.000000"
      ]
     },
     "execution_count": 14,
     "metadata": {},
     "output_type": "execute_result"
    }
   ],
   "source": [
    "# .describe() method for basic statistics\n",
    "users.describe()"
   ]
  },
  {
   "cell_type": "code",
   "execution_count": 15,
   "id": "a437013e-bcb1-4acf-b963-b1e231105d7e",
   "metadata": {},
   "outputs": [
    {
     "data": {
      "text/html": [
       "<div>\n",
       "<style scoped>\n",
       "    .dataframe tbody tr th:only-of-type {\n",
       "        vertical-align: middle;\n",
       "    }\n",
       "\n",
       "    .dataframe tbody tr th {\n",
       "        vertical-align: top;\n",
       "    }\n",
       "\n",
       "    .dataframe thead th {\n",
       "        text-align: right;\n",
       "    }\n",
       "</style>\n",
       "<table border=\"1\" class=\"dataframe\">\n",
       "  <thead>\n",
       "    <tr style=\"text-align: right;\">\n",
       "      <th></th>\n",
       "      <th>movie_id</th>\n",
       "      <th>title</th>\n",
       "      <th>release_date</th>\n",
       "      <th>video_release_date</th>\n",
       "      <th>imdb_url</th>\n",
       "    </tr>\n",
       "  </thead>\n",
       "  <tbody>\n",
       "    <tr>\n",
       "      <th>0</th>\n",
       "      <td>1</td>\n",
       "      <td>Toy Story (1995)</td>\n",
       "      <td>01-Jan-1995</td>\n",
       "      <td>NaN</td>\n",
       "      <td>http://us.imdb.com/M/title-exact?Toy%20Story%2...</td>\n",
       "    </tr>\n",
       "    <tr>\n",
       "      <th>1</th>\n",
       "      <td>2</td>\n",
       "      <td>GoldenEye (1995)</td>\n",
       "      <td>01-Jan-1995</td>\n",
       "      <td>NaN</td>\n",
       "      <td>http://us.imdb.com/M/title-exact?GoldenEye%20(...</td>\n",
       "    </tr>\n",
       "    <tr>\n",
       "      <th>2</th>\n",
       "      <td>3</td>\n",
       "      <td>Four Rooms (1995)</td>\n",
       "      <td>01-Jan-1995</td>\n",
       "      <td>NaN</td>\n",
       "      <td>http://us.imdb.com/M/title-exact?Four%20Rooms%...</td>\n",
       "    </tr>\n",
       "    <tr>\n",
       "      <th>3</th>\n",
       "      <td>4</td>\n",
       "      <td>Get Shorty (1995)</td>\n",
       "      <td>01-Jan-1995</td>\n",
       "      <td>NaN</td>\n",
       "      <td>http://us.imdb.com/M/title-exact?Get%20Shorty%...</td>\n",
       "    </tr>\n",
       "    <tr>\n",
       "      <th>4</th>\n",
       "      <td>5</td>\n",
       "      <td>Copycat (1995)</td>\n",
       "      <td>01-Jan-1995</td>\n",
       "      <td>NaN</td>\n",
       "      <td>http://us.imdb.com/M/title-exact?Copycat%20(1995)</td>\n",
       "    </tr>\n",
       "    <tr>\n",
       "      <th>5</th>\n",
       "      <td>6</td>\n",
       "      <td>Shanghai Triad (Yao a yao yao dao waipo qiao) ...</td>\n",
       "      <td>01-Jan-1995</td>\n",
       "      <td>NaN</td>\n",
       "      <td>http://us.imdb.com/Title?Yao+a+yao+yao+dao+wai...</td>\n",
       "    </tr>\n",
       "    <tr>\n",
       "      <th>6</th>\n",
       "      <td>7</td>\n",
       "      <td>Twelve Monkeys (1995)</td>\n",
       "      <td>01-Jan-1995</td>\n",
       "      <td>NaN</td>\n",
       "      <td>http://us.imdb.com/M/title-exact?Twelve%20Monk...</td>\n",
       "    </tr>\n",
       "    <tr>\n",
       "      <th>7</th>\n",
       "      <td>8</td>\n",
       "      <td>Babe (1995)</td>\n",
       "      <td>01-Jan-1995</td>\n",
       "      <td>NaN</td>\n",
       "      <td>http://us.imdb.com/M/title-exact?Babe%20(1995)</td>\n",
       "    </tr>\n",
       "    <tr>\n",
       "      <th>8</th>\n",
       "      <td>9</td>\n",
       "      <td>Dead Man Walking (1995)</td>\n",
       "      <td>01-Jan-1995</td>\n",
       "      <td>NaN</td>\n",
       "      <td>http://us.imdb.com/M/title-exact?Dead%20Man%20...</td>\n",
       "    </tr>\n",
       "  </tbody>\n",
       "</table>\n",
       "</div>"
      ],
      "text/plain": [
       "   movie_id                                              title release_date  \\\n",
       "0         1                                   Toy Story (1995)  01-Jan-1995   \n",
       "1         2                                   GoldenEye (1995)  01-Jan-1995   \n",
       "2         3                                  Four Rooms (1995)  01-Jan-1995   \n",
       "3         4                                  Get Shorty (1995)  01-Jan-1995   \n",
       "4         5                                     Copycat (1995)  01-Jan-1995   \n",
       "5         6  Shanghai Triad (Yao a yao yao dao waipo qiao) ...  01-Jan-1995   \n",
       "6         7                              Twelve Monkeys (1995)  01-Jan-1995   \n",
       "7         8                                        Babe (1995)  01-Jan-1995   \n",
       "8         9                            Dead Man Walking (1995)  01-Jan-1995   \n",
       "\n",
       "   video_release_date                                           imdb_url  \n",
       "0                 NaN  http://us.imdb.com/M/title-exact?Toy%20Story%2...  \n",
       "1                 NaN  http://us.imdb.com/M/title-exact?GoldenEye%20(...  \n",
       "2                 NaN  http://us.imdb.com/M/title-exact?Four%20Rooms%...  \n",
       "3                 NaN  http://us.imdb.com/M/title-exact?Get%20Shorty%...  \n",
       "4                 NaN  http://us.imdb.com/M/title-exact?Copycat%20(1995)  \n",
       "5                 NaN  http://us.imdb.com/Title?Yao+a+yao+yao+dao+wai...  \n",
       "6                 NaN  http://us.imdb.com/M/title-exact?Twelve%20Monk...  \n",
       "7                 NaN     http://us.imdb.com/M/title-exact?Babe%20(1995)  \n",
       "8                 NaN  http://us.imdb.com/M/title-exact?Dead%20Man%20...  "
      ]
     },
     "execution_count": 15,
     "metadata": {},
     "output_type": "execute_result"
    }
   ],
   "source": [
    "# .head() method: default are first 5 entries, can be adjusted\n",
    "movies.head(9)"
   ]
  },
  {
   "cell_type": "code",
   "execution_count": 16,
   "id": "ec4e7d42-247b-4aeb-bfea-0d1e78179be4",
   "metadata": {},
   "outputs": [
    {
     "data": {
      "text/html": [
       "<div>\n",
       "<style scoped>\n",
       "    .dataframe tbody tr th:only-of-type {\n",
       "        vertical-align: middle;\n",
       "    }\n",
       "\n",
       "    .dataframe tbody tr th {\n",
       "        vertical-align: top;\n",
       "    }\n",
       "\n",
       "    .dataframe thead th {\n",
       "        text-align: right;\n",
       "    }\n",
       "</style>\n",
       "<table border=\"1\" class=\"dataframe\">\n",
       "  <thead>\n",
       "    <tr style=\"text-align: right;\">\n",
       "      <th></th>\n",
       "      <th>movie_id</th>\n",
       "      <th>title</th>\n",
       "      <th>release_date</th>\n",
       "      <th>video_release_date</th>\n",
       "      <th>imdb_url</th>\n",
       "    </tr>\n",
       "  </thead>\n",
       "  <tbody>\n",
       "    <tr>\n",
       "      <th>1680</th>\n",
       "      <td>1681</td>\n",
       "      <td>You So Crazy (1994)</td>\n",
       "      <td>01-Jan-1994</td>\n",
       "      <td>NaN</td>\n",
       "      <td>http://us.imdb.com/M/title-exact?You%20So%20Cr...</td>\n",
       "    </tr>\n",
       "    <tr>\n",
       "      <th>1681</th>\n",
       "      <td>1682</td>\n",
       "      <td>Scream of Stone (Schrei aus Stein) (1991)</td>\n",
       "      <td>08-Mar-1996</td>\n",
       "      <td>NaN</td>\n",
       "      <td>http://us.imdb.com/M/title-exact?Schrei%20aus%...</td>\n",
       "    </tr>\n",
       "  </tbody>\n",
       "</table>\n",
       "</div>"
      ],
      "text/plain": [
       "      movie_id                                      title release_date  \\\n",
       "1680      1681                        You So Crazy (1994)  01-Jan-1994   \n",
       "1681      1682  Scream of Stone (Schrei aus Stein) (1991)  08-Mar-1996   \n",
       "\n",
       "      video_release_date                                           imdb_url  \n",
       "1680                 NaN  http://us.imdb.com/M/title-exact?You%20So%20Cr...  \n",
       "1681                 NaN  http://us.imdb.com/M/title-exact?Schrei%20aus%...  "
      ]
     },
     "execution_count": 16,
     "metadata": {},
     "output_type": "execute_result"
    }
   ],
   "source": [
    "# .tail() method\n",
    "movies.tail(2)"
   ]
  },
  {
   "cell_type": "markdown",
   "id": "11252802-d910-4a08-b4fe-34b2ab92afa3",
   "metadata": {},
   "source": [
    "## Selection\n",
    "(same as in regular python)"
   ]
  },
  {
   "cell_type": "code",
   "execution_count": 17,
   "id": "1ff0d41f-5a3c-48ef-acc1-08f7695593e7",
   "metadata": {},
   "outputs": [
    {
     "data": {
      "text/html": [
       "<div>\n",
       "<style scoped>\n",
       "    .dataframe tbody tr th:only-of-type {\n",
       "        vertical-align: middle;\n",
       "    }\n",
       "\n",
       "    .dataframe tbody tr th {\n",
       "        vertical-align: top;\n",
       "    }\n",
       "\n",
       "    .dataframe thead th {\n",
       "        text-align: right;\n",
       "    }\n",
       "</style>\n",
       "<table border=\"1\" class=\"dataframe\">\n",
       "  <thead>\n",
       "    <tr style=\"text-align: right;\">\n",
       "      <th></th>\n",
       "      <th>movie_id</th>\n",
       "      <th>title</th>\n",
       "      <th>release_date</th>\n",
       "      <th>video_release_date</th>\n",
       "      <th>imdb_url</th>\n",
       "    </tr>\n",
       "  </thead>\n",
       "  <tbody>\n",
       "    <tr>\n",
       "      <th>29</th>\n",
       "      <td>30</td>\n",
       "      <td>Belle de jour (1967)</td>\n",
       "      <td>01-Jan-1967</td>\n",
       "      <td>NaN</td>\n",
       "      <td>http://us.imdb.com/M/title-exact?Belle%20de%20...</td>\n",
       "    </tr>\n",
       "    <tr>\n",
       "      <th>30</th>\n",
       "      <td>31</td>\n",
       "      <td>Crimson Tide (1995)</td>\n",
       "      <td>01-Jan-1995</td>\n",
       "      <td>NaN</td>\n",
       "      <td>http://us.imdb.com/M/title-exact?Crimson%20Tid...</td>\n",
       "    </tr>\n",
       "    <tr>\n",
       "      <th>31</th>\n",
       "      <td>32</td>\n",
       "      <td>Crumb (1994)</td>\n",
       "      <td>01-Jan-1994</td>\n",
       "      <td>NaN</td>\n",
       "      <td>http://us.imdb.com/M/title-exact?Crumb%20(1994)</td>\n",
       "    </tr>\n",
       "    <tr>\n",
       "      <th>32</th>\n",
       "      <td>33</td>\n",
       "      <td>Desperado (1995)</td>\n",
       "      <td>01-Jan-1995</td>\n",
       "      <td>NaN</td>\n",
       "      <td>http://us.imdb.com/M/title-exact?Desperado%20(...</td>\n",
       "    </tr>\n",
       "    <tr>\n",
       "      <th>33</th>\n",
       "      <td>34</td>\n",
       "      <td>Doom Generation, The (1995)</td>\n",
       "      <td>01-Jan-1995</td>\n",
       "      <td>NaN</td>\n",
       "      <td>http://us.imdb.com/M/title-exact?Doom%20Genera...</td>\n",
       "    </tr>\n",
       "    <tr>\n",
       "      <th>34</th>\n",
       "      <td>35</td>\n",
       "      <td>Free Willy 2: The Adventure Home (1995)</td>\n",
       "      <td>01-Jan-1995</td>\n",
       "      <td>NaN</td>\n",
       "      <td>http://us.imdb.com/M/title-exact?Free%20Willy%...</td>\n",
       "    </tr>\n",
       "  </tbody>\n",
       "</table>\n",
       "</div>"
      ],
      "text/plain": [
       "    movie_id                                    title release_date  \\\n",
       "29        30                     Belle de jour (1967)  01-Jan-1967   \n",
       "30        31                      Crimson Tide (1995)  01-Jan-1995   \n",
       "31        32                             Crumb (1994)  01-Jan-1994   \n",
       "32        33                         Desperado (1995)  01-Jan-1995   \n",
       "33        34              Doom Generation, The (1995)  01-Jan-1995   \n",
       "34        35  Free Willy 2: The Adventure Home (1995)  01-Jan-1995   \n",
       "\n",
       "    video_release_date                                           imdb_url  \n",
       "29                 NaN  http://us.imdb.com/M/title-exact?Belle%20de%20...  \n",
       "30                 NaN  http://us.imdb.com/M/title-exact?Crimson%20Tid...  \n",
       "31                 NaN    http://us.imdb.com/M/title-exact?Crumb%20(1994)  \n",
       "32                 NaN  http://us.imdb.com/M/title-exact?Desperado%20(...  \n",
       "33                 NaN  http://us.imdb.com/M/title-exact?Doom%20Genera...  \n",
       "34                 NaN  http://us.imdb.com/M/title-exact?Free%20Willy%...  "
      ]
     },
     "execution_count": 17,
     "metadata": {},
     "output_type": "execute_result"
    }
   ],
   "source": [
    "# regular slicing\n",
    "movies[29:35]"
   ]
  },
  {
   "cell_type": "code",
   "execution_count": 18,
   "id": "1d311f73-32b5-4989-801c-a2e7c4629581",
   "metadata": {},
   "outputs": [
    {
     "data": {
      "text/plain": [
       "0    M\n",
       "1    F\n",
       "2    M\n",
       "3    M\n",
       "4    F\n",
       "Name: sex, dtype: object"
      ]
     },
     "execution_count": 18,
     "metadata": {},
     "output_type": "execute_result"
    }
   ],
   "source": [
    "# selecting a single column, returns a Series object\n",
    "users['sex'].head()"
   ]
  },
  {
   "cell_type": "code",
   "execution_count": 19,
   "id": "96eb4e26-0bc0-418c-ac62-c7458e44130e",
   "metadata": {},
   "outputs": [
    {
     "data": {
      "text/html": [
       "<div>\n",
       "<style scoped>\n",
       "    .dataframe tbody tr th:only-of-type {\n",
       "        vertical-align: middle;\n",
       "    }\n",
       "\n",
       "    .dataframe tbody tr th {\n",
       "        vertical-align: top;\n",
       "    }\n",
       "\n",
       "    .dataframe thead th {\n",
       "        text-align: right;\n",
       "    }\n",
       "</style>\n",
       "<table border=\"1\" class=\"dataframe\">\n",
       "  <thead>\n",
       "    <tr style=\"text-align: right;\">\n",
       "      <th></th>\n",
       "      <th>sex</th>\n",
       "      <th>age</th>\n",
       "    </tr>\n",
       "  </thead>\n",
       "  <tbody>\n",
       "    <tr>\n",
       "      <th>0</th>\n",
       "      <td>M</td>\n",
       "      <td>24</td>\n",
       "    </tr>\n",
       "    <tr>\n",
       "      <th>1</th>\n",
       "      <td>F</td>\n",
       "      <td>53</td>\n",
       "    </tr>\n",
       "    <tr>\n",
       "      <th>2</th>\n",
       "      <td>M</td>\n",
       "      <td>23</td>\n",
       "    </tr>\n",
       "  </tbody>\n",
       "</table>\n",
       "</div>"
      ],
      "text/plain": [
       "  sex  age\n",
       "0   M   24\n",
       "1   F   53\n",
       "2   M   23"
      ]
     },
     "execution_count": 19,
     "metadata": {},
     "output_type": "execute_result"
    }
   ],
   "source": [
    "# can also select mulitple columns\n",
    "users[['sex', 'age']].head(3)"
   ]
  },
  {
   "cell_type": "code",
   "execution_count": 20,
   "id": "c8260170-ed7c-44f7-81bd-ba8e62156d52",
   "metadata": {},
   "outputs": [
    {
     "data": {
      "text/plain": [
       "0     True\n",
       "1    False\n",
       "2     True\n",
       "3     True\n",
       "4    False\n",
       "Name: sex, dtype: bool"
      ]
     },
     "execution_count": 20,
     "metadata": {},
     "output_type": "execute_result"
    }
   ],
   "source": [
    "# selection based on boolean indexing\n",
    "booind = users.sex == 'M'\n",
    "booind.head()"
   ]
  },
  {
   "cell_type": "code",
   "execution_count": 21,
   "id": "4b15a345-a229-4d69-823c-7699609c3d6c",
   "metadata": {},
   "outputs": [
    {
     "data": {
      "text/html": [
       "<div>\n",
       "<style scoped>\n",
       "    .dataframe tbody tr th:only-of-type {\n",
       "        vertical-align: middle;\n",
       "    }\n",
       "\n",
       "    .dataframe tbody tr th {\n",
       "        vertical-align: top;\n",
       "    }\n",
       "\n",
       "    .dataframe thead th {\n",
       "        text-align: right;\n",
       "    }\n",
       "</style>\n",
       "<table border=\"1\" class=\"dataframe\">\n",
       "  <thead>\n",
       "    <tr style=\"text-align: right;\">\n",
       "      <th></th>\n",
       "      <th>user_id</th>\n",
       "      <th>age</th>\n",
       "      <th>sex</th>\n",
       "      <th>occupation</th>\n",
       "      <th>zip_code</th>\n",
       "    </tr>\n",
       "  </thead>\n",
       "  <tbody>\n",
       "    <tr>\n",
       "      <th>0</th>\n",
       "      <td>1</td>\n",
       "      <td>24</td>\n",
       "      <td>M</td>\n",
       "      <td>technician</td>\n",
       "      <td>85711</td>\n",
       "    </tr>\n",
       "    <tr>\n",
       "      <th>2</th>\n",
       "      <td>3</td>\n",
       "      <td>23</td>\n",
       "      <td>M</td>\n",
       "      <td>writer</td>\n",
       "      <td>32067</td>\n",
       "    </tr>\n",
       "    <tr>\n",
       "      <th>3</th>\n",
       "      <td>4</td>\n",
       "      <td>24</td>\n",
       "      <td>M</td>\n",
       "      <td>technician</td>\n",
       "      <td>43537</td>\n",
       "    </tr>\n",
       "    <tr>\n",
       "      <th>5</th>\n",
       "      <td>6</td>\n",
       "      <td>42</td>\n",
       "      <td>M</td>\n",
       "      <td>executive</td>\n",
       "      <td>98101</td>\n",
       "    </tr>\n",
       "    <tr>\n",
       "      <th>6</th>\n",
       "      <td>7</td>\n",
       "      <td>57</td>\n",
       "      <td>M</td>\n",
       "      <td>administrator</td>\n",
       "      <td>91344</td>\n",
       "    </tr>\n",
       "  </tbody>\n",
       "</table>\n",
       "</div>"
      ],
      "text/plain": [
       "   user_id  age sex     occupation zip_code\n",
       "0        1   24   M     technician    85711\n",
       "2        3   23   M         writer    32067\n",
       "3        4   24   M     technician    43537\n",
       "5        6   42   M      executive    98101\n",
       "6        7   57   M  administrator    91344"
      ]
     },
     "execution_count": 21,
     "metadata": {},
     "output_type": "execute_result"
    }
   ],
   "source": [
    "users[users.sex == 'M'].head()"
   ]
  },
  {
   "cell_type": "code",
   "execution_count": 22,
   "id": "8303c455-a118-489f-9fec-4c62704ee6cf",
   "metadata": {},
   "outputs": [
    {
     "data": {
      "text/html": [
       "<div>\n",
       "<style scoped>\n",
       "    .dataframe tbody tr th:only-of-type {\n",
       "        vertical-align: middle;\n",
       "    }\n",
       "\n",
       "    .dataframe tbody tr th {\n",
       "        vertical-align: top;\n",
       "    }\n",
       "\n",
       "    .dataframe thead th {\n",
       "        text-align: right;\n",
       "    }\n",
       "</style>\n",
       "<table border=\"1\" class=\"dataframe\">\n",
       "  <thead>\n",
       "    <tr style=\"text-align: right;\">\n",
       "      <th></th>\n",
       "      <th>user_id</th>\n",
       "      <th>age</th>\n",
       "      <th>sex</th>\n",
       "      <th>occupation</th>\n",
       "      <th>zip_code</th>\n",
       "    </tr>\n",
       "  </thead>\n",
       "  <tbody>\n",
       "    <tr>\n",
       "      <th>4</th>\n",
       "      <td>5</td>\n",
       "      <td>33</td>\n",
       "      <td>F</td>\n",
       "      <td>other</td>\n",
       "      <td>15213</td>\n",
       "    </tr>\n",
       "    <tr>\n",
       "      <th>11</th>\n",
       "      <td>12</td>\n",
       "      <td>28</td>\n",
       "      <td>F</td>\n",
       "      <td>other</td>\n",
       "      <td>06405</td>\n",
       "    </tr>\n",
       "    <tr>\n",
       "      <th>22</th>\n",
       "      <td>23</td>\n",
       "      <td>30</td>\n",
       "      <td>F</td>\n",
       "      <td>artist</td>\n",
       "      <td>48197</td>\n",
       "    </tr>\n",
       "    <tr>\n",
       "      <th>23</th>\n",
       "      <td>24</td>\n",
       "      <td>21</td>\n",
       "      <td>F</td>\n",
       "      <td>artist</td>\n",
       "      <td>94533</td>\n",
       "    </tr>\n",
       "    <tr>\n",
       "      <th>31</th>\n",
       "      <td>32</td>\n",
       "      <td>28</td>\n",
       "      <td>F</td>\n",
       "      <td>student</td>\n",
       "      <td>78741</td>\n",
       "    </tr>\n",
       "  </tbody>\n",
       "</table>\n",
       "</div>"
      ],
      "text/plain": [
       "    user_id  age sex occupation zip_code\n",
       "4         5   33   F      other    15213\n",
       "11       12   28   F      other    06405\n",
       "22       23   30   F     artist    48197\n",
       "23       24   21   F     artist    94533\n",
       "31       32   28   F    student    78741"
      ]
     },
     "execution_count": 22,
     "metadata": {},
     "output_type": "execute_result"
    }
   ],
   "source": [
    "users[(users.sex == 'F') & (users.age < 35)].head()"
   ]
  },
  {
   "cell_type": "code",
   "execution_count": 23,
   "id": "c61171a6-5b16-4b7d-9116-6ab6815ca8b2",
   "metadata": {},
   "outputs": [
    {
     "data": {
      "text/html": [
       "<div>\n",
       "<style scoped>\n",
       "    .dataframe tbody tr th:only-of-type {\n",
       "        vertical-align: middle;\n",
       "    }\n",
       "\n",
       "    .dataframe tbody tr th {\n",
       "        vertical-align: top;\n",
       "    }\n",
       "\n",
       "    .dataframe thead th {\n",
       "        text-align: right;\n",
       "    }\n",
       "</style>\n",
       "<table border=\"1\" class=\"dataframe\">\n",
       "  <thead>\n",
       "    <tr style=\"text-align: right;\">\n",
       "      <th></th>\n",
       "      <th>user_id</th>\n",
       "      <th>age</th>\n",
       "      <th>sex</th>\n",
       "      <th>occupation</th>\n",
       "      <th>zip_code</th>\n",
       "    </tr>\n",
       "  </thead>\n",
       "  <tbody>\n",
       "    <tr>\n",
       "      <th>0</th>\n",
       "      <td>1</td>\n",
       "      <td>24</td>\n",
       "      <td>M</td>\n",
       "      <td>technician</td>\n",
       "      <td>85711</td>\n",
       "    </tr>\n",
       "    <tr>\n",
       "      <th>1</th>\n",
       "      <td>2</td>\n",
       "      <td>53</td>\n",
       "      <td>F</td>\n",
       "      <td>other</td>\n",
       "      <td>94043</td>\n",
       "    </tr>\n",
       "    <tr>\n",
       "      <th>2</th>\n",
       "      <td>3</td>\n",
       "      <td>23</td>\n",
       "      <td>M</td>\n",
       "      <td>writer</td>\n",
       "      <td>32067</td>\n",
       "    </tr>\n",
       "    <tr>\n",
       "      <th>3</th>\n",
       "      <td>4</td>\n",
       "      <td>24</td>\n",
       "      <td>M</td>\n",
       "      <td>technician</td>\n",
       "      <td>43537</td>\n",
       "    </tr>\n",
       "    <tr>\n",
       "      <th>4</th>\n",
       "      <td>5</td>\n",
       "      <td>33</td>\n",
       "      <td>F</td>\n",
       "      <td>other</td>\n",
       "      <td>15213</td>\n",
       "    </tr>\n",
       "  </tbody>\n",
       "</table>\n",
       "</div>"
      ],
      "text/plain": [
       "   user_id  age sex  occupation zip_code\n",
       "0        1   24   M  technician    85711\n",
       "1        2   53   F       other    94043\n",
       "2        3   23   M      writer    32067\n",
       "3        4   24   M  technician    43537\n",
       "4        5   33   F       other    15213"
      ]
     },
     "execution_count": 23,
     "metadata": {},
     "output_type": "execute_result"
    }
   ],
   "source": [
    "users[(users.sex == 'F') | (users.age < 35)].head()"
   ]
  },
  {
   "cell_type": "markdown",
   "id": "69f3de85-a5b1-4420-8e3a-72a59020f626",
   "metadata": {},
   "source": [
    "## Indexing\n",
    "\n",
    "`.loc[label]`: to choose rows and columns by label\n",
    "\n",
    "* label-based indexing\n",
    "* each row has a name/label, which is the *index* of the data frame\n",
    "* by default the label is the row number\n",
    "* a column can be set to be the index\n",
    "* values of a data frame's index do not have to be unique\n",
    "* includes start and stop bounds\n",
    "\n",
    "<br>\n",
    "\n",
    "`.iloc[integer]`: to choose rows and columns by position\n",
    "\n",
    "* integer-based indexing\n",
    "* does not include stop bound\n",
    "* similar to regular python indexing"
   ]
  },
  {
   "cell_type": "code",
   "execution_count": 24,
   "id": "c3af4bcf-8aa8-4465-97d1-9647e53b5161",
   "metadata": {},
   "outputs": [
    {
     "data": {
      "text/plain": [
       "user_id             90\n",
       "age                 60\n",
       "sex                  M\n",
       "occupation    educator\n",
       "zip_code         78155\n",
       "Name: 89, dtype: object"
      ]
     },
     "execution_count": 24,
     "metadata": {},
     "output_type": "execute_result"
    }
   ],
   "source": [
    "# select row 89\n",
    "users.loc[89]"
   ]
  },
  {
   "cell_type": "code",
   "execution_count": 27,
   "id": "172d7db1-5c4b-4477-95ab-1795844c8004",
   "metadata": {},
   "outputs": [
    {
     "data": {
      "text/html": [
       "<div>\n",
       "<style scoped>\n",
       "    .dataframe tbody tr th:only-of-type {\n",
       "        vertical-align: middle;\n",
       "    }\n",
       "\n",
       "    .dataframe tbody tr th {\n",
       "        vertical-align: top;\n",
       "    }\n",
       "\n",
       "    .dataframe thead th {\n",
       "        text-align: right;\n",
       "    }\n",
       "</style>\n",
       "<table border=\"1\" class=\"dataframe\">\n",
       "  <thead>\n",
       "    <tr style=\"text-align: right;\">\n",
       "      <th></th>\n",
       "      <th>user_id</th>\n",
       "      <th>age</th>\n",
       "      <th>sex</th>\n",
       "      <th>occupation</th>\n",
       "      <th>zip_code</th>\n",
       "    </tr>\n",
       "  </thead>\n",
       "  <tbody>\n",
       "    <tr>\n",
       "      <th>700</th>\n",
       "      <td>701</td>\n",
       "      <td>51</td>\n",
       "      <td>F</td>\n",
       "      <td>librarian</td>\n",
       "      <td>56321</td>\n",
       "    </tr>\n",
       "    <tr>\n",
       "      <th>29</th>\n",
       "      <td>30</td>\n",
       "      <td>7</td>\n",
       "      <td>M</td>\n",
       "      <td>student</td>\n",
       "      <td>55436</td>\n",
       "    </tr>\n",
       "    <tr>\n",
       "      <th>79</th>\n",
       "      <td>80</td>\n",
       "      <td>34</td>\n",
       "      <td>F</td>\n",
       "      <td>administrator</td>\n",
       "      <td>52241</td>\n",
       "    </tr>\n",
       "  </tbody>\n",
       "</table>\n",
       "</div>"
      ],
      "text/plain": [
       "     user_id  age sex     occupation zip_code\n",
       "700      701   51   F      librarian    56321\n",
       "29        30    7   M        student    55436\n",
       "79        80   34   F  administrator    52241"
      ]
     },
     "execution_count": 27,
     "metadata": {},
     "output_type": "execute_result"
    }
   ],
   "source": [
    "# select multiple rows, CAUTION: double square brackets!\n",
    "users.loc[[700, 29, 79]]"
   ]
  },
  {
   "cell_type": "code",
   "execution_count": 30,
   "id": "ba2d95cc-52e1-469d-a572-5061e0335308",
   "metadata": {},
   "outputs": [
    {
     "data": {
      "text/plain": [
       "0      24\n",
       "1      53\n",
       "2      23\n",
       "3      24\n",
       "4      33\n",
       "       ..\n",
       "938    26\n",
       "939    32\n",
       "940    20\n",
       "941    48\n",
       "942    22\n",
       "Name: age, Length: 943, dtype: int64"
      ]
     },
     "execution_count": 30,
     "metadata": {},
     "output_type": "execute_result"
    }
   ],
   "source": [
    "# select a column\n",
    "# CAUTION: 1st position refers to rows\n",
    "#          2nd position refers to columns\n",
    "#          -> use comma notation!\n",
    "users.loc[:,'age']"
   ]
  },
  {
   "cell_type": "code",
   "execution_count": 31,
   "id": "647043d1-22c2-486a-ac0c-4bf3b78f8a62",
   "metadata": {},
   "outputs": [
    {
     "data": {
      "text/plain": [
       "'M'"
      ]
     },
     "execution_count": 31,
     "metadata": {},
     "output_type": "execute_result"
    }
   ],
   "source": [
    "# select row and column\n",
    "users.loc[800, 'sex']"
   ]
  },
  {
   "cell_type": "code",
   "execution_count": 32,
   "id": "a7aabe88-edd7-4fa4-989a-f0bfb9db5e89",
   "metadata": {},
   "outputs": [
    {
     "data": {
      "text/plain": [
       "sex                M\n",
       "occupation    writer\n",
       "Name: 800, dtype: object"
      ]
     },
     "execution_count": 32,
     "metadata": {},
     "output_type": "execute_result"
    }
   ],
   "source": [
    "users.loc[800, ['sex', 'occupation']]"
   ]
  },
  {
   "cell_type": "code",
   "execution_count": 34,
   "id": "1615d305-b1ec-4f1d-acdc-3ed01d5435d2",
   "metadata": {},
   "outputs": [
    {
     "data": {
      "text/html": [
       "<div>\n",
       "<style scoped>\n",
       "    .dataframe tbody tr th:only-of-type {\n",
       "        vertical-align: middle;\n",
       "    }\n",
       "\n",
       "    .dataframe tbody tr th {\n",
       "        vertical-align: top;\n",
       "    }\n",
       "\n",
       "    .dataframe thead th {\n",
       "        text-align: right;\n",
       "    }\n",
       "</style>\n",
       "<table border=\"1\" class=\"dataframe\">\n",
       "  <thead>\n",
       "    <tr style=\"text-align: right;\">\n",
       "      <th></th>\n",
       "      <th>sex</th>\n",
       "      <th>age</th>\n",
       "      <th>occupation</th>\n",
       "    </tr>\n",
       "  </thead>\n",
       "  <tbody>\n",
       "    <tr>\n",
       "      <th>400</th>\n",
       "      <td>F</td>\n",
       "      <td>46</td>\n",
       "      <td>healthcare</td>\n",
       "    </tr>\n",
       "    <tr>\n",
       "      <th>600</th>\n",
       "      <td>F</td>\n",
       "      <td>19</td>\n",
       "      <td>artist</td>\n",
       "    </tr>\n",
       "    <tr>\n",
       "      <th>800</th>\n",
       "      <td>M</td>\n",
       "      <td>22</td>\n",
       "      <td>writer</td>\n",
       "    </tr>\n",
       "  </tbody>\n",
       "</table>\n",
       "</div>"
      ],
      "text/plain": [
       "    sex  age  occupation\n",
       "400   F   46  healthcare\n",
       "600   F   19      artist\n",
       "800   M   22      writer"
      ]
     },
     "execution_count": 34,
     "metadata": {},
     "output_type": "execute_result"
    }
   ],
   "source": [
    "# shows a 'new table' with the specified order\n",
    "# (normally 'sex' comes after 'age', here it's specified the other way around)\n",
    "users.loc[[400,600,800], ['sex', 'age', 'occupation']]"
   ]
  },
  {
   "cell_type": "code",
   "execution_count": 37,
   "id": "0836a711-95b8-4bfe-96e9-73638cb63c83",
   "metadata": {},
   "outputs": [
    {
     "data": {
      "text/plain": [
       "user_id             901\n",
       "age                  38\n",
       "sex                   M\n",
       "occupation    executive\n",
       "zip_code          L1V3W\n",
       "Name: 900, dtype: object"
      ]
     },
     "execution_count": 37,
     "metadata": {},
     "output_type": "execute_result"
    }
   ],
   "source": [
    "# positional indexing\n",
    "# select a row\n",
    "users.iloc[900]"
   ]
  },
  {
   "cell_type": "code",
   "execution_count": 38,
   "id": "c7395382-440c-4a3d-ad13-068f6d841e0f",
   "metadata": {},
   "outputs": [
    {
     "data": {
      "text/plain": [
       "0      85711\n",
       "1      94043\n",
       "2      32067\n",
       "3      43537\n",
       "4      15213\n",
       "       ...  \n",
       "938    33319\n",
       "939    02215\n",
       "940    97229\n",
       "941    78209\n",
       "942    77841\n",
       "Name: zip_code, Length: 943, dtype: object"
      ]
     },
     "execution_count": 38,
     "metadata": {},
     "output_type": "execute_result"
    }
   ],
   "source": [
    "# select a column\n",
    "users.iloc[:, 4]"
   ]
  },
  {
   "cell_type": "code",
   "execution_count": 40,
   "id": "c4a56c52-7a5e-4b82-a056-e77a983ac7ce",
   "metadata": {},
   "outputs": [
    {
     "data": {
      "text/html": [
       "<div>\n",
       "<style scoped>\n",
       "    .dataframe tbody tr th:only-of-type {\n",
       "        vertical-align: middle;\n",
       "    }\n",
       "\n",
       "    .dataframe tbody tr th {\n",
       "        vertical-align: top;\n",
       "    }\n",
       "\n",
       "    .dataframe thead th {\n",
       "        text-align: right;\n",
       "    }\n",
       "</style>\n",
       "<table border=\"1\" class=\"dataframe\">\n",
       "  <thead>\n",
       "    <tr style=\"text-align: right;\">\n",
       "      <th></th>\n",
       "      <th>sex</th>\n",
       "      <th>zip_code</th>\n",
       "      <th>age</th>\n",
       "    </tr>\n",
       "  </thead>\n",
       "  <tbody>\n",
       "    <tr>\n",
       "      <th>3</th>\n",
       "      <td>M</td>\n",
       "      <td>43537</td>\n",
       "      <td>24</td>\n",
       "    </tr>\n",
       "    <tr>\n",
       "      <th>30</th>\n",
       "      <td>M</td>\n",
       "      <td>10003</td>\n",
       "      <td>24</td>\n",
       "    </tr>\n",
       "    <tr>\n",
       "      <th>300</th>\n",
       "      <td>M</td>\n",
       "      <td>55439</td>\n",
       "      <td>24</td>\n",
       "    </tr>\n",
       "  </tbody>\n",
       "</table>\n",
       "</div>"
      ],
      "text/plain": [
       "    sex zip_code  age\n",
       "3     M    43537   24\n",
       "30    M    10003   24\n",
       "300   M    55439   24"
      ]
     },
     "execution_count": 40,
     "metadata": {},
     "output_type": "execute_result"
    }
   ],
   "source": [
    "# select rows and columns\n",
    "users.iloc[[3,30,300], [2,4,1]]"
   ]
  },
  {
   "cell_type": "markdown",
   "id": "2ce960d9-e8d9-4b04-988f-255c55a3d4d1",
   "metadata": {},
   "source": [
    "## Reindexing\n",
    "\n",
    "`.set_index(label)` setting a column as index\n",
    "\n",
    "* returns **new DataFrame** with the specified index\n",
    "* old DataFrame remains unchanged\n",
    "* use `inplace=True` to modify an existing DataFrame\n",
    "* **Caution** when indexing now, since the index has changed!\n",
    "\n",
    "\n",
    "`.reset_index(inplace=True)` restore the initial DataFrame indexing\n",
    "\n",
    "* without `inplace = True` a new DataFrame is being generated\n",
    "\n",
    "  "
   ]
  },
  {
   "cell_type": "code",
   "execution_count": 41,
   "id": "05486728-e55a-41ae-9a2d-539401316731",
   "metadata": {},
   "outputs": [
    {
     "data": {
      "text/html": [
       "<div>\n",
       "<style scoped>\n",
       "    .dataframe tbody tr th:only-of-type {\n",
       "        vertical-align: middle;\n",
       "    }\n",
       "\n",
       "    .dataframe tbody tr th {\n",
       "        vertical-align: top;\n",
       "    }\n",
       "\n",
       "    .dataframe thead th {\n",
       "        text-align: right;\n",
       "    }\n",
       "</style>\n",
       "<table border=\"1\" class=\"dataframe\">\n",
       "  <thead>\n",
       "    <tr style=\"text-align: right;\">\n",
       "      <th></th>\n",
       "      <th>age</th>\n",
       "      <th>sex</th>\n",
       "      <th>occupation</th>\n",
       "      <th>zip_code</th>\n",
       "    </tr>\n",
       "    <tr>\n",
       "      <th>user_id</th>\n",
       "      <th></th>\n",
       "      <th></th>\n",
       "      <th></th>\n",
       "      <th></th>\n",
       "    </tr>\n",
       "  </thead>\n",
       "  <tbody>\n",
       "    <tr>\n",
       "      <th>1</th>\n",
       "      <td>24</td>\n",
       "      <td>M</td>\n",
       "      <td>technician</td>\n",
       "      <td>85711</td>\n",
       "    </tr>\n",
       "    <tr>\n",
       "      <th>2</th>\n",
       "      <td>53</td>\n",
       "      <td>F</td>\n",
       "      <td>other</td>\n",
       "      <td>94043</td>\n",
       "    </tr>\n",
       "    <tr>\n",
       "      <th>3</th>\n",
       "      <td>23</td>\n",
       "      <td>M</td>\n",
       "      <td>writer</td>\n",
       "      <td>32067</td>\n",
       "    </tr>\n",
       "    <tr>\n",
       "      <th>4</th>\n",
       "      <td>24</td>\n",
       "      <td>M</td>\n",
       "      <td>technician</td>\n",
       "      <td>43537</td>\n",
       "    </tr>\n",
       "    <tr>\n",
       "      <th>5</th>\n",
       "      <td>33</td>\n",
       "      <td>F</td>\n",
       "      <td>other</td>\n",
       "      <td>15213</td>\n",
       "    </tr>\n",
       "  </tbody>\n",
       "</table>\n",
       "</div>"
      ],
      "text/plain": [
       "         age sex  occupation zip_code\n",
       "user_id                              \n",
       "1         24   M  technician    85711\n",
       "2         53   F       other    94043\n",
       "3         23   M      writer    32067\n",
       "4         24   M  technician    43537\n",
       "5         33   F       other    15213"
      ]
     },
     "execution_count": 41,
     "metadata": {},
     "output_type": "execute_result"
    }
   ],
   "source": [
    "users.set_index('user_id').head()"
   ]
  },
  {
   "cell_type": "code",
   "execution_count": 42,
   "id": "308385f5-05cd-42e4-9e92-fbd9b5328b93",
   "metadata": {},
   "outputs": [],
   "source": [
    "id_users = users.set_index('user_id')"
   ]
  },
  {
   "cell_type": "code",
   "execution_count": 43,
   "id": "056d45c8-f022-4eb2-ba4f-725489baff35",
   "metadata": {},
   "outputs": [
    {
     "data": {
      "text/html": [
       "<div>\n",
       "<style scoped>\n",
       "    .dataframe tbody tr th:only-of-type {\n",
       "        vertical-align: middle;\n",
       "    }\n",
       "\n",
       "    .dataframe tbody tr th {\n",
       "        vertical-align: top;\n",
       "    }\n",
       "\n",
       "    .dataframe thead th {\n",
       "        text-align: right;\n",
       "    }\n",
       "</style>\n",
       "<table border=\"1\" class=\"dataframe\">\n",
       "  <thead>\n",
       "    <tr style=\"text-align: right;\">\n",
       "      <th></th>\n",
       "      <th>age</th>\n",
       "      <th>sex</th>\n",
       "      <th>occupation</th>\n",
       "      <th>zip_code</th>\n",
       "    </tr>\n",
       "    <tr>\n",
       "      <th>user_id</th>\n",
       "      <th></th>\n",
       "      <th></th>\n",
       "      <th></th>\n",
       "      <th></th>\n",
       "    </tr>\n",
       "  </thead>\n",
       "  <tbody>\n",
       "    <tr>\n",
       "      <th>1</th>\n",
       "      <td>24</td>\n",
       "      <td>M</td>\n",
       "      <td>technician</td>\n",
       "      <td>85711</td>\n",
       "    </tr>\n",
       "    <tr>\n",
       "      <th>2</th>\n",
       "      <td>53</td>\n",
       "      <td>F</td>\n",
       "      <td>other</td>\n",
       "      <td>94043</td>\n",
       "    </tr>\n",
       "    <tr>\n",
       "      <th>3</th>\n",
       "      <td>23</td>\n",
       "      <td>M</td>\n",
       "      <td>writer</td>\n",
       "      <td>32067</td>\n",
       "    </tr>\n",
       "    <tr>\n",
       "      <th>4</th>\n",
       "      <td>24</td>\n",
       "      <td>M</td>\n",
       "      <td>technician</td>\n",
       "      <td>43537</td>\n",
       "    </tr>\n",
       "    <tr>\n",
       "      <th>5</th>\n",
       "      <td>33</td>\n",
       "      <td>F</td>\n",
       "      <td>other</td>\n",
       "      <td>15213</td>\n",
       "    </tr>\n",
       "  </tbody>\n",
       "</table>\n",
       "</div>"
      ],
      "text/plain": [
       "         age sex  occupation zip_code\n",
       "user_id                              \n",
       "1         24   M  technician    85711\n",
       "2         53   F       other    94043\n",
       "3         23   M      writer    32067\n",
       "4         24   M  technician    43537\n",
       "5         33   F       other    15213"
      ]
     },
     "execution_count": 43,
     "metadata": {},
     "output_type": "execute_result"
    }
   ],
   "source": [
    "id_users.head()"
   ]
  },
  {
   "cell_type": "code",
   "execution_count": 44,
   "id": "6ab88558-4b47-4e7c-9c79-ae67a1c82dde",
   "metadata": {},
   "outputs": [
    {
     "data": {
      "text/html": [
       "<div>\n",
       "<style scoped>\n",
       "    .dataframe tbody tr th:only-of-type {\n",
       "        vertical-align: middle;\n",
       "    }\n",
       "\n",
       "    .dataframe tbody tr th {\n",
       "        vertical-align: top;\n",
       "    }\n",
       "\n",
       "    .dataframe thead th {\n",
       "        text-align: right;\n",
       "    }\n",
       "</style>\n",
       "<table border=\"1\" class=\"dataframe\">\n",
       "  <thead>\n",
       "    <tr style=\"text-align: right;\">\n",
       "      <th></th>\n",
       "      <th>user_id</th>\n",
       "      <th>age</th>\n",
       "      <th>sex</th>\n",
       "      <th>occupation</th>\n",
       "      <th>zip_code</th>\n",
       "    </tr>\n",
       "  </thead>\n",
       "  <tbody>\n",
       "    <tr>\n",
       "      <th>0</th>\n",
       "      <td>1</td>\n",
       "      <td>24</td>\n",
       "      <td>M</td>\n",
       "      <td>technician</td>\n",
       "      <td>85711</td>\n",
       "    </tr>\n",
       "    <tr>\n",
       "      <th>1</th>\n",
       "      <td>2</td>\n",
       "      <td>53</td>\n",
       "      <td>F</td>\n",
       "      <td>other</td>\n",
       "      <td>94043</td>\n",
       "    </tr>\n",
       "    <tr>\n",
       "      <th>2</th>\n",
       "      <td>3</td>\n",
       "      <td>23</td>\n",
       "      <td>M</td>\n",
       "      <td>writer</td>\n",
       "      <td>32067</td>\n",
       "    </tr>\n",
       "    <tr>\n",
       "      <th>3</th>\n",
       "      <td>4</td>\n",
       "      <td>24</td>\n",
       "      <td>M</td>\n",
       "      <td>technician</td>\n",
       "      <td>43537</td>\n",
       "    </tr>\n",
       "    <tr>\n",
       "      <th>4</th>\n",
       "      <td>5</td>\n",
       "      <td>33</td>\n",
       "      <td>F</td>\n",
       "      <td>other</td>\n",
       "      <td>15213</td>\n",
       "    </tr>\n",
       "  </tbody>\n",
       "</table>\n",
       "</div>"
      ],
      "text/plain": [
       "   user_id  age sex  occupation zip_code\n",
       "0        1   24   M  technician    85711\n",
       "1        2   53   F       other    94043\n",
       "2        3   23   M      writer    32067\n",
       "3        4   24   M  technician    43537\n",
       "4        5   33   F       other    15213"
      ]
     },
     "execution_count": 44,
     "metadata": {},
     "output_type": "execute_result"
    }
   ],
   "source": [
    "users.head()"
   ]
  },
  {
   "cell_type": "code",
   "execution_count": 54,
   "id": "d7314a9c-f377-49d4-bcd7-ff8c2a6d9a71",
   "metadata": {},
   "outputs": [
    {
     "data": {
      "text/html": [
       "<div>\n",
       "<style scoped>\n",
       "    .dataframe tbody tr th:only-of-type {\n",
       "        vertical-align: middle;\n",
       "    }\n",
       "\n",
       "    .dataframe tbody tr th {\n",
       "        vertical-align: top;\n",
       "    }\n",
       "\n",
       "    .dataframe thead th {\n",
       "        text-align: right;\n",
       "    }\n",
       "</style>\n",
       "<table border=\"1\" class=\"dataframe\">\n",
       "  <thead>\n",
       "    <tr style=\"text-align: right;\">\n",
       "      <th></th>\n",
       "      <th>age</th>\n",
       "      <th>sex</th>\n",
       "      <th>occupation</th>\n",
       "      <th>zip_code</th>\n",
       "    </tr>\n",
       "    <tr>\n",
       "      <th>user_id</th>\n",
       "      <th></th>\n",
       "      <th></th>\n",
       "      <th></th>\n",
       "      <th></th>\n",
       "    </tr>\n",
       "  </thead>\n",
       "  <tbody>\n",
       "    <tr>\n",
       "      <th>1</th>\n",
       "      <td>24</td>\n",
       "      <td>M</td>\n",
       "      <td>technician</td>\n",
       "      <td>85711</td>\n",
       "    </tr>\n",
       "    <tr>\n",
       "      <th>2</th>\n",
       "      <td>53</td>\n",
       "      <td>F</td>\n",
       "      <td>other</td>\n",
       "      <td>94043</td>\n",
       "    </tr>\n",
       "    <tr>\n",
       "      <th>3</th>\n",
       "      <td>23</td>\n",
       "      <td>M</td>\n",
       "      <td>writer</td>\n",
       "      <td>32067</td>\n",
       "    </tr>\n",
       "    <tr>\n",
       "      <th>4</th>\n",
       "      <td>24</td>\n",
       "      <td>M</td>\n",
       "      <td>technician</td>\n",
       "      <td>43537</td>\n",
       "    </tr>\n",
       "    <tr>\n",
       "      <th>5</th>\n",
       "      <td>33</td>\n",
       "      <td>F</td>\n",
       "      <td>other</td>\n",
       "      <td>15213</td>\n",
       "    </tr>\n",
       "  </tbody>\n",
       "</table>\n",
       "</div>"
      ],
      "text/plain": [
       "         age sex  occupation zip_code\n",
       "user_id                              \n",
       "1         24   M  technician    85711\n",
       "2         53   F       other    94043\n",
       "3         23   M      writer    32067\n",
       "4         24   M  technician    43537\n",
       "5         33   F       other    15213"
      ]
     },
     "execution_count": 54,
     "metadata": {},
     "output_type": "execute_result"
    }
   ],
   "source": [
    "users.set_index('user_id', inplace =True)\n",
    "users.head()"
   ]
  },
  {
   "cell_type": "code",
   "execution_count": 48,
   "id": "6fd53de5-5f98-4934-8122-9b7a6ece14ab",
   "metadata": {},
   "outputs": [
    {
     "data": {
      "text/plain": [
       "age                   26\n",
       "sex                    F\n",
       "occupation    programmer\n",
       "zip_code           55106\n",
       "Name: 300, dtype: object"
      ]
     },
     "execution_count": 48,
     "metadata": {},
     "output_type": "execute_result"
    }
   ],
   "source": [
    "# location label 300\n",
    "users.loc[300]"
   ]
  },
  {
   "cell_type": "code",
   "execution_count": 49,
   "id": "469e62b6-70d7-4744-9bf7-d19bea62d38c",
   "metadata": {},
   "outputs": [
    {
     "data": {
      "text/plain": [
       "age                24\n",
       "sex                 M\n",
       "occupation    student\n",
       "zip_code        55439\n",
       "Name: 301, dtype: object"
      ]
     },
     "execution_count": 49,
     "metadata": {},
     "output_type": "execute_result"
    }
   ],
   "source": [
    "# location label 300 is not the same as location number 300\n",
    "users.iloc[300]"
   ]
  },
  {
   "cell_type": "code",
   "execution_count": 51,
   "id": "716b6597-4a79-4d01-afcf-07254713cef3",
   "metadata": {},
   "outputs": [
    {
     "data": {
      "text/plain": [
       "age                   26\n",
       "sex                    F\n",
       "occupation    programmer\n",
       "zip_code           55106\n",
       "Name: 300, dtype: object"
      ]
     },
     "execution_count": 51,
     "metadata": {},
     "output_type": "execute_result"
    }
   ],
   "source": [
    "# location label 300 = location number 299\n",
    "users.iloc[299]"
   ]
  },
  {
   "cell_type": "code",
   "execution_count": 53,
   "id": "6be569af-8c21-42a1-90c5-3def0de09d7c",
   "metadata": {},
   "outputs": [
    {
     "data": {
      "text/html": [
       "<div>\n",
       "<style scoped>\n",
       "    .dataframe tbody tr th:only-of-type {\n",
       "        vertical-align: middle;\n",
       "    }\n",
       "\n",
       "    .dataframe tbody tr th {\n",
       "        vertical-align: top;\n",
       "    }\n",
       "\n",
       "    .dataframe thead th {\n",
       "        text-align: right;\n",
       "    }\n",
       "</style>\n",
       "<table border=\"1\" class=\"dataframe\">\n",
       "  <thead>\n",
       "    <tr style=\"text-align: right;\">\n",
       "      <th></th>\n",
       "      <th>user_id</th>\n",
       "      <th>age</th>\n",
       "      <th>sex</th>\n",
       "      <th>occupation</th>\n",
       "      <th>zip_code</th>\n",
       "    </tr>\n",
       "  </thead>\n",
       "  <tbody>\n",
       "    <tr>\n",
       "      <th>0</th>\n",
       "      <td>1</td>\n",
       "      <td>24</td>\n",
       "      <td>M</td>\n",
       "      <td>technician</td>\n",
       "      <td>85711</td>\n",
       "    </tr>\n",
       "    <tr>\n",
       "      <th>1</th>\n",
       "      <td>2</td>\n",
       "      <td>53</td>\n",
       "      <td>F</td>\n",
       "      <td>other</td>\n",
       "      <td>94043</td>\n",
       "    </tr>\n",
       "    <tr>\n",
       "      <th>2</th>\n",
       "      <td>3</td>\n",
       "      <td>23</td>\n",
       "      <td>M</td>\n",
       "      <td>writer</td>\n",
       "      <td>32067</td>\n",
       "    </tr>\n",
       "    <tr>\n",
       "      <th>3</th>\n",
       "      <td>4</td>\n",
       "      <td>24</td>\n",
       "      <td>M</td>\n",
       "      <td>technician</td>\n",
       "      <td>43537</td>\n",
       "    </tr>\n",
       "    <tr>\n",
       "      <th>4</th>\n",
       "      <td>5</td>\n",
       "      <td>33</td>\n",
       "      <td>F</td>\n",
       "      <td>other</td>\n",
       "      <td>15213</td>\n",
       "    </tr>\n",
       "  </tbody>\n",
       "</table>\n",
       "</div>"
      ],
      "text/plain": [
       "   user_id  age sex  occupation zip_code\n",
       "0        1   24   M  technician    85711\n",
       "1        2   53   F       other    94043\n",
       "2        3   23   M      writer    32067\n",
       "3        4   24   M  technician    43537\n",
       "4        5   33   F       other    15213"
      ]
     },
     "execution_count": 53,
     "metadata": {},
     "output_type": "execute_result"
    }
   ],
   "source": [
    "# replaces the old dataframe with the new one\n",
    "users.reset_index(inplace = True)\n",
    "users.head()"
   ]
  },
  {
   "cell_type": "code",
   "execution_count": 55,
   "id": "f711a583-6a84-4e81-8748-aa9538800458",
   "metadata": {},
   "outputs": [
    {
     "data": {
      "text/html": [
       "<div>\n",
       "<style scoped>\n",
       "    .dataframe tbody tr th:only-of-type {\n",
       "        vertical-align: middle;\n",
       "    }\n",
       "\n",
       "    .dataframe tbody tr th {\n",
       "        vertical-align: top;\n",
       "    }\n",
       "\n",
       "    .dataframe thead th {\n",
       "        text-align: right;\n",
       "    }\n",
       "</style>\n",
       "<table border=\"1\" class=\"dataframe\">\n",
       "  <thead>\n",
       "    <tr style=\"text-align: right;\">\n",
       "      <th></th>\n",
       "      <th>user_id</th>\n",
       "      <th>age</th>\n",
       "      <th>sex</th>\n",
       "      <th>occupation</th>\n",
       "      <th>zip_code</th>\n",
       "    </tr>\n",
       "  </thead>\n",
       "  <tbody>\n",
       "    <tr>\n",
       "      <th>0</th>\n",
       "      <td>1</td>\n",
       "      <td>24</td>\n",
       "      <td>M</td>\n",
       "      <td>technician</td>\n",
       "      <td>85711</td>\n",
       "    </tr>\n",
       "    <tr>\n",
       "      <th>1</th>\n",
       "      <td>2</td>\n",
       "      <td>53</td>\n",
       "      <td>F</td>\n",
       "      <td>other</td>\n",
       "      <td>94043</td>\n",
       "    </tr>\n",
       "    <tr>\n",
       "      <th>2</th>\n",
       "      <td>3</td>\n",
       "      <td>23</td>\n",
       "      <td>M</td>\n",
       "      <td>writer</td>\n",
       "      <td>32067</td>\n",
       "    </tr>\n",
       "    <tr>\n",
       "      <th>3</th>\n",
       "      <td>4</td>\n",
       "      <td>24</td>\n",
       "      <td>M</td>\n",
       "      <td>technician</td>\n",
       "      <td>43537</td>\n",
       "    </tr>\n",
       "    <tr>\n",
       "      <th>4</th>\n",
       "      <td>5</td>\n",
       "      <td>33</td>\n",
       "      <td>F</td>\n",
       "      <td>other</td>\n",
       "      <td>15213</td>\n",
       "    </tr>\n",
       "  </tbody>\n",
       "</table>\n",
       "</div>"
      ],
      "text/plain": [
       "   user_id  age sex  occupation zip_code\n",
       "0        1   24   M  technician    85711\n",
       "1        2   53   F       other    94043\n",
       "2        3   23   M      writer    32067\n",
       "3        4   24   M  technician    43537\n",
       "4        5   33   F       other    15213"
      ]
     },
     "execution_count": 55,
     "metadata": {},
     "output_type": "execute_result"
    }
   ],
   "source": [
    "# generate new DataFrame with inital indexing\n",
    "reverse = users.reset_index()\n",
    "reverse.head()"
   ]
  },
  {
   "cell_type": "markdown",
   "id": "d67db2d0-5044-495a-83f0-15ee02dc247b",
   "metadata": {},
   "source": [
    "## Merging DataFrames\n",
    "\n",
    "`pandas.merge()`allows two DataFrames to be merged on one or more keys\n",
    "* default is an *inner join*\n",
    "* always necessary to specify something from the left DataFrame and something from the right DataFrame (index or column) to merge an i.e. to match\n",
    "    * `on`\n",
    "    * `left_on = 'column label'`, `right_on = 'column label'`: *specifies column(s)* from left/right DataFrame to use as keys for merging\n",
    "    * `left_index=True`, `right_index=True`: *specifies index* from left/right DataFrame to use as keys for merging\n",
    "    * `how = 'left'`: left outer join *(includes NULL rows from left DF)*\n",
    "    * `how = 'right'`: right outer join *(includes NULL rows from right DF)*\n",
    "    * `how = 'outer'`: full outer join *(includes NULL rows from either DF)*\n",
    "  \n",
    "\n",
    "\n",
    "\n",
    "\n",
    "### Inner Join\n",
    "* requires each row in the two joined tables to have matching column values\n",
    "* commonly used join operation\n",
    "* new result table by combining column values of two tables (A and B) based upon the join condition\n",
    "*  query compares each row of A with each row of B to find all pairs of rows which satisfy the join-condition\n",
    "   *  When the join-condition is satisfied by matching non-NULL values, column values for each matched pair of rows of A and B are combined into a result row\n",
    "   *  losing non-matching columns in the merger\n",
    " \n",
    "### Outer Join\n",
    "* retains rows even if no other matching row exists\n",
    "\n",
    "#### Left Outer Join\n",
    "* returns all the values from an inner join plus all values in the *left table* that do not match to the right table\n",
    "    * including rows with NULL (empty) values in the left column\n",
    " \n",
    "#### Right Outer Join\n",
    "* returns all the values from an inner join plus all values in the *right table* that do not match to the left table\n",
    "     * including rows with NULL (empty) values in the right column\n",
    " \n",
    "#### Full Outer Join\n",
    "* combines the effect of applying both left and right outer joins\n",
    "    * where rows in the FULL OUTER JOINed tables do not match, the result set will have NULL values for every column of the table that lacks a matching row.\n",
    " \n",
    "\n"
   ]
  },
  {
   "cell_type": "code",
   "execution_count": 56,
   "id": "e3d3a5b9-0240-4323-a134-fbf7cd7aee15",
   "metadata": {},
   "outputs": [],
   "source": [
    "# sample data\n",
    "df_employee = pd.DataFrame(\n",
    "{'LastName': ['Rafferty', 'Jones', 'Heisenberg', 'Robinson', \n",
    "      'Smith', 'Williams'],\n",
    "'DepartmentId': [31, 33, 33, 34, 34, np.nan]\n",
    "})\n",
    "\n",
    "df_department = pd.DataFrame(\n",
    "  {'DepartmentName': ['Sales', 'Engineering', 'Clerical', \n",
    "   'Marketing']}, \n",
    "  index = [31, 33, 34, 35]\n",
    ")"
   ]
  },
  {
   "cell_type": "code",
   "execution_count": 57,
   "id": "0a324461-9900-46dd-a7cb-f99878f3e59f",
   "metadata": {},
   "outputs": [
    {
     "data": {
      "text/html": [
       "<div>\n",
       "<style scoped>\n",
       "    .dataframe tbody tr th:only-of-type {\n",
       "        vertical-align: middle;\n",
       "    }\n",
       "\n",
       "    .dataframe tbody tr th {\n",
       "        vertical-align: top;\n",
       "    }\n",
       "\n",
       "    .dataframe thead th {\n",
       "        text-align: right;\n",
       "    }\n",
       "</style>\n",
       "<table border=\"1\" class=\"dataframe\">\n",
       "  <thead>\n",
       "    <tr style=\"text-align: right;\">\n",
       "      <th></th>\n",
       "      <th>LastName</th>\n",
       "      <th>DepartmentId</th>\n",
       "    </tr>\n",
       "  </thead>\n",
       "  <tbody>\n",
       "    <tr>\n",
       "      <th>0</th>\n",
       "      <td>Rafferty</td>\n",
       "      <td>31.0</td>\n",
       "    </tr>\n",
       "    <tr>\n",
       "      <th>1</th>\n",
       "      <td>Jones</td>\n",
       "      <td>33.0</td>\n",
       "    </tr>\n",
       "    <tr>\n",
       "      <th>2</th>\n",
       "      <td>Heisenberg</td>\n",
       "      <td>33.0</td>\n",
       "    </tr>\n",
       "    <tr>\n",
       "      <th>3</th>\n",
       "      <td>Robinson</td>\n",
       "      <td>34.0</td>\n",
       "    </tr>\n",
       "    <tr>\n",
       "      <th>4</th>\n",
       "      <td>Smith</td>\n",
       "      <td>34.0</td>\n",
       "    </tr>\n",
       "    <tr>\n",
       "      <th>5</th>\n",
       "      <td>Williams</td>\n",
       "      <td>NaN</td>\n",
       "    </tr>\n",
       "  </tbody>\n",
       "</table>\n",
       "</div>"
      ],
      "text/plain": [
       "     LastName  DepartmentId\n",
       "0    Rafferty          31.0\n",
       "1       Jones          33.0\n",
       "2  Heisenberg          33.0\n",
       "3    Robinson          34.0\n",
       "4       Smith          34.0\n",
       "5    Williams           NaN"
      ]
     },
     "execution_count": 57,
     "metadata": {},
     "output_type": "execute_result"
    }
   ],
   "source": [
    "df_employee"
   ]
  },
  {
   "cell_type": "code",
   "execution_count": 58,
   "id": "7ae6518f-c1b7-4e71-8c7f-64a0ac851375",
   "metadata": {},
   "outputs": [
    {
     "data": {
      "text/html": [
       "<div>\n",
       "<style scoped>\n",
       "    .dataframe tbody tr th:only-of-type {\n",
       "        vertical-align: middle;\n",
       "    }\n",
       "\n",
       "    .dataframe tbody tr th {\n",
       "        vertical-align: top;\n",
       "    }\n",
       "\n",
       "    .dataframe thead th {\n",
       "        text-align: right;\n",
       "    }\n",
       "</style>\n",
       "<table border=\"1\" class=\"dataframe\">\n",
       "  <thead>\n",
       "    <tr style=\"text-align: right;\">\n",
       "      <th></th>\n",
       "      <th>DepartmentName</th>\n",
       "    </tr>\n",
       "  </thead>\n",
       "  <tbody>\n",
       "    <tr>\n",
       "      <th>31</th>\n",
       "      <td>Sales</td>\n",
       "    </tr>\n",
       "    <tr>\n",
       "      <th>33</th>\n",
       "      <td>Engineering</td>\n",
       "    </tr>\n",
       "    <tr>\n",
       "      <th>34</th>\n",
       "      <td>Clerical</td>\n",
       "    </tr>\n",
       "    <tr>\n",
       "      <th>35</th>\n",
       "      <td>Marketing</td>\n",
       "    </tr>\n",
       "  </tbody>\n",
       "</table>\n",
       "</div>"
      ],
      "text/plain": [
       "   DepartmentName\n",
       "31          Sales\n",
       "33    Engineering\n",
       "34       Clerical\n",
       "35      Marketing"
      ]
     },
     "execution_count": 58,
     "metadata": {},
     "output_type": "execute_result"
    }
   ],
   "source": [
    "df_department"
   ]
  },
  {
   "cell_type": "code",
   "execution_count": 59,
   "id": "ff00e390-0ec6-4328-b07a-9c662357edda",
   "metadata": {},
   "outputs": [
    {
     "data": {
      "text/html": [
       "<div>\n",
       "<style scoped>\n",
       "    .dataframe tbody tr th:only-of-type {\n",
       "        vertical-align: middle;\n",
       "    }\n",
       "\n",
       "    .dataframe tbody tr th {\n",
       "        vertical-align: top;\n",
       "    }\n",
       "\n",
       "    .dataframe thead th {\n",
       "        text-align: right;\n",
       "    }\n",
       "</style>\n",
       "<table border=\"1\" class=\"dataframe\">\n",
       "  <thead>\n",
       "    <tr style=\"text-align: right;\">\n",
       "      <th></th>\n",
       "      <th>LastName</th>\n",
       "      <th>DepartmentId</th>\n",
       "      <th>DepartmentName</th>\n",
       "    </tr>\n",
       "  </thead>\n",
       "  <tbody>\n",
       "    <tr>\n",
       "      <th>0</th>\n",
       "      <td>Rafferty</td>\n",
       "      <td>31.0</td>\n",
       "      <td>Sales</td>\n",
       "    </tr>\n",
       "    <tr>\n",
       "      <th>1</th>\n",
       "      <td>Jones</td>\n",
       "      <td>33.0</td>\n",
       "      <td>Engineering</td>\n",
       "    </tr>\n",
       "    <tr>\n",
       "      <th>2</th>\n",
       "      <td>Heisenberg</td>\n",
       "      <td>33.0</td>\n",
       "      <td>Engineering</td>\n",
       "    </tr>\n",
       "    <tr>\n",
       "      <th>3</th>\n",
       "      <td>Robinson</td>\n",
       "      <td>34.0</td>\n",
       "      <td>Clerical</td>\n",
       "    </tr>\n",
       "    <tr>\n",
       "      <th>4</th>\n",
       "      <td>Smith</td>\n",
       "      <td>34.0</td>\n",
       "      <td>Clerical</td>\n",
       "    </tr>\n",
       "  </tbody>\n",
       "</table>\n",
       "</div>"
      ],
      "text/plain": [
       "     LastName  DepartmentId DepartmentName\n",
       "0    Rafferty          31.0          Sales\n",
       "1       Jones          33.0    Engineering\n",
       "2  Heisenberg          33.0    Engineering\n",
       "3    Robinson          34.0       Clerical\n",
       "4       Smith          34.0       Clerical"
      ]
     },
     "execution_count": 59,
     "metadata": {},
     "output_type": "execute_result"
    }
   ],
   "source": [
    "# inner join\n",
    "# left_on: use DepartmentId from left DataFrame\n",
    "# right_index: to match with Index of the right DataFrame\n",
    "# Williams doesn't have a department, and no one is in Marketing,\n",
    "# both rows are eliminated in inner join\n",
    "pd.merge(left = df_employee, right = df_department, left_on= \"DepartmentId\", right_index =True)"
   ]
  },
  {
   "cell_type": "code",
   "execution_count": 60,
   "id": "941e25e2-3117-47fa-a1e7-a104b01156f1",
   "metadata": {},
   "outputs": [
    {
     "data": {
      "text/html": [
       "<div>\n",
       "<style scoped>\n",
       "    .dataframe tbody tr th:only-of-type {\n",
       "        vertical-align: middle;\n",
       "    }\n",
       "\n",
       "    .dataframe tbody tr th {\n",
       "        vertical-align: top;\n",
       "    }\n",
       "\n",
       "    .dataframe thead th {\n",
       "        text-align: right;\n",
       "    }\n",
       "</style>\n",
       "<table border=\"1\" class=\"dataframe\">\n",
       "  <thead>\n",
       "    <tr style=\"text-align: right;\">\n",
       "      <th></th>\n",
       "      <th>LastName</th>\n",
       "      <th>DepartmentId</th>\n",
       "      <th>DepartmentName</th>\n",
       "    </tr>\n",
       "  </thead>\n",
       "  <tbody>\n",
       "    <tr>\n",
       "      <th>0</th>\n",
       "      <td>Rafferty</td>\n",
       "      <td>31.0</td>\n",
       "      <td>Sales</td>\n",
       "    </tr>\n",
       "    <tr>\n",
       "      <th>1</th>\n",
       "      <td>Jones</td>\n",
       "      <td>33.0</td>\n",
       "      <td>Engineering</td>\n",
       "    </tr>\n",
       "    <tr>\n",
       "      <th>2</th>\n",
       "      <td>Heisenberg</td>\n",
       "      <td>33.0</td>\n",
       "      <td>Engineering</td>\n",
       "    </tr>\n",
       "    <tr>\n",
       "      <th>3</th>\n",
       "      <td>Robinson</td>\n",
       "      <td>34.0</td>\n",
       "      <td>Clerical</td>\n",
       "    </tr>\n",
       "    <tr>\n",
       "      <th>4</th>\n",
       "      <td>Smith</td>\n",
       "      <td>34.0</td>\n",
       "      <td>Clerical</td>\n",
       "    </tr>\n",
       "    <tr>\n",
       "      <th>5</th>\n",
       "      <td>Williams</td>\n",
       "      <td>NaN</td>\n",
       "      <td>NaN</td>\n",
       "    </tr>\n",
       "  </tbody>\n",
       "</table>\n",
       "</div>"
      ],
      "text/plain": [
       "     LastName  DepartmentId DepartmentName\n",
       "0    Rafferty          31.0          Sales\n",
       "1       Jones          33.0    Engineering\n",
       "2  Heisenberg          33.0    Engineering\n",
       "3    Robinson          34.0       Clerical\n",
       "4       Smith          34.0       Clerical\n",
       "5    Williams           NaN            NaN"
      ]
     },
     "execution_count": 60,
     "metadata": {},
     "output_type": "execute_result"
    }
   ],
   "source": [
    "# left outer join\n",
    "# Williams doesn't have a department, still mentioned\n",
    "pd.merge(df_employee, df_department, left_on='DepartmentId', right_index = True, how='left')\n"
   ]
  },
  {
   "cell_type": "code",
   "execution_count": 61,
   "id": "a7cec5f1-a5af-4af6-8a09-5ae1061eb560",
   "metadata": {},
   "outputs": [
    {
     "data": {
      "text/html": [
       "<div>\n",
       "<style scoped>\n",
       "    .dataframe tbody tr th:only-of-type {\n",
       "        vertical-align: middle;\n",
       "    }\n",
       "\n",
       "    .dataframe tbody tr th {\n",
       "        vertical-align: top;\n",
       "    }\n",
       "\n",
       "    .dataframe thead th {\n",
       "        text-align: right;\n",
       "    }\n",
       "</style>\n",
       "<table border=\"1\" class=\"dataframe\">\n",
       "  <thead>\n",
       "    <tr style=\"text-align: right;\">\n",
       "      <th></th>\n",
       "      <th>LastName</th>\n",
       "      <th>DepartmentId</th>\n",
       "      <th>DepartmentName</th>\n",
       "    </tr>\n",
       "  </thead>\n",
       "  <tbody>\n",
       "    <tr>\n",
       "      <th>0.0</th>\n",
       "      <td>Rafferty</td>\n",
       "      <td>31.0</td>\n",
       "      <td>Sales</td>\n",
       "    </tr>\n",
       "    <tr>\n",
       "      <th>1.0</th>\n",
       "      <td>Jones</td>\n",
       "      <td>33.0</td>\n",
       "      <td>Engineering</td>\n",
       "    </tr>\n",
       "    <tr>\n",
       "      <th>2.0</th>\n",
       "      <td>Heisenberg</td>\n",
       "      <td>33.0</td>\n",
       "      <td>Engineering</td>\n",
       "    </tr>\n",
       "    <tr>\n",
       "      <th>3.0</th>\n",
       "      <td>Robinson</td>\n",
       "      <td>34.0</td>\n",
       "      <td>Clerical</td>\n",
       "    </tr>\n",
       "    <tr>\n",
       "      <th>4.0</th>\n",
       "      <td>Smith</td>\n",
       "      <td>34.0</td>\n",
       "      <td>Clerical</td>\n",
       "    </tr>\n",
       "    <tr>\n",
       "      <th>NaN</th>\n",
       "      <td>NaN</td>\n",
       "      <td>35.0</td>\n",
       "      <td>Marketing</td>\n",
       "    </tr>\n",
       "  </tbody>\n",
       "</table>\n",
       "</div>"
      ],
      "text/plain": [
       "       LastName  DepartmentId DepartmentName\n",
       "0.0    Rafferty          31.0          Sales\n",
       "1.0       Jones          33.0    Engineering\n",
       "2.0  Heisenberg          33.0    Engineering\n",
       "3.0    Robinson          34.0       Clerical\n",
       "4.0       Smith          34.0       Clerical\n",
       "NaN         NaN          35.0      Marketing"
      ]
     },
     "execution_count": 61,
     "metadata": {},
     "output_type": "execute_result"
    }
   ],
   "source": [
    "# right outer join\n",
    "# no one is in Marketing, still mentioned\n",
    "pd.merge(df_employee, df_department, left_on='DepartmentId', right_index = True, how='right')\n"
   ]
  },
  {
   "cell_type": "code",
   "execution_count": 62,
   "id": "86ad49b8-cbd5-476c-9c40-1bc599323015",
   "metadata": {},
   "outputs": [
    {
     "data": {
      "text/html": [
       "<div>\n",
       "<style scoped>\n",
       "    .dataframe tbody tr th:only-of-type {\n",
       "        vertical-align: middle;\n",
       "    }\n",
       "\n",
       "    .dataframe tbody tr th {\n",
       "        vertical-align: top;\n",
       "    }\n",
       "\n",
       "    .dataframe thead th {\n",
       "        text-align: right;\n",
       "    }\n",
       "</style>\n",
       "<table border=\"1\" class=\"dataframe\">\n",
       "  <thead>\n",
       "    <tr style=\"text-align: right;\">\n",
       "      <th></th>\n",
       "      <th>LastName</th>\n",
       "      <th>DepartmentId</th>\n",
       "      <th>DepartmentName</th>\n",
       "    </tr>\n",
       "  </thead>\n",
       "  <tbody>\n",
       "    <tr>\n",
       "      <th>0.0</th>\n",
       "      <td>Rafferty</td>\n",
       "      <td>31.0</td>\n",
       "      <td>Sales</td>\n",
       "    </tr>\n",
       "    <tr>\n",
       "      <th>1.0</th>\n",
       "      <td>Jones</td>\n",
       "      <td>33.0</td>\n",
       "      <td>Engineering</td>\n",
       "    </tr>\n",
       "    <tr>\n",
       "      <th>2.0</th>\n",
       "      <td>Heisenberg</td>\n",
       "      <td>33.0</td>\n",
       "      <td>Engineering</td>\n",
       "    </tr>\n",
       "    <tr>\n",
       "      <th>3.0</th>\n",
       "      <td>Robinson</td>\n",
       "      <td>34.0</td>\n",
       "      <td>Clerical</td>\n",
       "    </tr>\n",
       "    <tr>\n",
       "      <th>4.0</th>\n",
       "      <td>Smith</td>\n",
       "      <td>34.0</td>\n",
       "      <td>Clerical</td>\n",
       "    </tr>\n",
       "    <tr>\n",
       "      <th>5.0</th>\n",
       "      <td>Williams</td>\n",
       "      <td>NaN</td>\n",
       "      <td>NaN</td>\n",
       "    </tr>\n",
       "    <tr>\n",
       "      <th>NaN</th>\n",
       "      <td>NaN</td>\n",
       "      <td>35.0</td>\n",
       "      <td>Marketing</td>\n",
       "    </tr>\n",
       "  </tbody>\n",
       "</table>\n",
       "</div>"
      ],
      "text/plain": [
       "       LastName  DepartmentId DepartmentName\n",
       "0.0    Rafferty          31.0          Sales\n",
       "1.0       Jones          33.0    Engineering\n",
       "2.0  Heisenberg          33.0    Engineering\n",
       "3.0    Robinson          34.0       Clerical\n",
       "4.0       Smith          34.0       Clerical\n",
       "5.0    Williams           NaN            NaN\n",
       "NaN         NaN          35.0      Marketing"
      ]
     },
     "execution_count": 62,
     "metadata": {},
     "output_type": "execute_result"
    }
   ],
   "source": [
    "# right outer join\n",
    "# no one is in Marketing, still mentioned\n",
    "# Williams doesn't have a department, still mentioned\n",
    "pd.merge(df_employee, df_department, left_on='DepartmentId', right_index = True, how='outer')\n"
   ]
  },
  {
   "cell_type": "markdown",
   "id": "9c571a07-9f1d-4061-8b23-724be1b68b67",
   "metadata": {},
   "source": [
    "## Combining DataFrames\n",
    "\n",
    "`pandas.concat()`\n",
    "\n",
    "*  combining data frames either vertically (stacking them on top of each other) or horizontally (joining them side by side)\n",
    "*   used when you want to combine data frames that have the same structure (same columns), but different rows, or when you want to add new columns to an existing data frame\n",
    "*   typically used when you have multiple data frames with the same columns and you want to append them together or when you want to merge columns from different data frames without specifying a key\n",
    "*   *indexing from different DataFrames remains*"
   ]
  },
  {
   "cell_type": "code",
   "execution_count": 63,
   "id": "fe714e7d-a1d8-4943-8937-780963e5ab06",
   "metadata": {},
   "outputs": [
    {
     "data": {
      "text/html": [
       "<div>\n",
       "<style scoped>\n",
       "    .dataframe tbody tr th:only-of-type {\n",
       "        vertical-align: middle;\n",
       "    }\n",
       "\n",
       "    .dataframe tbody tr th {\n",
       "        vertical-align: top;\n",
       "    }\n",
       "\n",
       "    .dataframe thead th {\n",
       "        text-align: right;\n",
       "    }\n",
       "</style>\n",
       "<table border=\"1\" class=\"dataframe\">\n",
       "  <thead>\n",
       "    <tr style=\"text-align: right;\">\n",
       "      <th></th>\n",
       "      <th>LastName</th>\n",
       "      <th>DepartmentId</th>\n",
       "    </tr>\n",
       "  </thead>\n",
       "  <tbody>\n",
       "    <tr>\n",
       "      <th>0</th>\n",
       "      <td>Guenther</td>\n",
       "      <td>31</td>\n",
       "    </tr>\n",
       "    <tr>\n",
       "      <th>1</th>\n",
       "      <td>Schulz</td>\n",
       "      <td>33</td>\n",
       "    </tr>\n",
       "  </tbody>\n",
       "</table>\n",
       "</div>"
      ],
      "text/plain": [
       "   LastName  DepartmentId\n",
       "0  Guenther            31\n",
       "1    Schulz            33"
      ]
     },
     "execution_count": 63,
     "metadata": {},
     "output_type": "execute_result"
    }
   ],
   "source": [
    "# sample data frame\n",
    "df_employee_1 = pd.DataFrame(\n",
    "            {'LastName': ['Guenther', 'Schulz'],\n",
    "             'DepartmentId': [31, 33]} \n",
    "        )\n",
    "df_employee_1"
   ]
  },
  {
   "cell_type": "code",
   "execution_count": 64,
   "id": "bed1f37d-1316-4265-aac9-d94483ce7ba6",
   "metadata": {},
   "outputs": [
    {
     "data": {
      "text/html": [
       "<div>\n",
       "<style scoped>\n",
       "    .dataframe tbody tr th:only-of-type {\n",
       "        vertical-align: middle;\n",
       "    }\n",
       "\n",
       "    .dataframe tbody tr th {\n",
       "        vertical-align: top;\n",
       "    }\n",
       "\n",
       "    .dataframe thead th {\n",
       "        text-align: right;\n",
       "    }\n",
       "</style>\n",
       "<table border=\"1\" class=\"dataframe\">\n",
       "  <thead>\n",
       "    <tr style=\"text-align: right;\">\n",
       "      <th></th>\n",
       "      <th>LastName</th>\n",
       "      <th>DepartmentId</th>\n",
       "    </tr>\n",
       "  </thead>\n",
       "  <tbody>\n",
       "    <tr>\n",
       "      <th>0</th>\n",
       "      <td>Rafferty</td>\n",
       "      <td>31.0</td>\n",
       "    </tr>\n",
       "    <tr>\n",
       "      <th>1</th>\n",
       "      <td>Jones</td>\n",
       "      <td>33.0</td>\n",
       "    </tr>\n",
       "    <tr>\n",
       "      <th>2</th>\n",
       "      <td>Heisenberg</td>\n",
       "      <td>33.0</td>\n",
       "    </tr>\n",
       "    <tr>\n",
       "      <th>3</th>\n",
       "      <td>Robinson</td>\n",
       "      <td>34.0</td>\n",
       "    </tr>\n",
       "    <tr>\n",
       "      <th>4</th>\n",
       "      <td>Smith</td>\n",
       "      <td>34.0</td>\n",
       "    </tr>\n",
       "    <tr>\n",
       "      <th>5</th>\n",
       "      <td>Williams</td>\n",
       "      <td>NaN</td>\n",
       "    </tr>\n",
       "    <tr>\n",
       "      <th>0</th>\n",
       "      <td>Guenther</td>\n",
       "      <td>31.0</td>\n",
       "    </tr>\n",
       "    <tr>\n",
       "      <th>1</th>\n",
       "      <td>Schulz</td>\n",
       "      <td>33.0</td>\n",
       "    </tr>\n",
       "  </tbody>\n",
       "</table>\n",
       "</div>"
      ],
      "text/plain": [
       "     LastName  DepartmentId\n",
       "0    Rafferty          31.0\n",
       "1       Jones          33.0\n",
       "2  Heisenberg          33.0\n",
       "3    Robinson          34.0\n",
       "4       Smith          34.0\n",
       "5    Williams           NaN\n",
       "0    Guenther          31.0\n",
       "1      Schulz          33.0"
      ]
     },
     "execution_count": 64,
     "metadata": {},
     "output_type": "execute_result"
    }
   ],
   "source": [
    "pd.concat([df_employee, df_employee_1])"
   ]
  },
  {
   "cell_type": "code",
   "execution_count": 65,
   "id": "4f021b40-8473-4d36-bf7b-f3ae69f2dc25",
   "metadata": {},
   "outputs": [
    {
     "data": {
      "text/html": [
       "<div>\n",
       "<style scoped>\n",
       "    .dataframe tbody tr th:only-of-type {\n",
       "        vertical-align: middle;\n",
       "    }\n",
       "\n",
       "    .dataframe tbody tr th {\n",
       "        vertical-align: top;\n",
       "    }\n",
       "\n",
       "    .dataframe thead th {\n",
       "        text-align: right;\n",
       "    }\n",
       "</style>\n",
       "<table border=\"1\" class=\"dataframe\">\n",
       "  <thead>\n",
       "    <tr style=\"text-align: right;\">\n",
       "      <th></th>\n",
       "      <th>LastName</th>\n",
       "      <th>DepartmentId</th>\n",
       "      <th>DepartmentName</th>\n",
       "    </tr>\n",
       "  </thead>\n",
       "  <tbody>\n",
       "    <tr>\n",
       "      <th>0</th>\n",
       "      <td>Rafferty</td>\n",
       "      <td>31.0</td>\n",
       "      <td>NaN</td>\n",
       "    </tr>\n",
       "    <tr>\n",
       "      <th>1</th>\n",
       "      <td>Jones</td>\n",
       "      <td>33.0</td>\n",
       "      <td>NaN</td>\n",
       "    </tr>\n",
       "    <tr>\n",
       "      <th>2</th>\n",
       "      <td>Heisenberg</td>\n",
       "      <td>33.0</td>\n",
       "      <td>NaN</td>\n",
       "    </tr>\n",
       "    <tr>\n",
       "      <th>3</th>\n",
       "      <td>Robinson</td>\n",
       "      <td>34.0</td>\n",
       "      <td>NaN</td>\n",
       "    </tr>\n",
       "    <tr>\n",
       "      <th>4</th>\n",
       "      <td>Smith</td>\n",
       "      <td>34.0</td>\n",
       "      <td>NaN</td>\n",
       "    </tr>\n",
       "    <tr>\n",
       "      <th>5</th>\n",
       "      <td>Williams</td>\n",
       "      <td>NaN</td>\n",
       "      <td>NaN</td>\n",
       "    </tr>\n",
       "    <tr>\n",
       "      <th>31</th>\n",
       "      <td>NaN</td>\n",
       "      <td>NaN</td>\n",
       "      <td>Sales</td>\n",
       "    </tr>\n",
       "    <tr>\n",
       "      <th>33</th>\n",
       "      <td>NaN</td>\n",
       "      <td>NaN</td>\n",
       "      <td>Engineering</td>\n",
       "    </tr>\n",
       "    <tr>\n",
       "      <th>34</th>\n",
       "      <td>NaN</td>\n",
       "      <td>NaN</td>\n",
       "      <td>Clerical</td>\n",
       "    </tr>\n",
       "    <tr>\n",
       "      <th>35</th>\n",
       "      <td>NaN</td>\n",
       "      <td>NaN</td>\n",
       "      <td>Marketing</td>\n",
       "    </tr>\n",
       "  </tbody>\n",
       "</table>\n",
       "</div>"
      ],
      "text/plain": [
       "      LastName  DepartmentId DepartmentName\n",
       "0     Rafferty          31.0            NaN\n",
       "1        Jones          33.0            NaN\n",
       "2   Heisenberg          33.0            NaN\n",
       "3     Robinson          34.0            NaN\n",
       "4        Smith          34.0            NaN\n",
       "5     Williams           NaN            NaN\n",
       "31         NaN           NaN          Sales\n",
       "33         NaN           NaN    Engineering\n",
       "34         NaN           NaN       Clerical\n",
       "35         NaN           NaN      Marketing"
      ]
     },
     "execution_count": 65,
     "metadata": {},
     "output_type": "execute_result"
    }
   ],
   "source": [
    "pd.concat([df_employee, df_department])"
   ]
  },
  {
   "cell_type": "markdown",
   "id": "c82cdde9-6886-445a-870e-e874b6783245",
   "metadata": {},
   "source": [
    "## Grouping\n",
    "\n",
    "* `.groupby()`: returns a DataFrameGroupBy object which has a variety of methods\n",
    "   * e.g. `.groups`\n",
    " \n",
    "## Aggregating\n",
    "\n",
    "* `.groupby().count()`: calculates the total number of NOT NULL values within each group and returns a data frame\n",
    "* `.groupby().size()`: returns a Series with the number of elements in each group, regardless of whether they are null or not\n",
    "* `.groupby().sum()`: calculates sum of all numerical columns within each group\n",
    "* `.groupby().mean()`: calculates mean of all numerical columns within each group\n",
    "* `.groupby().median()`: calculates median withing each group\n",
    "* **Caution:** when a new variable has been defined using the `.groupby()` method, the aggregating methods can be called without the preceding `.groupby()`!\n"
   ]
  },
  {
   "cell_type": "code",
   "execution_count": 66,
   "id": "6fc9d537-4a89-4dba-93a1-04ff2529e656",
   "metadata": {},
   "outputs": [
    {
     "data": {
      "text/html": [
       "<div>\n",
       "<style scoped>\n",
       "    .dataframe tbody tr th:only-of-type {\n",
       "        vertical-align: middle;\n",
       "    }\n",
       "\n",
       "    .dataframe tbody tr th {\n",
       "        vertical-align: top;\n",
       "    }\n",
       "\n",
       "    .dataframe thead th {\n",
       "        text-align: right;\n",
       "    }\n",
       "</style>\n",
       "<table border=\"1\" class=\"dataframe\">\n",
       "  <thead>\n",
       "    <tr style=\"text-align: right;\">\n",
       "      <th></th>\n",
       "      <th>A</th>\n",
       "      <th>B</th>\n",
       "    </tr>\n",
       "  </thead>\n",
       "  <tbody>\n",
       "    <tr>\n",
       "      <th>0</th>\n",
       "      <td>two</td>\n",
       "      <td>0</td>\n",
       "    </tr>\n",
       "    <tr>\n",
       "      <th>1</th>\n",
       "      <td>one</td>\n",
       "      <td>1</td>\n",
       "    </tr>\n",
       "    <tr>\n",
       "      <th>2</th>\n",
       "      <td>three</td>\n",
       "      <td>2</td>\n",
       "    </tr>\n",
       "    <tr>\n",
       "      <th>3</th>\n",
       "      <td>one</td>\n",
       "      <td>3</td>\n",
       "    </tr>\n",
       "    <tr>\n",
       "      <th>4</th>\n",
       "      <td>three</td>\n",
       "      <td>4</td>\n",
       "    </tr>\n",
       "    <tr>\n",
       "      <th>5</th>\n",
       "      <td>one</td>\n",
       "      <td>5</td>\n",
       "    </tr>\n",
       "  </tbody>\n",
       "</table>\n",
       "</div>"
      ],
      "text/plain": [
       "       A  B\n",
       "0    two  0\n",
       "1    one  1\n",
       "2  three  2\n",
       "3    one  3\n",
       "4  three  4\n",
       "5    one  5"
      ]
     },
     "execution_count": 66,
     "metadata": {},
     "output_type": "execute_result"
    }
   ],
   "source": [
    "df = pd.DataFrame({'A': ['two', 'one', 'three', 'one', 'three', 'one'], \n",
    "                   'B': range(6)})\n",
    "df"
   ]
  },
  {
   "cell_type": "code",
   "execution_count": 67,
   "id": "667ac1d0-263d-4e1e-b4da-c3514a9aeb47",
   "metadata": {},
   "outputs": [
    {
     "data": {
      "text/plain": [
       "<pandas.core.groupby.generic.DataFrameGroupBy object at 0x126cfd190>"
      ]
     },
     "execution_count": 67,
     "metadata": {},
     "output_type": "execute_result"
    }
   ],
   "source": [
    "df.groupby(by='A')"
   ]
  },
  {
   "cell_type": "code",
   "execution_count": 69,
   "id": "5ac6af8c-35ae-487b-a2e1-a696d672e6dd",
   "metadata": {},
   "outputs": [
    {
     "data": {
      "text/plain": [
       "{'one': [1, 3, 5], 'three': [2, 4], 'two': [0]}"
      ]
     },
     "execution_count": 69,
     "metadata": {},
     "output_type": "execute_result"
    }
   ],
   "source": [
    "df.groupby(by='A').groups"
   ]
  },
  {
   "cell_type": "code",
   "execution_count": 71,
   "id": "52baa86e-00c6-4328-a2a2-201999ca43a7",
   "metadata": {},
   "outputs": [
    {
     "data": {
      "text/plain": [
       "{'one': [1, 3, 5], 'three': [2, 4], 'two': [0]}"
      ]
     },
     "execution_count": 71,
     "metadata": {},
     "output_type": "execute_result"
    }
   ],
   "source": [
    "df.groupby('A').groups"
   ]
  },
  {
   "cell_type": "code",
   "execution_count": 72,
   "id": "763b6490-12bd-40a7-ad85-4a32f34294c0",
   "metadata": {},
   "outputs": [
    {
     "data": {
      "text/html": [
       "<div>\n",
       "<style scoped>\n",
       "    .dataframe tbody tr th:only-of-type {\n",
       "        vertical-align: middle;\n",
       "    }\n",
       "\n",
       "    .dataframe tbody tr th {\n",
       "        vertical-align: top;\n",
       "    }\n",
       "\n",
       "    .dataframe thead th {\n",
       "        text-align: right;\n",
       "    }\n",
       "</style>\n",
       "<table border=\"1\" class=\"dataframe\">\n",
       "  <thead>\n",
       "    <tr style=\"text-align: right;\">\n",
       "      <th></th>\n",
       "      <th>B</th>\n",
       "    </tr>\n",
       "    <tr>\n",
       "      <th>A</th>\n",
       "      <th></th>\n",
       "    </tr>\n",
       "  </thead>\n",
       "  <tbody>\n",
       "    <tr>\n",
       "      <th>one</th>\n",
       "      <td>3</td>\n",
       "    </tr>\n",
       "    <tr>\n",
       "      <th>three</th>\n",
       "      <td>2</td>\n",
       "    </tr>\n",
       "    <tr>\n",
       "      <th>two</th>\n",
       "      <td>1</td>\n",
       "    </tr>\n",
       "  </tbody>\n",
       "</table>\n",
       "</div>"
      ],
      "text/plain": [
       "       B\n",
       "A       \n",
       "one    3\n",
       "three  2\n",
       "two    1"
      ]
     },
     "execution_count": 72,
     "metadata": {},
     "output_type": "execute_result"
    }
   ],
   "source": [
    "df.groupby('A').count()"
   ]
  },
  {
   "cell_type": "code",
   "execution_count": 73,
   "id": "178aa8f3-8f45-4b3c-8cd6-f411874c42c5",
   "metadata": {},
   "outputs": [
    {
     "data": {
      "text/plain": [
       "A\n",
       "one      3\n",
       "three    2\n",
       "two      1\n",
       "dtype: int64"
      ]
     },
     "execution_count": 73,
     "metadata": {},
     "output_type": "execute_result"
    }
   ],
   "source": [
    "df.groupby('A').size()"
   ]
  },
  {
   "cell_type": "code",
   "execution_count": 74,
   "id": "7207fff6-89c2-40d0-8491-501155d4a5be",
   "metadata": {},
   "outputs": [
    {
     "data": {
      "text/html": [
       "<div>\n",
       "<style scoped>\n",
       "    .dataframe tbody tr th:only-of-type {\n",
       "        vertical-align: middle;\n",
       "    }\n",
       "\n",
       "    .dataframe tbody tr th {\n",
       "        vertical-align: top;\n",
       "    }\n",
       "\n",
       "    .dataframe thead th {\n",
       "        text-align: right;\n",
       "    }\n",
       "</style>\n",
       "<table border=\"1\" class=\"dataframe\">\n",
       "  <thead>\n",
       "    <tr style=\"text-align: right;\">\n",
       "      <th></th>\n",
       "      <th>B</th>\n",
       "    </tr>\n",
       "    <tr>\n",
       "      <th>A</th>\n",
       "      <th></th>\n",
       "    </tr>\n",
       "  </thead>\n",
       "  <tbody>\n",
       "    <tr>\n",
       "      <th>one</th>\n",
       "      <td>9</td>\n",
       "    </tr>\n",
       "    <tr>\n",
       "      <th>three</th>\n",
       "      <td>6</td>\n",
       "    </tr>\n",
       "    <tr>\n",
       "      <th>two</th>\n",
       "      <td>0</td>\n",
       "    </tr>\n",
       "  </tbody>\n",
       "</table>\n",
       "</div>"
      ],
      "text/plain": [
       "       B\n",
       "A       \n",
       "one    9\n",
       "three  6\n",
       "two    0"
      ]
     },
     "execution_count": 74,
     "metadata": {},
     "output_type": "execute_result"
    }
   ],
   "source": [
    "df.groupby('A').sum()"
   ]
  },
  {
   "cell_type": "code",
   "execution_count": 75,
   "id": "e0231a71-2f83-4a23-aefe-9e76ad9e7a70",
   "metadata": {},
   "outputs": [
    {
     "data": {
      "text/html": [
       "<div>\n",
       "<style scoped>\n",
       "    .dataframe tbody tr th:only-of-type {\n",
       "        vertical-align: middle;\n",
       "    }\n",
       "\n",
       "    .dataframe tbody tr th {\n",
       "        vertical-align: top;\n",
       "    }\n",
       "\n",
       "    .dataframe thead th {\n",
       "        text-align: right;\n",
       "    }\n",
       "</style>\n",
       "<table border=\"1\" class=\"dataframe\">\n",
       "  <thead>\n",
       "    <tr style=\"text-align: right;\">\n",
       "      <th></th>\n",
       "      <th>B</th>\n",
       "    </tr>\n",
       "    <tr>\n",
       "      <th>A</th>\n",
       "      <th></th>\n",
       "    </tr>\n",
       "  </thead>\n",
       "  <tbody>\n",
       "    <tr>\n",
       "      <th>one</th>\n",
       "      <td>3.0</td>\n",
       "    </tr>\n",
       "    <tr>\n",
       "      <th>three</th>\n",
       "      <td>3.0</td>\n",
       "    </tr>\n",
       "    <tr>\n",
       "      <th>two</th>\n",
       "      <td>0.0</td>\n",
       "    </tr>\n",
       "  </tbody>\n",
       "</table>\n",
       "</div>"
      ],
      "text/plain": [
       "         B\n",
       "A         \n",
       "one    3.0\n",
       "three  3.0\n",
       "two    0.0"
      ]
     },
     "execution_count": 75,
     "metadata": {},
     "output_type": "execute_result"
    }
   ],
   "source": [
    "df.groupby('A').mean()"
   ]
  },
  {
   "cell_type": "code",
   "execution_count": 76,
   "id": "6b27946f-8eef-4cbe-9ac2-f31c027470d7",
   "metadata": {},
   "outputs": [
    {
     "data": {
      "text/html": [
       "<div>\n",
       "<style scoped>\n",
       "    .dataframe tbody tr th:only-of-type {\n",
       "        vertical-align: middle;\n",
       "    }\n",
       "\n",
       "    .dataframe tbody tr th {\n",
       "        vertical-align: top;\n",
       "    }\n",
       "\n",
       "    .dataframe thead th {\n",
       "        text-align: right;\n",
       "    }\n",
       "</style>\n",
       "<table border=\"1\" class=\"dataframe\">\n",
       "  <thead>\n",
       "    <tr style=\"text-align: right;\">\n",
       "      <th></th>\n",
       "      <th>B</th>\n",
       "    </tr>\n",
       "    <tr>\n",
       "      <th>A</th>\n",
       "      <th></th>\n",
       "    </tr>\n",
       "  </thead>\n",
       "  <tbody>\n",
       "    <tr>\n",
       "      <th>one</th>\n",
       "      <td>3.0</td>\n",
       "    </tr>\n",
       "    <tr>\n",
       "      <th>three</th>\n",
       "      <td>3.0</td>\n",
       "    </tr>\n",
       "    <tr>\n",
       "      <th>two</th>\n",
       "      <td>0.0</td>\n",
       "    </tr>\n",
       "  </tbody>\n",
       "</table>\n",
       "</div>"
      ],
      "text/plain": [
       "         B\n",
       "A         \n",
       "one    3.0\n",
       "three  3.0\n",
       "two    0.0"
      ]
     },
     "execution_count": 76,
     "metadata": {},
     "output_type": "execute_result"
    }
   ],
   "source": [
    "df.groupby('A').median()"
   ]
  },
  {
   "cell_type": "markdown",
   "id": "31d7a9f8-1c4b-4b20-8b9c-6985c0807078",
   "metadata": {},
   "source": [
    "# Plotting\n",
    "\n",
    "## Line Plot\n",
    "`.plot()`\n",
    "\n",
    "## Bar Plot\n",
    "`.plot.bar()`  \n",
    "`.plot.(kind ='bar')`\n",
    "* presents categorical data with rectangular bars with heights or lengths proportional to the values that they represent\n",
    "* *stacked barplot*:\n",
    "   * `.plot.(kind ='bar', stacked =True)`\n",
    "   * show the distribution of a second categorical variable within each bar\n",
    "\n",
    "## Pie Plot\n",
    "`.plot.pie()`  \n",
    "`.plot.(kind ='pie')`\n",
    "*  circular statistical graphic which is divided into slices to illustrate numerical proportion.\n",
    "\n",
    "## Scatter Plot\n",
    "`.plot.scatter()`  \n",
    "`.plot.(kind ='scatter')`\n",
    "* plot in which the values of two variables are plotted along two axes, the pattern of the resulting points revealing any correlation present\n",
    "\n",
    "## Histogram\n",
    "`.hist()`\n",
    "* univariate plot (a plot that displays one variable) that groups a numeric variable into bins and displays the number of observations that fall within each bin\n",
    "* useful tool for getting a sense of the distribution of a numeric variable\n",
    "\n",
    "## Boxplot\n",
    "`.boxplot()`\n",
    "* method for graphically depicting groups of numerical data through their quartiles\n",
    "* box extends from the Q1 to Q3 quartile values of the data, with a line at the median (Q2)\n",
    "* whiskers extend from the edges of box to show the range of the data\n",
    "* position of the whiskers is set by default to 1.5*IQR from the edges of the box, where IQR is Interquartile range\n",
    "* Outlier points are those past the end of the whiskers\n",
    "* displays distribution of data based on a five number summary (“minimum”, first quartile (Q1), median, third quartile (Q3), and “maximum”).\n",
    "* shows outliers and what their values are\n",
    "* tells if the data is symmetrical, how tightly the data is grouped, and if and how the data is skewed\n",
    "* *side-by-side boxplot*: takes a numeric variable and splits it on based on some categorical variable, drawing a different boxplot for each level of the categorical variable"
   ]
  },
  {
   "cell_type": "code",
   "execution_count": 77,
   "id": "8774d29f-25b6-428a-844d-834a9c74c303",
   "metadata": {},
   "outputs": [],
   "source": [
    "import numpy as np"
   ]
  },
  {
   "cell_type": "code",
   "execution_count": 81,
   "id": "aa5fb6f0-a515-46c3-9abd-9ab3e450ec89",
   "metadata": {},
   "outputs": [
    {
     "data": {
      "text/plain": [
       "0       1\n",
       "1       2\n",
       "2       3\n",
       "3       4\n",
       "4       5\n",
       "     ... \n",
       "95     96\n",
       "96     97\n",
       "97     98\n",
       "98     99\n",
       "99    100\n",
       "Length: 100, dtype: int64"
      ]
     },
     "execution_count": 81,
     "metadata": {},
     "output_type": "execute_result"
    }
   ],
   "source": [
    "sam = pd.Series(np.arange(1,101, 1))\n",
    "uni = pd.Series(np.random.rand(10))\n",
    "sam"
   ]
  },
  {
   "cell_type": "code",
   "execution_count": 82,
   "id": "c4e18843-ed1c-4f9a-80f9-e3b9b94f06aa",
   "metadata": {},
   "outputs": [
    {
     "data": {
      "text/plain": [
       "<Axes: >"
      ]
     },
     "execution_count": 82,
     "metadata": {},
     "output_type": "execute_result"
    },
    {
     "data": {
      "image/png": "[encoded data removed]",
      "text/plain": [
       "<Figure size 640x480 with 1 Axes>"
      ]
     },
     "metadata": {},
     "output_type": "display_data"
    }
   ],
   "source": [
    "sam.plot()"
   ]
  },
  {
   "cell_type": "code",
   "execution_count": 83,
   "id": "72248738-e07a-41d4-8b9c-f11fe74943cf",
   "metadata": {},
   "outputs": [
    {
     "data": {
      "text/plain": [
       "<Axes: >"
      ]
     },
     "execution_count": 83,
     "metadata": {},
     "output_type": "execute_result"
    },
    {
     "data": {
      "image/png": "[encoded data removed]",
      "text/plain": [
       "<Figure size 640x480 with 1 Axes>"
      ]
     },
     "metadata": {},
     "output_type": "display_data"
    }
   ],
   "source": [
    "uni.plot()"
   ]
  },
  {
   "cell_type": "code",
   "execution_count": 85,
   "id": "5950fa2e-4b2d-4f39-8779-8d606cd3b92e",
   "metadata": {},
   "outputs": [
    {
     "data": {
      "text/plain": [
       "<Axes: >"
      ]
     },
     "execution_count": 85,
     "metadata": {},
     "output_type": "execute_result"
    },
    {
     "data": {
      "image/png": "[encoded data removed]",
      "text/plain": [
       "<Figure size 640x480 with 1 Axes>"
      ]
     },
     "metadata": {},
     "output_type": "display_data"
    }
   ],
   "source": [
    "str_ind = pd.Series([1, 34, 384, 458], index=[\"berry\", \"pineapple\", \"cherry\", \"granadilla\"])\n",
    "str_ind.plot()"
   ]
  },
  {
   "cell_type": "code",
   "execution_count": 86,
   "id": "f84188aa-592b-4da3-9e09-b0e60593233b",
   "metadata": {},
   "outputs": [
    {
     "data": {
      "text/html": [
       "<div>\n",
       "<style scoped>\n",
       "    .dataframe tbody tr th:only-of-type {\n",
       "        vertical-align: middle;\n",
       "    }\n",
       "\n",
       "    .dataframe tbody tr th {\n",
       "        vertical-align: top;\n",
       "    }\n",
       "\n",
       "    .dataframe thead th {\n",
       "        text-align: right;\n",
       "    }\n",
       "</style>\n",
       "<table border=\"1\" class=\"dataframe\">\n",
       "  <thead>\n",
       "    <tr style=\"text-align: right;\">\n",
       "      <th></th>\n",
       "      <th>population</th>\n",
       "      <th>area</th>\n",
       "    </tr>\n",
       "  </thead>\n",
       "  <tbody>\n",
       "    <tr>\n",
       "      <th>London</th>\n",
       "      <td>8615246</td>\n",
       "      <td>1572.00</td>\n",
       "    </tr>\n",
       "    <tr>\n",
       "      <th>Berlin</th>\n",
       "      <td>3562166</td>\n",
       "      <td>891.85</td>\n",
       "    </tr>\n",
       "    <tr>\n",
       "      <th>Madrid</th>\n",
       "      <td>3165235</td>\n",
       "      <td>605.77</td>\n",
       "    </tr>\n",
       "    <tr>\n",
       "      <th>Rome</th>\n",
       "      <td>2874038</td>\n",
       "      <td>1285.00</td>\n",
       "    </tr>\n",
       "    <tr>\n",
       "      <th>Paris</th>\n",
       "      <td>2273305</td>\n",
       "      <td>105.40</td>\n",
       "    </tr>\n",
       "  </tbody>\n",
       "</table>\n",
       "</div>"
      ],
      "text/plain": [
       "        population     area\n",
       "London     8615246  1572.00\n",
       "Berlin     3562166   891.85\n",
       "Madrid     3165235   605.77\n",
       "Rome       2874038  1285.00\n",
       "Paris      2273305   105.40"
      ]
     },
     "execution_count": 86,
     "metadata": {},
     "output_type": "execute_result"
    }
   ],
   "source": [
    "# sample data frame\n",
    "cities = {\"name\": [\"London\", \"Berlin\", \"Madrid\", \"Rome\",\n",
    "                   \"Paris\", \"Vienna\", \"Bucharest\", \"Hamburg\",\n",
    "                   \"Budapest\", \"Warsaw\", \"Barcelona\",\n",
    "                   \"Munich\", \"Milan\"],\n",
    "          \"population\": [8615246, 3562166, 3165235, 2874038,\n",
    "                         2273305, 1805681, 1803425, 1760433,\n",
    "                         1754000, 1740119, 1602386, 1493900,\n",
    "                         1350680],\n",
    "          \"area\" : [1572, 891.85, 605.77, 1285,\n",
    "                    105.4, 414.6, 228, 755,\n",
    "                    525.2, 517, 101.9, 310.4,\n",
    "                    181.8]\n",
    "         }\n",
    "city_frame = pd.DataFrame(cities,columns=[\"population\", \"area\"],index=cities[\"name\"])\n",
    "city_frame.head()"
   ]
  },
  {
   "cell_type": "code",
   "execution_count": 88,
   "id": "b7f10db4-b730-42d4-b729-ad891844dc87",
   "metadata": {},
   "outputs": [
    {
     "data": {
      "text/plain": [
       "<Axes: >"
      ]
     },
     "execution_count": 88,
     "metadata": {},
     "output_type": "execute_result"
    },
    {
     "data": {
      "image/png": "[encoded data removed]",
      "text/plain": [
       "<Figure size 640x480 with 1 Axes>"
      ]
     },
     "metadata": {},
     "output_type": "display_data"
    }
   ],
   "source": [
    "city_frame[\"area\"] *= 1000\n",
    "city_frame.plot()"
   ]
  },
  {
   "cell_type": "code",
   "execution_count": 90,
   "id": "8126ff68-1798-4f21-b728-9c451f9a3f81",
   "metadata": {},
   "outputs": [
    {
     "data": {
      "text/plain": [
       "<Axes: >"
      ]
     },
     "execution_count": 90,
     "metadata": {},
     "output_type": "execute_result"
    },
    {
     "data": {
      "image/png": "[encoded data removed]",
      "text/plain": [
       "<Figure size 640x480 with 1 Axes>"
      ]
     },
     "metadata": {},
     "output_type": "display_data"
    }
   ],
   "source": [
    "city_frame.plot(xticks = range(len(city_frame.index)), rot=45)"
   ]
  },
  {
   "cell_type": "code",
   "execution_count": 92,
   "id": "6dd53e97-9107-47e6-a29b-a3c233b48691",
   "metadata": {},
   "outputs": [
    {
     "data": {
      "text/plain": [
       "<Axes: >"
      ]
     },
     "execution_count": 92,
     "metadata": {},
     "output_type": "execute_result"
    },
    {
     "data": {
      "image/png": "[encoded data removed]",
      "text/plain": [
       "<Figure size 3000x1000 with 1 Axes>"
      ]
     },
     "metadata": {},
     "output_type": "display_data"
    }
   ],
   "source": [
    "city_frame.plot(xticks = range(len(city_frame.index)), rot=45, figsize=(30,10))"
   ]
  },
  {
   "cell_type": "code",
   "execution_count": 93,
   "id": "28767abd-a2c5-4002-b77d-5a3ee92dc430",
   "metadata": {},
   "outputs": [],
   "source": [
    "# reestablish the city data frame\n",
    "city_frame = pd.DataFrame(cities, columns=[\"population\", \"area\"],\n",
    "                          index=cities[\"name\"])"
   ]
  },
  {
   "cell_type": "code",
   "execution_count": 94,
   "id": "2568f078-772a-4a0d-bc41-5d0e0b8b98c3",
   "metadata": {},
   "outputs": [
    {
     "data": {
      "text/plain": [
       "<Axes: >"
      ]
     },
     "execution_count": 94,
     "metadata": {},
     "output_type": "execute_result"
    },
    {
     "data": {
      "image/png": "[encoded data removed]",
      "text/plain": [
       "<Figure size 640x480 with 1 Axes>"
      ]
     },
     "metadata": {},
     "output_type": "display_data"
    }
   ],
   "source": [
    "uni.plot.bar()"
   ]
  },
  {
   "cell_type": "code",
   "execution_count": 95,
   "id": "408d4497-57a4-421e-88ae-1e2414892345",
   "metadata": {},
   "outputs": [
    {
     "data": {
      "text/plain": [
       "<Axes: >"
      ]
     },
     "execution_count": 95,
     "metadata": {},
     "output_type": "execute_result"
    },
    {
     "data": {
      "image/png": "[encoded data removed]",
      "text/plain": [
       "<Figure size 640x480 with 1 Axes>"
      ]
     },
     "metadata": {},
     "output_type": "display_data"
    }
   ],
   "source": [
    "str_ind.plot.pie()"
   ]
  },
  {
   "cell_type": "code",
   "execution_count": 97,
   "id": "f7e44304-2fc5-4223-89b5-a21817b57ecf",
   "metadata": {},
   "outputs": [
    {
     "data": {
      "text/plain": [
       "<Axes: xlabel='preTestScore', ylabel='postTestScore'>"
      ]
     },
     "execution_count": 97,
     "metadata": {},
     "output_type": "execute_result"
    },
    {
     "data": {
      "image/png": "[encoded data removed]",
      "text/plain": [
       "<Figure size 640x480 with 1 Axes>"
      ]
     },
     "metadata": {},
     "output_type": "display_data"
    }
   ],
   "source": [
    "raw_data = \\\n",
    "       {'first_name': ['Jason', 'Molly', 'Tina', 'Jake', 'Amy'],\n",
    "         'last_name': ['Miller', 'Jacobson', 'Ali', 'Milner', 'Cooze'],\n",
    "        'gender': ['male', 'female', 'male' , 'male', 'female'],\n",
    "        'age': [42, 52, 36, 24, 73],\n",
    "        'preTestScore': [4, 24, 31, 2, 3],\n",
    "        'postTestScore': [25, 94, 57, 62, 70]}\n",
    "data = pd.DataFrame(raw_data, columns = ['first_name',\n",
    "                                         'last_name',\n",
    "                                         'age', 'gender',\n",
    "                                         'preTestScore',\n",
    "                                         'postTestScore'])\n",
    "\n",
    "data.plot.scatter(x='preTestScore', \n",
    "                  y='postTestScore', \n",
    "                  s=data.age*10,         # marker size\n",
    "                  c=data.gender.apply(   # marker colors\n",
    "                      lambda x: 'pink' if x=='male' else 'purple'\n",
    "                  ))\n"
   ]
  },
  {
   "cell_type": "code",
   "execution_count": 98,
   "id": "d0e0fbfa-b829-4a2c-85a3-44f8e185de27",
   "metadata": {},
   "outputs": [
    {
     "name": "stdout",
     "output_type": "stream",
     "text": [
      "(53940, 10)\n"
     ]
    },
    {
     "data": {
      "text/html": [
       "<div>\n",
       "<style scoped>\n",
       "    .dataframe tbody tr th:only-of-type {\n",
       "        vertical-align: middle;\n",
       "    }\n",
       "\n",
       "    .dataframe tbody tr th {\n",
       "        vertical-align: top;\n",
       "    }\n",
       "\n",
       "    .dataframe thead th {\n",
       "        text-align: right;\n",
       "    }\n",
       "</style>\n",
       "<table border=\"1\" class=\"dataframe\">\n",
       "  <thead>\n",
       "    <tr style=\"text-align: right;\">\n",
       "      <th></th>\n",
       "      <th>carat</th>\n",
       "      <th>cut</th>\n",
       "      <th>color</th>\n",
       "      <th>clarity</th>\n",
       "      <th>depth</th>\n",
       "      <th>table</th>\n",
       "      <th>price</th>\n",
       "      <th>x</th>\n",
       "      <th>y</th>\n",
       "      <th>z</th>\n",
       "    </tr>\n",
       "  </thead>\n",
       "  <tbody>\n",
       "    <tr>\n",
       "      <th>0</th>\n",
       "      <td>0.23</td>\n",
       "      <td>Ideal</td>\n",
       "      <td>E</td>\n",
       "      <td>SI2</td>\n",
       "      <td>61.5</td>\n",
       "      <td>55.0</td>\n",
       "      <td>326</td>\n",
       "      <td>3.95</td>\n",
       "      <td>3.98</td>\n",
       "      <td>2.43</td>\n",
       "    </tr>\n",
       "    <tr>\n",
       "      <th>1</th>\n",
       "      <td>0.21</td>\n",
       "      <td>Premium</td>\n",
       "      <td>E</td>\n",
       "      <td>SI1</td>\n",
       "      <td>59.8</td>\n",
       "      <td>61.0</td>\n",
       "      <td>326</td>\n",
       "      <td>3.89</td>\n",
       "      <td>3.84</td>\n",
       "      <td>2.31</td>\n",
       "    </tr>\n",
       "    <tr>\n",
       "      <th>2</th>\n",
       "      <td>0.23</td>\n",
       "      <td>Good</td>\n",
       "      <td>E</td>\n",
       "      <td>VS1</td>\n",
       "      <td>56.9</td>\n",
       "      <td>65.0</td>\n",
       "      <td>327</td>\n",
       "      <td>4.05</td>\n",
       "      <td>4.07</td>\n",
       "      <td>2.31</td>\n",
       "    </tr>\n",
       "    <tr>\n",
       "      <th>3</th>\n",
       "      <td>0.29</td>\n",
       "      <td>Premium</td>\n",
       "      <td>I</td>\n",
       "      <td>VS2</td>\n",
       "      <td>62.4</td>\n",
       "      <td>58.0</td>\n",
       "      <td>334</td>\n",
       "      <td>4.20</td>\n",
       "      <td>4.23</td>\n",
       "      <td>2.63</td>\n",
       "    </tr>\n",
       "    <tr>\n",
       "      <th>4</th>\n",
       "      <td>0.31</td>\n",
       "      <td>Good</td>\n",
       "      <td>J</td>\n",
       "      <td>SI2</td>\n",
       "      <td>63.3</td>\n",
       "      <td>58.0</td>\n",
       "      <td>335</td>\n",
       "      <td>4.34</td>\n",
       "      <td>4.35</td>\n",
       "      <td>2.75</td>\n",
       "    </tr>\n",
       "  </tbody>\n",
       "</table>\n",
       "</div>"
      ],
      "text/plain": [
       "   carat      cut color clarity  depth  table  price     x     y     z\n",
       "0   0.23    Ideal     E     SI2   61.5   55.0    326  3.95  3.98  2.43\n",
       "1   0.21  Premium     E     SI1   59.8   61.0    326  3.89  3.84  2.31\n",
       "2   0.23     Good     E     VS1   56.9   65.0    327  4.05  4.07  2.31\n",
       "3   0.29  Premium     I     VS2   62.4   58.0    334  4.20  4.23  2.63\n",
       "4   0.31     Good     J     SI2   63.3   58.0    335  4.34  4.35  2.75"
      ]
     },
     "execution_count": 98,
     "metadata": {},
     "output_type": "execute_result"
    }
   ],
   "source": [
    "url = 'https://raw.githubusercontent.com/tidyverse/ggplot2/' \\\n",
    "      'master/data-raw/diamonds.csv'\n",
    "diamonds = pd.read_csv(url)\n",
    "\n",
    "print(diamonds.shape)\n",
    "diamonds.head()"
   ]
  },
  {
   "cell_type": "code",
   "execution_count": 104,
   "id": "cf79a378-2f0a-4eaa-859c-6cbfb122dcea",
   "metadata": {},
   "outputs": [
    {
     "data": {
      "text/plain": [
       "array([[<Axes: title={'center': 'carat'}>]], dtype=object)"
      ]
     },
     "execution_count": 104,
     "metadata": {},
     "output_type": "execute_result"
    },
    {
     "data": {
      "image/png": "[encoded data removed]",
      "text/plain": [
       "<Figure size 640x480 with 1 Axes>"
      ]
     },
     "metadata": {},
     "output_type": "display_data"
    }
   ],
   "source": [
    "diamonds.hist(column=\"carat\", \n",
    "              color = \"orange\",\n",
    "              bins = 65,       # specify amount of bins\n",
    "              range =(0, 2))   # limit x-axis range"
   ]
  },
  {
   "cell_type": "code",
   "execution_count": 106,
   "id": "f2e5cb6e-12a7-42de-80dd-7793ba0dd6cd",
   "metadata": {},
   "outputs": [
    {
     "data": {
      "text/plain": [
       "<Axes: >"
      ]
     },
     "execution_count": 106,
     "metadata": {},
     "output_type": "execute_result"
    },
    {
     "data": {
      "image/png": "[encoded data removed]",
      "text/plain": [
       "<Figure size 640x480 with 1 Axes>"
      ]
     },
     "metadata": {},
     "output_type": "display_data"
    }
   ],
   "source": [
    "diamonds.boxplot(column='carat', whis =4)"
   ]
  },
  {
   "cell_type": "code",
   "execution_count": 107,
   "id": "c41a1cf8-ac0f-415e-b651-9282d3deb95f",
   "metadata": {},
   "outputs": [
    {
     "data": {
      "text/plain": [
       "<Axes: title={'center': 'price'}, xlabel='clarity'>"
      ]
     },
     "execution_count": 107,
     "metadata": {},
     "output_type": "execute_result"
    },
    {
     "data": {
      "image/png": "[encoded data removed]",
      "text/plain": [
       "<Figure size 700x700 with 1 Axes>"
      ]
     },
     "metadata": {},
     "output_type": "display_data"
    }
   ],
   "source": [
    "diamonds.boxplot(column=\"price\",        # Column to plot\n",
    "                 by= \"clarity\",         # Column to split upon\n",
    "                 figsize= (7,7))        # Figure size"
   ]
  },
  {
   "cell_type": "code",
   "execution_count": 108,
   "id": "24e3e59f-b071-4531-9e8a-4c1a8fbccce4",
   "metadata": {},
   "outputs": [
    {
     "data": {
      "text/plain": [
       "<Axes: xlabel='clarity'>"
      ]
     },
     "execution_count": 108,
     "metadata": {},
     "output_type": "execute_result"
    },
    {
     "data": {
      "image/png": "[encoded data removed]",
      "text/plain": [
       "<Figure size 640x480 with 1 Axes>"
      ]
     },
     "metadata": {},
     "output_type": "display_data"
    }
   ],
   "source": [
    "carat_table = pd.crosstab(index=diamonds[\"clarity\"], \n",
    "                          columns=diamonds[\"color\"])\n",
    "carat_table.plot.bar(stacked = True)"
   ]
  },
  {
   "cell_type": "code",
   "execution_count": 109,
   "id": "710f6153-ada4-4352-8d3e-2d300e2a59fa",
   "metadata": {},
   "outputs": [
    {
     "data": {
      "text/plain": [
       "<Axes: xlabel='clarity'>"
      ]
     },
     "execution_count": 109,
     "metadata": {},
     "output_type": "execute_result"
    },
    {
     "data": {
      "image/png": "[encoded data removed]",
      "text/plain": [
       "<Figure size 640x480 with 1 Axes>"
      ]
     },
     "metadata": {},
     "output_type": "display_data"
    }
   ],
   "source": [
    "carat_table.plot.bar()  # stacked = False"
   ]
  },
  {
   "cell_type": "code",
   "execution_count": null,
   "id": "a0d0c1e3-c8f9-4463-8821-98abae1b1702",
   "metadata": {},
   "outputs": [],
   "source": []
  }
 ],
 "metadata": {
  "kernelspec": {
   "display_name": "Python 3 (ipykernel)",
   "language": "python",
   "name": "python3"
  },
  "language_info": {
   "codemirror_mode": {
    "name": "ipython",
    "version": 3
   },
   "file_extension": ".py",
   "mimetype": "text/x-python",
   "name": "python",
   "nbconvert_exporter": "python",
   "pygments_lexer": "ipython3",
   "version": "3.12.0"
  }
 },
 "nbformat": 4,
 "nbformat_minor": 5
}
