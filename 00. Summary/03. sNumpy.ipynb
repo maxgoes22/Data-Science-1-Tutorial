{
 "cells": [
  {
   "cell_type": "markdown",
   "id": "4e39db37-3ce9-49f7-8a19-1bdf233c5b34",
   "metadata": {},
   "source": [
    "# Numpy\n",
    "\n",
    "* Linear Algebra Library\n",
    "* numerical computing\n",
    "* to handle large multi-dimensional arrays and matrices\n",
    "* mathematical function to operate efficiently\n",
    "\n",
    "Advantages:\n",
    "1. **Efficient Arrays** of homogenous data types\n",
    "2. **Mathematical Functions**  operating elementwise on arrays\n",
    "3. **Linear Algebra Operations**\n",
    "4. **Random Number Generation**\n",
    "5. **Integration with other Libraries**\n",
    "6. **Memory Efficiency**"
   ]
  },
  {
   "cell_type": "code",
   "execution_count": 2,
   "id": "4d82b782-d394-4e5a-9be6-8db980906de7",
   "metadata": {},
   "outputs": [],
   "source": [
    "import numpy as np"
   ]
  },
  {
   "cell_type": "markdown",
   "id": "4aefaa0c-54b3-46bf-9b6d-b28e39566d22",
   "metadata": {},
   "source": [
    "## Numpy Arrays\n",
    "\n",
    "- vectors (1-dimensional)\n",
    "- matrices (generally 2-dimensional, but can have one row or one column)"
   ]
  },
  {
   "cell_type": "code",
   "execution_count": 3,
   "id": "2d81a6e8-0098-404a-8abc-1a57da11a02a",
   "metadata": {},
   "outputs": [
    {
     "data": {
      "text/plain": [
       "numpy.ndarray"
      ]
     },
     "execution_count": 3,
     "metadata": {},
     "output_type": "execute_result"
    }
   ],
   "source": [
    "# turn a list into an array\n",
    "ghg = [4,8,2,1,90]\n",
    "type(np.array(ghg))"
   ]
  },
  {
   "cell_type": "code",
   "execution_count": 4,
   "id": "65bdf49b-4e67-4c41-988b-27b025540e28",
   "metadata": {},
   "outputs": [
    {
     "data": {
      "text/plain": [
       "array([[ 89,  98,   2],\n",
       "       [894,  30,  43],\n",
       "       [894,  34,  98]])"
      ]
     },
     "execution_count": 4,
     "metadata": {},
     "output_type": "execute_result"
    }
   ],
   "source": [
    "# turn a list into a matrix\n",
    "zou = [[89,98,2,], [894, 30, 43], [894, 34,98]]\n",
    "np.array(zou)"
   ]
  },
  {
   "cell_type": "markdown",
   "id": "9ac5c913-7b64-480a-b55e-d32b7a8d32c0",
   "metadata": {},
   "source": [
    "### Built-in methods/functions"
   ]
  },
  {
   "cell_type": "markdown",
   "id": "530fbee2-2ded-4682-bb8a-24e76d39ca50",
   "metadata": {},
   "source": [
    "| function/method  | use |        \n",
    "|----------|-----------|\n",
    "| `np.arange(start, end+1, space)` | return evenly spaced values within a given interval <br> default space: 1 |\n",
    "| `np.zeros()`| to create zero arrays or matrices |\n",
    "| `np.ones()` | to create one arrays or matrices \n",
    "| `np.linspace(start, stop, num)` | return evenly spaced values within a given interval, <br> but **indicating the amount of values supposed to be generated (num)** <br> *includes end value* |\n",
    "| `np.eye()` | creates an identity matrix (#columns = #rows)|\n",
    "| `np.random.rand()` | creates an array of the given shape/length and fills it with random samples of a *uniform distribution* `[0,1)` <br> **only one bracket `()` needed for matrix creation!**|\n",
    "| `np.random.randn()` |return sample(s) from the *standard normal distribution* <br> **only one bracket `()` needed for matrix creation!**|\n",
    "| `np.random.randint(start, end+1, (num))` | return random integers for given interval, indicating the amount of values supposed to be generated (num) <br> shape of output determined with `num`, `(x,y)` creates matrix, just `x` creates array, no `num` input creates a single number |\n",
    "\n",
    "\n",
    "*Creating matrices with numpy functions requires two round brackets!*  \n",
    "e.g. `np.zeros((x,y))`; creates a matrix with x rows and y columns"
   ]
  },
  {
   "cell_type": "code",
   "execution_count": 7,
   "id": "57c95418-352d-4726-8a96-89743255919b",
   "metadata": {},
   "outputs": [
    {
     "name": "stdout",
     "output_type": "stream",
     "text": [
      "[ 5  6  7  8  9 10 11 12 13 14 15 16 17 18 19 20 21 22 23 24 25 26 27 28\n",
      " 29 30 31 32 33 34 35 36 37 38 39 40 41 42 43 44 45 46 47 48 49 50 51 52\n",
      " 53 54 55]\n",
      "[ 5 10 15 20 25 30 35 40 45 50 55]\n"
     ]
    }
   ],
   "source": [
    "# arange\n",
    "print(np.arange(5, 56))\n",
    "print(np.arange(5,56, 5))"
   ]
  },
  {
   "cell_type": "code",
   "execution_count": 8,
   "id": "58632bae-7aa0-4156-baaa-8ae12cb9b891",
   "metadata": {},
   "outputs": [
    {
     "name": "stdout",
     "output_type": "stream",
     "text": [
      "[0. 0. 0. 0. 0. 0. 0. 0. 0.]\n",
      "[[0. 0. 0.]\n",
      " [0. 0. 0.]\n",
      " [0. 0. 0.]\n",
      " [0. 0. 0.]\n",
      " [0. 0. 0.]\n",
      " [0. 0. 0.]\n",
      " [0. 0. 0.]\n",
      " [0. 0. 0.]]\n"
     ]
    }
   ],
   "source": [
    "# zero array\n",
    "print(np.zeros(9))\n",
    "\n",
    "# zero matrix\n",
    "print(np.zeros((8,3)))"
   ]
  },
  {
   "cell_type": "code",
   "execution_count": 14,
   "id": "dae5472b-e6e8-4f93-935d-be02e988228e",
   "metadata": {},
   "outputs": [
    {
     "name": "stdout",
     "output_type": "stream",
     "text": [
      "[1. 1. 1. 1. 1. 1. 1.]\n",
      "[[1. 1. 1. 1. 1. 1.]\n",
      " [1. 1. 1. 1. 1. 1.]\n",
      " [1. 1. 1. 1. 1. 1.]\n",
      " [1. 1. 1. 1. 1. 1.]]\n"
     ]
    }
   ],
   "source": [
    "# one array\n",
    "print(np.ones(7))\n",
    "\n",
    "# one matrix\n",
    "print(np.ones((4,6)))"
   ]
  },
  {
   "cell_type": "code",
   "execution_count": 16,
   "id": "4cbf98e3-7ab4-4bab-800e-6ed8266e7048",
   "metadata": {},
   "outputs": [
    {
     "name": "stdout",
     "output_type": "stream",
     "text": [
      "[ 9.          9.33707865  9.6741573  10.01123596 10.34831461 10.68539326\n",
      " 11.02247191 11.35955056 11.69662921 12.03370787 12.37078652 12.70786517\n",
      " 13.04494382 13.38202247 13.71910112 14.05617978 14.39325843 14.73033708\n",
      " 15.06741573 15.40449438 15.74157303 16.07865169 16.41573034 16.75280899\n",
      " 17.08988764 17.42696629 17.76404494 18.1011236  18.43820225 18.7752809\n",
      " 19.11235955 19.4494382  19.78651685 20.12359551 20.46067416 20.79775281\n",
      " 21.13483146 21.47191011 21.80898876 22.14606742 22.48314607 22.82022472\n",
      " 23.15730337 23.49438202 23.83146067 24.16853933 24.50561798 24.84269663\n",
      " 25.17977528 25.51685393 25.85393258 26.19101124 26.52808989 26.86516854\n",
      " 27.20224719 27.53932584 27.87640449 28.21348315 28.5505618  28.88764045\n",
      " 29.2247191  29.56179775 29.8988764  30.23595506 30.57303371 30.91011236\n",
      " 31.24719101 31.58426966 31.92134831 32.25842697 32.59550562 32.93258427\n",
      " 33.26966292 33.60674157 33.94382022 34.28089888 34.61797753 34.95505618\n",
      " 35.29213483 35.62921348 35.96629213 36.30337079 36.64044944 36.97752809\n",
      " 37.31460674 37.65168539 37.98876404 38.3258427  38.66292135 39.        ]\n",
      "[ 9.   12.75 16.5  20.25 24.   27.75 31.5  35.25 39.  ]\n"
     ]
    }
   ],
   "source": [
    "# same interval, different amount of values to be generated\n",
    "print(np.linspace(9,39, 90))\n",
    "print(np.linspace(9,39, 9))"
   ]
  },
  {
   "cell_type": "code",
   "execution_count": 17,
   "id": "a5160f8b-e57e-4e18-95d1-9eaa732b1bf1",
   "metadata": {},
   "outputs": [
    {
     "data": {
      "text/plain": [
       "array([[1., 0., 0., 0., 0.],\n",
       "       [0., 1., 0., 0., 0.],\n",
       "       [0., 0., 1., 0., 0.],\n",
       "       [0., 0., 0., 1., 0.],\n",
       "       [0., 0., 0., 0., 1.]])"
      ]
     },
     "execution_count": 17,
     "metadata": {},
     "output_type": "execute_result"
    }
   ],
   "source": [
    "# identity matrix\n",
    "np.eye(5)"
   ]
  },
  {
   "cell_type": "code",
   "execution_count": 22,
   "id": "ea3822f1-4be8-4ce3-825f-31bcefc38348",
   "metadata": {},
   "outputs": [
    {
     "name": "stdout",
     "output_type": "stream",
     "text": [
      "[0.65177472 0.57384436 0.62315518 0.69701813 0.33314493 0.63743041\n",
      " 0.35476725 0.71702625]\n",
      "[[0.38209836 0.9620591 ]\n",
      " [0.70235626 0.06382102]\n",
      " [0.56278618 0.9251303 ]\n",
      " [0.50070505 0.03238894]\n",
      " [0.28634271 0.83176836]\n",
      " [0.45920274 0.30648286]\n",
      " [0.07046856 0.694151  ]\n",
      " [0.70691071 0.13790036]]\n"
     ]
    }
   ],
   "source": [
    "# uniform distribution\n",
    "# random.rand array\n",
    "print(np.random.rand(8))\n",
    "\n",
    "# random.rand matrix; caution: one bracket, two values!\n",
    "print(np.random.rand(8,2))"
   ]
  },
  {
   "cell_type": "code",
   "execution_count": 24,
   "id": "1a7408ff-765b-49ea-8eaa-a5c636090806",
   "metadata": {},
   "outputs": [
    {
     "name": "stdout",
     "output_type": "stream",
     "text": [
      "[0.9497436  1.16417594 0.20613087]\n",
      "[[ 0.82895394]\n",
      " [ 0.40889015]\n",
      " [ 1.83744319]\n",
      " [-0.72949282]\n",
      " [-0.88755003]\n",
      " [ 1.15918054]\n",
      " [-0.65925897]\n",
      " [-0.28590442]\n",
      " [-1.43580048]]\n"
     ]
    }
   ],
   "source": [
    "# standard normal distribution\n",
    "\n",
    "# axis zero from left to right\n",
    "print(np.random.randn(3))  \n",
    "\n",
    "# axis zero downward\n",
    "print(np.random.randn(9,1))"
   ]
  },
  {
   "cell_type": "code",
   "execution_count": 28,
   "id": "deb557e4-5ede-497d-8675-0a92b94c9e21",
   "metadata": {},
   "outputs": [
    {
     "name": "stdout",
     "output_type": "stream",
     "text": [
      "728\n",
      "[ 33  64 142  62  69 150]\n",
      "[[42 10 43]\n",
      " [45 10 36]\n",
      " [42 10  9]\n",
      " [22 34 24]\n",
      " [19 28 38]]\n"
     ]
    }
   ],
   "source": [
    "# random integers\n",
    "\n",
    "# single number\n",
    "print(np.random.randint(1,901))\n",
    "\n",
    "# array\n",
    "print(np.random.randint(2, 247, 6))\n",
    "\n",
    "# matrix\n",
    "print(np.random.randint(6, 46, (5,3)))\n"
   ]
  },
  {
   "cell_type": "markdown",
   "id": "5fb75a2a-ad6a-40ce-9375-4f3ad9a1e5e9",
   "metadata": {},
   "source": [
    "### Attributes and Methods\n",
    "\n",
    "NumPy arrays are implemented as `ndarray` class\n",
    "\n",
    "```python\n",
    "class numpy.ndarray(shape, dtype=float, buffer=None, offset=0, strides=None, order=None)\n",
    "```\n",
    "\n",
    "that pocesses a number of attributes and methods."
   ]
  },
  {
   "cell_type": "markdown",
   "id": "4a7ee7e2-0208-4ea2-83f1-e397a767128c",
   "metadata": {},
   "source": [
    "`ndarray` is a placeholder for any variable containing an ndarray.\n",
    "\n",
    "| method  | use |        \n",
    "|----------|-----------|\n",
    "| `ndarray.reshape()` | returns an array with the same data in a new shape |\n",
    "| `ndarray.max()`| leave brackets empty, gives maximum value |\n",
    "| `ndarray.argmax()`| leave brackets empty, gives *index* of maximum value |\n",
    "| `ndarray.min()`| leave brackets empty, gives minimum value |\n",
    "| `ndarray.argmin()`| leave brackets empty, gives *index* of minimum value |\n",
    "\n",
    "| attribute  | use |        \n",
    "|----------|-----------|\n",
    "|`ndarray.shape` | returns shape of the array |\n",
    "| `nd.array.dtype`| returns data type of the object in the array |\n"
   ]
  },
  {
   "cell_type": "code",
   "execution_count": 37,
   "id": "5df63ef4-5180-46ad-9cd8-de795173932a",
   "metadata": {},
   "outputs": [
    {
     "name": "stdout",
     "output_type": "stream",
     "text": [
      "<class 'numpy.ndarray'>\n",
      "<class 'numpy.ndarray'>\n"
     ]
    }
   ],
   "source": [
    "# create arrays to work with\n",
    "obj = np.arange(30)\n",
    "ranobj = np.random.randint(90,300, 22)\n",
    "\n",
    "print(type(obj))\n",
    "print(type(ranobj))"
   ]
  },
  {
   "cell_type": "code",
   "execution_count": 46,
   "id": "c9718ee1-47e0-4a7e-84df-a5c059f523b0",
   "metadata": {},
   "outputs": [
    {
     "name": "stdout",
     "output_type": "stream",
     "text": [
      "[[ 0  1  2  3  4  5]\n",
      " [ 6  7  8  9 10 11]\n",
      " [12 13 14 15 16 17]\n",
      " [18 19 20 21 22 23]\n",
      " [24 25 26 27 28 29]]\n",
      "<class 'numpy.ndarray'>\n",
      "(5, 6)\n",
      "(15, 2)\n",
      "int64\n",
      "94\n",
      "11\n"
     ]
    }
   ],
   "source": [
    "# number of values has to fit the shape\n",
    "newshape_obj = obj.reshape(5,6)\n",
    "print(newshape_obj)\n",
    "print(type(newshape_obj))\n",
    "\n",
    "# shape attribute (NO BRACKETS!)\n",
    "print(newshape_obj.shape)\n",
    "\n",
    "# reshape again and call shape immediately\n",
    "print(newshape_obj.reshape(15,2).shape)\n",
    "\n",
    "# data type attribute\n",
    "print(ranobj.dtype)\n",
    "\n",
    "# other methods\n",
    "print(ranobj.min())\n",
    "print(ranobj.argmin())"
   ]
  },
  {
   "cell_type": "markdown",
   "id": "f9844a12-48b9-4716-9610-1dc41fa237cc",
   "metadata": {},
   "source": [
    "## Indexing and Selection"
   ]
  },
  {
   "cell_type": "markdown",
   "id": "4b2f01c1-3b4d-4ecf-b4b4-769596edceda",
   "metadata": {},
   "source": [
    "### 1-D array\n",
    "* same as python lists\n",
    "\n",
    "### 2-D array\n",
    "* general format is `arr_2d[row][col]` or `arr_2d[row,col]` \n",
    "* Caution: **slicing with comma separation**\n",
    "\n",
    "* slicing a matrix *\"from top right corner\"*\n",
    "\n",
    "### Fancy Indexing\n",
    "* selecting rows or columns out of order with double square brackets `[[]]`\n",
    "* possible to select every i-th element of an array using `::`\n",
    "* example:\n",
    "    * `print(mat2[3::8, ::6])` \n",
    "    * `3::8` -> specifies the row indices. It means start selecting rows from index 3 (inclusive) and select every 8th row thereafter\n",
    "    * `::6` -> specifies the column indices. It means select every 6th column starting from the beginning.\n",
    "\n",
    "### Boolean Indexing\n",
    "*  possible to perform selection of `ndarray` elements using boolean indexing\n",
    "*  possible to compare elements of an array to a scalar\n",
    "*  create a boolean array and use it for filtering out elements of an original array that reside on same \"places\" as False elements of the boolean array\n",
    "*  *For which values in the array it the statement true?*\n"
   ]
  },
  {
   "cell_type": "code",
   "execution_count": 69,
   "id": "0e52cc8a-e14c-4a16-8cad-c3583af15262",
   "metadata": {},
   "outputs": [],
   "source": [
    "# create arrays to work with\n",
    "obj = np.arange(30)\n",
    "ranobj = np.random.randint(90,300, 22)\n",
    "\n",
    "mat = np.random.randint(340, 500, (3,3))"
   ]
  },
  {
   "cell_type": "code",
   "execution_count": 70,
   "id": "667e2ae1-9078-4df2-bc13-335635ac65bc",
   "metadata": {},
   "outputs": [
    {
     "name": "stdout",
     "output_type": "stream",
     "text": [
      "29\n",
      "[ 6  7  8  9 10 11 12 13 14 15 16 17 18 19 20 21 22 23 24 25 26 27 28 29]\n",
      "[276 289]\n"
     ]
    }
   ],
   "source": [
    "# array\n",
    "# grab values with indexing\n",
    "print(obj[29])\n",
    "print(obj[6:])\n",
    "print(ranobj[7:9])"
   ]
  },
  {
   "cell_type": "code",
   "execution_count": 85,
   "id": "13674b8d-3c93-4265-8f78-90fda5e0c5bc",
   "metadata": {},
   "outputs": [
    {
     "name": "stdout",
     "output_type": "stream",
     "text": [
      "[[354 359 455]\n",
      " [467 445 419]\n",
      " [439 414 483]]\n",
      "[439 414 483]\n",
      "414\n",
      "414\n",
      "[455 419 483]\n",
      "[[445 419]\n",
      " [414 483]]\n",
      "[[359 455]\n",
      " [445 419]]\n"
     ]
    }
   ],
   "source": [
    "# matrix\n",
    "print(mat)\n",
    "\n",
    "# grab a whole row:\n",
    "print(mat[2])\n",
    "\n",
    "# grab specific value from row:\n",
    "print(mat[2][1])\n",
    "print(mat[2,1])\n",
    "\n",
    "# slicing: all rows, last column\n",
    "print(mat[:,2])\n",
    "\n",
    "# slicing: last two rows, last two columns\n",
    "print(mat[1:,1:])\n",
    "\n",
    "# slicing: first two rows, last two columns\n",
    "print(mat[:2,1:])"
   ]
  },
  {
   "cell_type": "code",
   "execution_count": 93,
   "id": "85bcf6bd-9bc0-4821-9701-ca238822b612",
   "metadata": {},
   "outputs": [
    {
     "name": "stdout",
     "output_type": "stream",
     "text": [
      "[[972 879 583 477 534 424 904 945 455]\n",
      " [670 421 572 897 949 717 898 572 897]\n",
      " [975 934 685 431 367 467 495 554 582]\n",
      " [725 799 837 507 490 715 346 824 552]\n",
      " [635 659 323 474 773 690 905 727 605]\n",
      " [593 585 405 789 463 834 778 431 852]\n",
      " [941 466 855 486 741 781 378 794 719]\n",
      " [940 332 957 776 445 375 555 877 687]\n",
      " [620 444 695 509 927 576 321 716 606]\n",
      " [526 835 338 671 939 701 655 421 417]]\n",
      "[[725 799 837 507 490 715 346 824 552]\n",
      " [941 466 855 486 741 781 378 794 719]\n",
      " [975 934 685 431 367 467 495 554 582]\n",
      " [620 444 695 509 927 576 321 716 606]]\n",
      "[[477 904 583 455]\n",
      " [897 898 572 897]\n",
      " [431 495 685 582]\n",
      " [507 346 837 552]\n",
      " [474 905 323 605]\n",
      " [789 778 405 852]\n",
      " [486 378 855 719]\n",
      " [776 555 957 687]\n",
      " [509 321 695 606]\n",
      " [671 655 338 417]]\n",
      "[[725 346]]\n"
     ]
    }
   ],
   "source": [
    "mat2 = np.random.randint(300,984, (10,9))\n",
    "print(mat2)\n",
    "\n",
    "# fancy indexing:\n",
    "# selecting rows with index 3,6,2 and 8\n",
    "print(mat2[[3, 6, 2, 8], :])\n",
    "\n",
    "# selecting columns with index 3,6,2 and 8\n",
    "print(mat2[:,[3, 6, 2, 8]])\n",
    "\n",
    "# select every i-th element\n",
    "print(mat2[3::8, ::6])"
   ]
  },
  {
   "cell_type": "code",
   "execution_count": 99,
   "id": "356631b5-c804-48fe-8d97-b07661c30034",
   "metadata": {},
   "outputs": [
    {
     "name": "stdout",
     "output_type": "stream",
     "text": [
      "[ 0  1  2  3  4  5  6  7  8  9 10 11 12 13 14 15 16 17 18 19 20 21 22 23\n",
      " 24 25 26 27 28 29]\n",
      "[False False False False False False False False False False False False\n",
      " False  True  True  True  True  True  True  True  True  True  True  True\n",
      "  True  True  True  True  True  True]\n",
      "[ True  True  True  True  True  True  True  True False False False False\n",
      " False False False False False False False False False False False False\n",
      " False False False False False False]\n",
      "[0 1 2 3 4 5 6 7]\n",
      "[21 22 23 24 25 26 27 28 29]\n"
     ]
    }
   ],
   "source": [
    "print(obj)\n",
    "\n",
    "# boolean indexing\n",
    "print(obj > 12)\n",
    "\n",
    "# create boolean area to filter elements for which statement is FALSE\n",
    "boo_obj = obj < 8\n",
    "print(boo_obj)\n",
    "\n",
    "# filter elements based on boolean array\n",
    "print(obj[boo_obj])\n",
    "\n",
    "# works as well in one go\n",
    "print(obj[obj > 20])"
   ]
  },
  {
   "cell_type": "markdown",
   "id": "cd418bc2-08e7-47c9-b9b9-b2bab68b3d0e",
   "metadata": {},
   "source": [
    "## Arithmetic Operations"
   ]
  },
  {
   "cell_type": "code",
   "execution_count": 104,
   "id": "9d8e9935-a0cd-4b27-920a-085de9ffc90e",
   "metadata": {},
   "outputs": [
    {
     "name": "stdout",
     "output_type": "stream",
     "text": [
      "[ 0  2  4  6  8 10 12 14 16 18 20 22 24 26 28 30 32 34 36 38 40 42 44 46\n",
      " 48 50 52 54 56 58]\n",
      "[  0   1   4   9  16  25  36  49  64  81 100 121 144 169 196 225 256 289\n",
      " 324 361 400 441 484 529 576 625 676 729 784 841]\n",
      "[0 0 0 0 0 0 0 0 0 0 0 0 0 0 0 0 0 0 0 0 0 0 0 0 0 0 0 0 0 0]\n",
      "[nan  1.  1.  1.  1.  1.  1.  1.  1.  1.  1.  1.  1.  1.  1.  1.  1.  1.\n",
      "  1.  1.  1.  1.  1.  1.  1.  1.  1.  1.  1.  1.]\n",
      "[       inf 1.         0.5        0.33333333 0.25       0.2\n",
      " 0.16666667 0.14285714 0.125      0.11111111 0.1        0.09090909\n",
      " 0.08333333 0.07692308 0.07142857 0.06666667 0.0625     0.05882353\n",
      " 0.05555556 0.05263158 0.05       0.04761905 0.04545455 0.04347826\n",
      " 0.04166667 0.04       0.03846154 0.03703704 0.03571429 0.03448276]\n",
      "[           0            1          256         6561        65536\n",
      "       390625      1679616      5764801     16777216     43046721\n",
      "    100000000    214358881    429981696    815730721   1475789056\n",
      "   2562890625   4294967296   6975757441  11019960576  16983563041\n",
      "  25600000000  37822859361  54875873536  78310985281 110075314176\n",
      " 152587890625 208827064576 282429536481 377801998336 500246412961]\n"
     ]
    },
    {
     "name": "stderr",
     "output_type": "stream",
     "text": [
      "/var/folders/dp/xjkh2hmd75l5n7n96tm19qqm0000gn/T/ipykernel_1317/1748352072.py:8: RuntimeWarning: invalid value encountered in divide\n",
      "  print(obj / obj)\n",
      "/var/folders/dp/xjkh2hmd75l5n7n96tm19qqm0000gn/T/ipykernel_1317/1748352072.py:9: RuntimeWarning: divide by zero encountered in divide\n",
      "  print(1/obj)\n"
     ]
    }
   ],
   "source": [
    "# adds values pairwise (doesn't just paste the arrays together)\n",
    "print(obj + obj)\n",
    "\n",
    "# multiplies pairwise\n",
    "print(obj*obj)\n",
    "\n",
    "print(obj - obj)\n",
    "\n",
    "print(obj / obj)\n",
    "\n",
    "print(1/obj)\n",
    "\n",
    "print(obj**8)\n"
   ]
  },
  {
   "cell_type": "markdown",
   "id": "20058d89-2461-45d4-88df-a4923726847c",
   "metadata": {},
   "source": [
    "### Universal Array Functions"
   ]
  },
  {
   "cell_type": "code",
   "execution_count": 105,
   "id": "f53a9829-b04a-4501-906a-72c719607dc1",
   "metadata": {},
   "outputs": [
    {
     "name": "stdout",
     "output_type": "stream",
     "text": [
      "[0.         1.         1.41421356 1.73205081 2.         2.23606798\n",
      " 2.44948974 2.64575131 2.82842712 3.         3.16227766 3.31662479\n",
      " 3.46410162 3.60555128 3.74165739 3.87298335 4.         4.12310563\n",
      " 4.24264069 4.35889894 4.47213595 4.58257569 4.69041576 4.79583152\n",
      " 4.89897949 5.         5.09901951 5.19615242 5.29150262 5.38516481]\n",
      "[1.00000000e+00 2.71828183e+00 7.38905610e+00 2.00855369e+01\n",
      " 5.45981500e+01 1.48413159e+02 4.03428793e+02 1.09663316e+03\n",
      " 2.98095799e+03 8.10308393e+03 2.20264658e+04 5.98741417e+04\n",
      " 1.62754791e+05 4.42413392e+05 1.20260428e+06 3.26901737e+06\n",
      " 8.88611052e+06 2.41549528e+07 6.56599691e+07 1.78482301e+08\n",
      " 4.85165195e+08 1.31881573e+09 3.58491285e+09 9.74480345e+09\n",
      " 2.64891221e+10 7.20048993e+10 1.95729609e+11 5.32048241e+11\n",
      " 1.44625706e+12 3.93133430e+12]\n",
      "29\n",
      "[ 0.          0.84147098  0.90929743  0.14112001 -0.7568025  -0.95892427\n",
      " -0.2794155   0.6569866   0.98935825  0.41211849 -0.54402111 -0.99999021\n",
      " -0.53657292  0.42016704  0.99060736  0.65028784 -0.28790332 -0.96139749\n",
      " -0.75098725  0.14987721  0.91294525  0.83665564 -0.00885131 -0.8462204\n",
      " -0.90557836 -0.13235175  0.76255845  0.95637593  0.27090579 -0.66363388]\n",
      "[      -inf 0.         0.69314718 1.09861229 1.38629436 1.60943791\n",
      " 1.79175947 1.94591015 2.07944154 2.19722458 2.30258509 2.39789527\n",
      " 2.48490665 2.56494936 2.63905733 2.7080502  2.77258872 2.83321334\n",
      " 2.89037176 2.94443898 2.99573227 3.04452244 3.09104245 3.13549422\n",
      " 3.17805383 3.21887582 3.25809654 3.29583687 3.33220451 3.36729583]\n"
     ]
    },
    {
     "name": "stderr",
     "output_type": "stream",
     "text": [
      "/var/folders/dp/xjkh2hmd75l5n7n96tm19qqm0000gn/T/ipykernel_1317/2243797892.py:9: RuntimeWarning: divide by zero encountered in log\n",
      "  print(np.log(obj))\n"
     ]
    }
   ],
   "source": [
    "print(np.sqrt(obj))\n",
    "\n",
    "print(np.exp(obj))\n",
    "\n",
    "print(np.max(obj))\n",
    "\n",
    "print(np.sin(obj))\n",
    "\n",
    "print(np.log(obj))\n"
   ]
  },
  {
   "cell_type": "code",
   "execution_count": null,
   "id": "adc6b403-6469-4195-a046-968630f0155f",
   "metadata": {},
   "outputs": [],
   "source": []
  }
 ],
 "metadata": {
  "kernelspec": {
   "display_name": "Python 3 (ipykernel)",
   "language": "python",
   "name": "python3"
  },
  "language_info": {
   "codemirror_mode": {
    "name": "ipython",
    "version": 3
   },
   "file_extension": ".py",
   "mimetype": "text/x-python",
   "name": "python",
   "nbconvert_exporter": "python",
   "pygments_lexer": "ipython3",
   "version": "3.12.0"
  }
 },
 "nbformat": 4,
 "nbformat_minor": 5
}
