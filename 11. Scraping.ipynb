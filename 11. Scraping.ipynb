{
 "cells": [
  {
   "cell_type": "markdown",
   "metadata": {},
   "source": [
    "# Scraping WWW Exercise"
   ]
  },
  {
   "cell_type": "markdown",
   "metadata": {
    "inputHidden": false,
    "outputHidden": false
   },
   "source": [
    "## Exercise 1"
   ]
  },
  {
   "cell_type": "markdown",
   "metadata": {},
   "source": [
    "Examine front page of BILD newspaper (www.bild.de) and create a list of all articles that can be found on that page. Each item of the list must contain\n",
    "\n",
    "* article title,\n",
    "* main image of the article,\n",
    "* url of the article.\n",
    "\n",
    "**Hint:**\n",
    "\n",
    "* request content of `www.bild.de` page and use `\"rel\": \"bookmark\"` properties for identifying links pointing at articles,\n",
    "* request the content of each article for obtaining the url, the title, the teaser and main image of the article,\n",
    "* you can use `\"og\"` properties of `<meta>` tag whithin an article to retrieve its title, main image and url."
   ]
  },
  {
   "cell_type": "markdown",
   "metadata": {},
   "source": [
    "### 1. Import libraries"
   ]
  },
  {
   "cell_type": "code",
   "execution_count": 1,
   "metadata": {
    "scrolled": true
   },
   "outputs": [],
   "source": [
    "import requests\n",
    "import bs4"
   ]
  },
  {
   "cell_type": "markdown",
   "metadata": {},
   "source": [
    "### 2. Scrape bild.de"
   ]
  },
  {
   "cell_type": "code",
   "execution_count": 2,
   "metadata": {},
   "outputs": [],
   "source": [
    "url = 'http://www.bild.de'\n",
    "page = requests.get(url).text"
   ]
  },
  {
   "cell_type": "markdown",
   "metadata": {},
   "source": [
    "### 3. Create a BeautifulSoup object"
   ]
  },
  {
   "cell_type": "code",
   "execution_count": 4,
   "metadata": {},
   "outputs": [],
   "source": [
    "page = bs4.BeautifulSoup(page, 'html.parser')"
   ]
  },
  {
   "cell_type": "markdown",
   "metadata": {},
   "source": [
    "### 4. Create a list of article links"
   ]
  },
  {
   "cell_type": "code",
   "execution_count": 5,
   "metadata": {},
   "outputs": [
    {
     "name": "stdout",
     "output_type": "stream",
     "text": [
      "117\n"
     ]
    }
   ],
   "source": [
    "article_links = [url + a['href'] for a in page.select('article a[href$=\"bild.html\"]')]\n",
    "\n",
    "print(len(article_links))"
   ]
  },
  {
   "cell_type": "markdown",
   "metadata": {},
   "source": [
    "### 5. Scrape the article data"
   ]
  },
  {
   "cell_type": "code",
   "execution_count": 26,
   "metadata": {},
   "outputs": [],
   "source": [
    "articles = []\n",
    "\n",
    "for link in article_links:\n",
    "    try:\n",
    "        # scrape the article\n",
    "        article = requests.get(link).text\n",
    "        article_bs_tree = bs4.BeautifulSoup(article, 'html.parser')\n",
    "        \n",
    "        # select relevant data from the article\n",
    "        title = article_bs_tree.find(name='meta', attrs={'property': 'og:title'}).get('content')\n",
    "        image = article_bs_tree.find(name='meta',  attrs={'property': 'og:image'}).get('content')\n",
    "        url = article_bs_tree.find(name='link', attrs={'rel': 'canonical'}).get('href')\n",
    "\n",
    "        # store the data in a dict\n",
    "        article = {\n",
    "                'title': title,\n",
    "                'image': image,\n",
    "                'url': url}\n",
    "        \n",
    "        # add that dict to the list of articles\n",
    "        articles.append(article)\n",
    "        \n",
    "    except Exception:\n",
    "        continue\n",
    "\n",
    "\n"
   ]
  },
  {
   "cell_type": "code",
   "execution_count": 25,
   "metadata": {},
   "outputs": [
    {
     "name": "stdout",
     "output_type": "stream",
     "text": [
      "[{'title': 'Gefälschte Idiotentests: MPU-Abzocker ohne Führerschein im Ferrari', 'image': 'https://images.bild.de/65c0b2a322c3637e12ee9d6f/c3ccd824748b138956e603207b0628da,56969e6?w=1280', 'url': 'https://www.bild.de/bild-plus/regional/koeln/regional/gefaelschte-idiotentests-mpu-abzocker-ohne-fuehrerschein-im-ferrari-87056642.bild.html'}, {'title': 'Kanye West: Fans fürchten nach Nackt-Auftritt um seine Frau Bianca', 'image': 'https://images.bild.de/65c33c01bfc8c93720775fe4/8837017ff6f28c0f534cf5e35ef0511e,85451f1?w=1280', 'url': 'https://www.bild.de/unterhaltung/leute/leute/kanye-west-fans-fuerchten-nach-nackt-auftritt-um-seine-frau-bianca-87066312.bild.html'}, {'title': 'DFB-Pokal: Viertelfinale zwischen Leverkusen und Stuttgart sorgt für Quoten-Rekord!', 'image': 'https://images.bild.de/65c3573cbfc8c9372077615a/85179069876389dd1aa44754aa9a76d7,690030c8?w=1280', 'url': 'https://www.bild.de/sport/fussball/dfb-pokal/dfb-pokal-viertelfinale-zwischen-leverkusen-und-stuttgart-sorgt-fuer-quoten-reko-87067164.bild.html'}]\n",
      "115\n"
     ]
    }
   ],
   "source": [
    "print(articles[:3])\n",
    "print(len(articles))"
   ]
  }
 ],
 "metadata": {
  "kernel_info": {
   "name": "python3"
  },
  "kernelspec": {
   "display_name": "Python 3 (ipykernel)",
   "language": "python",
   "name": "python3"
  },
  "language_info": {
   "codemirror_mode": {
    "name": "ipython",
    "version": 3
   },
   "file_extension": ".py",
   "mimetype": "text/x-python",
   "name": "python",
   "nbconvert_exporter": "python",
   "pygments_lexer": "ipython3",
   "version": "3.9.12"
  },
  "nteract": {
   "version": "0.12.3"
  }
 },
 "nbformat": 4,
 "nbformat_minor": 4
}
